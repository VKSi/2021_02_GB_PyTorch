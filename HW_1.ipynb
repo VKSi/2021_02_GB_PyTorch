{
  "nbformat": 4,
  "nbformat_minor": 0,
  "metadata": {
    "kernelspec": {
      "display_name": "Python 3",
      "language": "python",
      "name": "python3"
    },
    "language_info": {
      "codemirror_mode": {
        "name": "ipython",
        "version": 3
      },
      "file_extension": ".py",
      "mimetype": "text/x-python",
      "name": "python",
      "nbconvert_exporter": "python",
      "pygments_lexer": "ipython3",
      "version": "3.7.0"
    },
    "colab": {
      "name": "HW 1.ipynb",
      "provenance": [],
      "collapsed_sections": [],
      "include_colab_link": true
    },
    "accelerator": "GPU"
  },
  "cells": [
    {
      "cell_type": "markdown",
      "metadata": {
        "id": "view-in-github",
        "colab_type": "text"
      },
      "source": [
        "<a href=\"https://colab.research.google.com/github/VKSi/2021_02_GB_PyTorch/blob/main/HW_1.ipynb\" target=\"_parent\"><img src=\"https://colab.research.google.com/assets/colab-badge.svg\" alt=\"Open In Colab\"/></a>"
      ]
    },
    {
      "cell_type": "markdown",
      "metadata": {
        "id": "vHZGeGsxWzYf"
      },
      "source": [
        "<h1><center> “Фреймворк PyTorch для разработки искусственных нейронных сетей”</center></h1>"
      ]
    },
    {
      "cell_type": "markdown",
      "metadata": {
        "id": "OPR493l8WzYm"
      },
      "source": [
        "<h1><center>PyTorch: водное занятие</center></h1>"
      ]
    },
    {
      "cell_type": "markdown",
      "metadata": {
        "id": "GoOjt1iPW7I9"
      },
      "source": [
        "**Домашнее задание: **       \n",
        "1) Добиться вразумительного результата от модели, собранной на занятии (7 угаданныx картинок из 10 предложенных на семинаре).     \n",
        " Варианты изменений:     \n",
        " изменение слоёв и их количества;      \n",
        " изменение метода оптимизации;      \n",
        " изменение процесса обучения;      \n",
        " для продвинутых: преобразование данных transform\n",
        "\n",
        "2) Переписать данный туториал на pytorch: https://www.tensorflow.org/tutorials/quickstart/beginner?hl=ru\n"
      ]
    },
    {
      "cell_type": "markdown",
      "metadata": {
        "id": "dEWuBXskXqWW"
      },
      "source": [
        "### Установка"
      ]
    },
    {
      "cell_type": "code",
      "metadata": {
        "colab": {
          "base_uri": "https://localhost:8080/"
        },
        "id": "MELfCqMEWzYp",
        "outputId": "f369cab3-e572-41ba-bd04-180bc6f6d9b9"
      },
      "source": [
        "!pip3 install torch torchvision"
      ],
      "execution_count": null,
      "outputs": [
        {
          "output_type": "stream",
          "text": [
            "Requirement already satisfied: torch in /usr/local/lib/python3.7/dist-packages (1.8.0+cu101)\n",
            "Requirement already satisfied: torchvision in /usr/local/lib/python3.7/dist-packages (0.9.0+cu101)\n",
            "Requirement already satisfied: numpy in /usr/local/lib/python3.7/dist-packages (from torch) (1.19.5)\n",
            "Requirement already satisfied: typing-extensions in /usr/local/lib/python3.7/dist-packages (from torch) (3.7.4.3)\n",
            "Requirement already satisfied: pillow>=4.1.1 in /usr/local/lib/python3.7/dist-packages (from torchvision) (7.0.0)\n"
          ],
          "name": "stdout"
        }
      ]
    },
    {
      "cell_type": "code",
      "metadata": {
        "colab": {
          "base_uri": "https://localhost:8080/"
        },
        "id": "_1E53lpmWzYq",
        "outputId": "fdcf6856-1e23-41eb-8e73-d288a62a84b6"
      },
      "source": [
        "pip show torch"
      ],
      "execution_count": null,
      "outputs": [
        {
          "output_type": "stream",
          "text": [
            "Name: torch\n",
            "Version: 1.8.0+cu101\n",
            "Summary: Tensors and Dynamic neural networks in Python with strong GPU acceleration\n",
            "Home-page: https://pytorch.org/\n",
            "Author: PyTorch Team\n",
            "Author-email: packages@pytorch.org\n",
            "License: BSD-3\n",
            "Location: /usr/local/lib/python3.7/dist-packages\n",
            "Requires: numpy, typing-extensions\n",
            "Required-by: torchvision, torchtext, fastai\n"
          ],
          "name": "stdout"
        }
      ]
    },
    {
      "cell_type": "code",
      "metadata": {
        "colab": {
          "base_uri": "https://localhost:8080/"
        },
        "id": "UxOZX_jFWzYq",
        "outputId": "d92d5b6c-f14a-482c-ce06-074e491f73fd"
      },
      "source": [
        "pip show torchvision"
      ],
      "execution_count": null,
      "outputs": [
        {
          "output_type": "stream",
          "text": [
            "Name: torchvision\n",
            "Version: 0.9.0+cu101\n",
            "Summary: image and video datasets and models for torch deep learning\n",
            "Home-page: https://github.com/pytorch/vision\n",
            "Author: PyTorch Core Team\n",
            "Author-email: soumith@pytorch.org\n",
            "License: BSD\n",
            "Location: /usr/local/lib/python3.7/dist-packages\n",
            "Requires: torch, numpy, pillow\n",
            "Required-by: fastai\n"
          ],
          "name": "stdout"
        }
      ]
    },
    {
      "cell_type": "code",
      "metadata": {
        "colab": {
          "base_uri": "https://localhost:8080/"
        },
        "id": "-_Nd4aHIWzYq",
        "outputId": "da49688e-4412-4ac6-cd34-8c8b590ea45c"
      },
      "source": [
        "!nvcc --version"
      ],
      "execution_count": null,
      "outputs": [
        {
          "output_type": "stream",
          "text": [
            "nvcc: NVIDIA (R) Cuda compiler driver\n",
            "Copyright (c) 2005-2020 NVIDIA Corporation\n",
            "Built on Wed_Jul_22_19:09:09_PDT_2020\n",
            "Cuda compilation tools, release 11.0, V11.0.221\n",
            "Build cuda_11.0_bu.TC445_37.28845127_0\n"
          ],
          "name": "stdout"
        }
      ]
    },
    {
      "cell_type": "markdown",
      "metadata": {
        "id": "etElDVN2WzYq"
      },
      "source": [
        "### Подключение "
      ]
    },
    {
      "cell_type": "code",
      "metadata": {
        "id": "TrK8WC7fWzYr"
      },
      "source": [
        "import torch\n",
        "import torchvision\n",
        "from torch.autograd import Variable\n",
        "from torch import nn \n",
        "from torch import optim\n",
        "import numpy as np\n",
        "import torch.nn.functional as F"
      ],
      "execution_count": null,
      "outputs": []
    },
    {
      "cell_type": "markdown",
      "metadata": {
        "id": "7JeptcyYWzYr"
      },
      "source": [
        "## Часть, сделанная на вебинаре"
      ]
    },
    {
      "cell_type": "markdown",
      "metadata": {
        "id": "idJgf0p1WzYu"
      },
      "source": [
        "##### Функция для вывода данных о тензоре:"
      ]
    },
    {
      "cell_type": "code",
      "metadata": {
        "id": "Ph1JP4nyWzYu"
      },
      "source": [
        "def print_tens_info(tensor):\n",
        "    print(\"X :\\n%s\\n\" % tensor)\n",
        "    print(\"X количество измерений:\\n%s\\n\" % tensor.dim())\n",
        "    print(\"X размеры : \",  tensor.size())\n",
        "    print(\"X тип : %s\\n\" % (tensor.type()))\n",
        "    print(\"Добавим 10 :\\n%s\\n\" % (tensor + 10))\n",
        "#     print(\"Среднее по строчке :\\n%s\\n\" % (tensor.mean(axis=-1)))\n",
        "#     print(\"Среднее по столбцу :\\n%s\\n\" % (tensor.mean(axis=0)))\n",
        "    "
      ],
      "execution_count": null,
      "outputs": []
    },
    {
      "cell_type": "markdown",
      "metadata": {
        "id": "8Bz0mA9zWzY3"
      },
      "source": [
        "#### Загрузка существующего датасета:\n",
        "\n",
        "Теперь посмотрим как все это работает с помощью реального датасета:"
      ]
    },
    {
      "cell_type": "code",
      "metadata": {
        "colab": {
          "base_uri": "https://localhost:8080/"
        },
        "id": "D8GkhEFIZp02",
        "outputId": "dc4a4b76-80c1-426d-c032-cc4de077b435"
      },
      "source": [
        "from google.colab import drive\n",
        "drive.mount('/content/gdrive')"
      ],
      "execution_count": null,
      "outputs": [
        {
          "output_type": "stream",
          "text": [
            "Mounted at /content/gdrive\n"
          ],
          "name": "stdout"
        }
      ]
    },
    {
      "cell_type": "code",
      "metadata": {
        "id": "VjfyiO8vZw-3"
      },
      "source": [
        "PATH = 'gdrive/My Drive/AI/GB/PyTorch/'\n",
        "DATA_PATH = PATH + 'data/'"
      ],
      "execution_count": null,
      "outputs": []
    },
    {
      "cell_type": "code",
      "metadata": {
        "id": "pR6WyfTWWzY3"
      },
      "source": [
        "import torchvision.transforms as transforms\n",
        "import matplotlib.pyplot as plt ### воспользуемся для отображения изображения"
      ],
      "execution_count": null,
      "outputs": []
    },
    {
      "cell_type": "markdown",
      "metadata": {
        "id": "plSJP5dnWzY3"
      },
      "source": [
        "Будем рассматривать датасет CIFAR10, который представлен в библиотеке torchvision. "
      ]
    },
    {
      "cell_type": "code",
      "metadata": {
        "colab": {
          "base_uri": "https://localhost:8080/"
        },
        "id": "iqy5jJXyWzY3",
        "outputId": "8317d653-798e-4f9d-fdb9-98aa820cb237"
      },
      "source": [
        "train_dataset = torchvision.datasets.CIFAR10(root=DATA_PATH, # путь куда будут скачиваться наши данные(если download=true), \n",
        "                                                                 # или где лежат наши данные(dowload=False)\n",
        "                                             train=True, # говорим что используем датасет для обучения  \n",
        "                                             transform=transforms.ToTensor(), # важная строчка: здесь мы преобразуем данные\n",
        "                                                                                # из датасета в формат тензоров из торч\n",
        "                                             download=False)\n",
        "\n",
        "\n",
        "image, label = train_dataset[0]\n",
        "print (image.size())\n",
        "print (label)"
      ],
      "execution_count": null,
      "outputs": [
        {
          "output_type": "stream",
          "text": [
            "torch.Size([3, 32, 32])\n",
            "6\n"
          ],
          "name": "stdout"
        }
      ]
    },
    {
      "cell_type": "markdown",
      "metadata": {
        "id": "eAhT0aDGWzY4"
      },
      "source": [
        "Что бы вывести, наше изображение, нам нужно воспользоваться функцией permute и поменять размерности:"
      ]
    },
    {
      "cell_type": "code",
      "metadata": {
        "scrolled": true,
        "colab": {
          "base_uri": "https://localhost:8080/",
          "height": 283
        },
        "id": "4FgldKF7WzY4",
        "outputId": "9632d1f5-62a6-4822-b421-9330adc7968d"
      },
      "source": [
        "plt.imshow(image.permute(1, 2, 0).numpy())"
      ],
      "execution_count": null,
      "outputs": [
        {
          "output_type": "execute_result",
          "data": {
            "text/plain": [
              "<matplotlib.image.AxesImage at 0x7fad9349f350>"
            ]
          },
          "metadata": {
            "tags": []
          },
          "execution_count": 11
        },
        {
          "output_type": "display_data",
          "data": {
            "image/png": "[encoded data removed]",
            "text/plain": [
              "<Figure size 432x288 with 1 Axes>"
            ]
          },
          "metadata": {
            "tags": [],
            "needs_background": "light"
          }
        }
      ]
    },
    {
      "cell_type": "markdown",
      "metadata": {
        "id": "VlrObhncWzY4"
      },
      "source": [
        "Теперь скачав датасет, нам нужно его как-то оформить для загрузки в нашу модель. Делается это с помощью DataLoader:"
      ]
    },
    {
      "cell_type": "code",
      "metadata": {
        "id": "iL0Gi6IGWzY5"
      },
      "source": [
        "train_loader = torch.utils.data.DataLoader(dataset=train_dataset,\n",
        "                                           batch_size=64, \n",
        "                                           shuffle=True)"
      ],
      "execution_count": null,
      "outputs": []
    },
    {
      "cell_type": "code",
      "metadata": {
        "id": "LNzBWJRKWzY5"
      },
      "source": [
        "test_dataset = torchvision.datasets.CIFAR10(root=DATA_PATH, train=False,\n",
        "                                       download=False, transform=transforms.ToTensor())\n",
        "test_loader = torch.utils.data.DataLoader(test_dataset, batch_size=4,\n",
        "                                         shuffle=False)"
      ],
      "execution_count": null,
      "outputs": []
    },
    {
      "cell_type": "code",
      "metadata": {
        "id": "NptuV-A4WzY5"
      },
      "source": [
        "classes = ('plane', 'car', 'bird', 'cat',\n",
        "           'deer', 'dog', 'frog', 'horse', 'ship', 'truck')"
      ],
      "execution_count": null,
      "outputs": []
    },
    {
      "cell_type": "markdown",
      "metadata": {
        "id": "d3lMCfjWWzY5"
      },
      "source": [
        "Определим следующую модель:"
      ]
    },
    {
      "cell_type": "code",
      "metadata": {
        "id": "HSE1mSezWzY5"
      },
      "source": [
        "class Net(nn.Module):\n",
        "    def __init__(self):\n",
        "        super(Net, self).__init__()  \n",
        "        self.conv1 = nn.Conv2d(3, 6, 5)\n",
        "        self.pool = nn.MaxPool2d(2, 2)\n",
        "        self.conv2 = nn.Conv2d(6, 16, 5)  # 14x14x6 -> 5x5x16\n",
        "        self.fc1 = nn.Linear(16 * 5 * 5, 120)\n",
        "        self.fc2 = nn.Linear(120, 84)\n",
        "        self.fc3 = nn.Linear(84, 10)\n",
        "\n",
        "    def forward(self, x):\n",
        "        x = self.pool(F.relu(self.conv1(x)))  # 32x32 x3 -> 28x28 x6 -> 14x14 x6\n",
        "        x = self.pool(F.relu(self.conv2(x)))  # 14x14 x6 -> 10x10 x16 -> 5x5 x16\n",
        "        x = x.view(-1, 16 * 5 * 5)\n",
        "        x = F.relu(self.fc1(x))\n",
        "        x = F.relu(self.fc2(x))\n",
        "        x = self.fc3(x)\n",
        "        return x\n",
        "net = Net().to('cuda')"
      ],
      "execution_count": null,
      "outputs": []
    },
    {
      "cell_type": "code",
      "metadata": {
        "colab": {
          "base_uri": "https://localhost:8080/"
        },
        "id": "5nbTLdEoWzY6",
        "outputId": "3df19d71-c8cb-4ff0-8da0-4a839b5a9b09"
      },
      "source": [
        "net"
      ],
      "execution_count": null,
      "outputs": [
        {
          "output_type": "execute_result",
          "data": {
            "text/plain": [
              "Net(\n",
              "  (conv1): Conv2d(3, 6, kernel_size=(5, 5), stride=(1, 1))\n",
              "  (pool): MaxPool2d(kernel_size=2, stride=2, padding=0, dilation=1, ceil_mode=False)\n",
              "  (conv2): Conv2d(6, 16, kernel_size=(5, 5), stride=(1, 1))\n",
              "  (fc1): Linear(in_features=400, out_features=120, bias=True)\n",
              "  (fc2): Linear(in_features=120, out_features=84, bias=True)\n",
              "  (fc3): Linear(in_features=84, out_features=10, bias=True)\n",
              ")"
            ]
          },
          "metadata": {
            "tags": []
          },
          "execution_count": 16
        }
      ]
    },
    {
      "cell_type": "code",
      "metadata": {
        "id": "L2zRIuleWzY6"
      },
      "source": [
        "criterion = nn.CrossEntropyLoss()\n",
        "optimizer = optim.SGD(net.parameters(), lr=0.001, momentum=0.9)"
      ],
      "execution_count": null,
      "outputs": []
    },
    {
      "cell_type": "code",
      "metadata": {
        "id": "_dLgQTIpWzY6"
      },
      "source": [
        "def learning(net, _train_loader, _optimizer,  _criterion):\n",
        "  for epoch in range(10):  # 10 эпох \n",
        "      running_loss = 0.0 # Для вывода процесса обучения\n",
        "      for i, data in enumerate(_train_loader, 0):\n",
        "          inputs, labels = data[0], data[1]\n",
        "          inputs, labels = inputs.to('cuda'), labels.to('cuda')\n",
        "          # Обнуляем градиент\n",
        "          _optimizer.zero_grad()\n",
        "      \n",
        "          # Делаем предсказание\n",
        "          outputs = net(inputs)\n",
        "          # Рассчитываем лосс-функцию\n",
        "          loss = _criterion(outputs, labels)\n",
        "          # Делаем шаг назад по лоссу\n",
        "          loss.backward()\n",
        "          # Делаем шаг нашего оптимайзера\n",
        "          optimizer.step()\n",
        "\n",
        "          # выводим статистику о процессе обучения\n",
        "          running_loss += loss.item()\n",
        "          if i % 300 == 0:    # печатаем каждые 300 mini-batches\n",
        "              print('[%d, %5d] loss: %.3f' %\n",
        "                    (epoch + 1, i + 1, running_loss / 2000))\n",
        "              running_loss = 0.0\n",
        "\n",
        "  print('Training is finished!')\n",
        "  return net"
      ],
      "execution_count": null,
      "outputs": []
    },
    {
      "cell_type": "code",
      "metadata": {
        "colab": {
          "base_uri": "https://localhost:8080/"
        },
        "id": "oUZTeZWucqHG",
        "outputId": "d96bf988-c73c-40d0-b3b7-5fc638fcd683"
      },
      "source": [
        "net = learning(net, train_loader, optimizer,  criterion)"
      ],
      "execution_count": null,
      "outputs": [
        {
          "output_type": "stream",
          "text": [
            "[1,     1] loss: 0.001\n",
            "[1,   301] loss: 0.346\n",
            "[1,   601] loss: 0.345\n",
            "[2,     1] loss: 0.001\n",
            "[2,   301] loss: 0.345\n",
            "[2,   601] loss: 0.345\n",
            "[3,     1] loss: 0.001\n",
            "[3,   301] loss: 0.343\n",
            "[3,   601] loss: 0.337\n",
            "[4,     1] loss: 0.001\n",
            "[4,   301] loss: 0.309\n",
            "[4,   601] loss: 0.302\n",
            "[5,     1] loss: 0.001\n",
            "[5,   301] loss: 0.299\n",
            "[5,   601] loss: 0.293\n",
            "[6,     1] loss: 0.001\n",
            "[6,   301] loss: 0.287\n",
            "[6,   601] loss: 0.279\n",
            "[7,     1] loss: 0.001\n",
            "[7,   301] loss: 0.271\n",
            "[7,   601] loss: 0.266\n",
            "[8,     1] loss: 0.001\n",
            "[8,   301] loss: 0.257\n",
            "[8,   601] loss: 0.255\n",
            "[9,     1] loss: 0.001\n",
            "[9,   301] loss: 0.246\n",
            "[9,   601] loss: 0.242\n",
            "[10,     1] loss: 0.001\n",
            "[10,   301] loss: 0.236\n",
            "[10,   601] loss: 0.232\n",
            "Training is finished!\n"
          ],
          "name": "stdout"
        }
      ]
    },
    {
      "cell_type": "code",
      "metadata": {
        "id": "biFOWqQ2WzY9"
      },
      "source": [
        "def metrics(_net, _t_loader, label):\n",
        "  counter_pos = 0\n",
        "  counter_tot = 0\n",
        "  for i, data in enumerate(_t_loader, 0):\n",
        "    inputs, labels = data[0], data[1]\n",
        "    inputs, labels = inputs.to('cuda'), labels.to('cuda')\n",
        "    outputs = _net(inputs)\n",
        "    for j in range(len(labels)):\n",
        "      counter_tot += 1\n",
        "      counter_pos += int(outputs[j].argmax() == labels[j])\n",
        "  result = np.floor(counter_pos/counter_tot*100)/10\n",
        "  print(f'На сете {label} правильно предсказано {result} из 10')\n",
        "  return result\n",
        "\n",
        "def metrics_train_test(_net, _train_loader, _test_loader):\n",
        "  return metrics(_net=_net, _t_loader=_train_loader, label='train'), metrics(_net=_net, _t_loader=_test_loader, label='test')"
      ],
      "execution_count": null,
      "outputs": []
    },
    {
      "cell_type": "code",
      "metadata": {
        "colab": {
          "base_uri": "https://localhost:8080/"
        },
        "id": "FJG-deuFym7V",
        "outputId": "1e667a45-6ab4-4d1e-ba77-cfc62bf1525a"
      },
      "source": [
        "train_result, test_result = metrics_train_test(_net=net, _train_loader=train_loader, _test_loader=test_loader)"
      ],
      "execution_count": null,
      "outputs": [
        {
          "output_type": "stream",
          "text": [
            "На сете train правильно предсказано 4.5 из 10\n",
            "На сете test правильно предсказано 4.5 из 10\n"
          ],
          "name": "stdout"
        }
      ]
    },
    {
      "cell_type": "markdown",
      "metadata": {
        "id": "JJv4gU3MWzY6"
      },
      "source": [
        "#### Сохранение модели"
      ]
    },
    {
      "cell_type": "code",
      "metadata": {
        "id": "OdIsU9fyWzY7"
      },
      "source": [
        "torch.save(net.state_dict(), PATH + 'cifar_net_version_test_intro.pth')"
      ],
      "execution_count": null,
      "outputs": []
    },
    {
      "cell_type": "code",
      "metadata": {
        "colab": {
          "base_uri": "https://localhost:8080/"
        },
        "id": "2yNY9jQsWzY7",
        "outputId": "6e6f0986-efa6-44ad-8ffb-06758fb1a9af"
      },
      "source": [
        "print(\"Model state_dict: \")\n",
        "for param in net.state_dict():\n",
        "    print(param,\" \\ \", net.state_dict()[param].size())"
      ],
      "execution_count": null,
      "outputs": [
        {
          "output_type": "stream",
          "text": [
            "Model state_dict: \n",
            "conv1.weight  \\  torch.Size([6, 3, 5, 5])\n",
            "conv1.bias  \\  torch.Size([6])\n",
            "conv2.weight  \\  torch.Size([16, 6, 5, 5])\n",
            "conv2.bias  \\  torch.Size([16])\n",
            "fc1.weight  \\  torch.Size([120, 400])\n",
            "fc1.bias  \\  torch.Size([120])\n",
            "fc2.weight  \\  torch.Size([84, 120])\n",
            "fc2.bias  \\  torch.Size([84])\n",
            "fc3.weight  \\  torch.Size([10, 84])\n",
            "fc3.bias  \\  torch.Size([10])\n"
          ],
          "name": "stdout"
        }
      ]
    },
    {
      "cell_type": "markdown",
      "metadata": {
        "id": "WsXBYP20oO1b"
      },
      "source": [
        "## 7 из 10"
      ]
    },
    {
      "cell_type": "markdown",
      "metadata": {
        "id": "PDh0l1G_47iO"
      },
      "source": [
        "### Увеличим количество фитчей на каждом сверточном слое"
      ]
    },
    {
      "cell_type": "code",
      "metadata": {
        "id": "gOnsw2qqpGV5"
      },
      "source": [
        "class Net(nn.Module):\n",
        "    def __init__(self):\n",
        "        super(Net, self).__init__()  \n",
        "        self.conv1 = nn.Conv2d(3, 32, 5)\n",
        "        self.pool = nn.MaxPool2d(2, 2) \n",
        "        self.conv2 = nn.Conv2d(32, 64, 5)\n",
        "        self.fc1 = nn.Linear(64 * 5 * 5, 512)\n",
        "        self.fc2 = nn.Linear(512, 64)\n",
        "        self.fc3 = nn.Linear(64, 10)\n",
        "\n",
        "    def forward(self, x):\n",
        "        x = self.pool(F.relu(self.conv1(x)))   # 32x32 x3 -> 28x28 x32 -> 14x14 x32\n",
        "        x = self.pool(F.relu(self.conv2(x)))  # 14x14 x32 -> 10x10 x64 -> 5x5 x64\n",
        "        x = x.view(-1, 64 * 5 * 5)\n",
        "        x = F.relu(self.fc1(x))\n",
        "        x = F.relu(self.fc2(x))\n",
        "        x = self.fc3(x)\n",
        "        return x\n",
        "net = Net().to('cuda')"
      ],
      "execution_count": null,
      "outputs": []
    },
    {
      "cell_type": "code",
      "metadata": {
        "id": "YrhSA4XLm91h",
        "colab": {
          "base_uri": "https://localhost:8080/"
        },
        "outputId": "c974a981-7b20-4e7d-d05f-7d8cfd30d15c"
      },
      "source": [
        "net"
      ],
      "execution_count": null,
      "outputs": [
        {
          "output_type": "execute_result",
          "data": {
            "text/plain": [
              "Net(\n",
              "  (conv1): Conv2d(3, 32, kernel_size=(5, 5), stride=(1, 1))\n",
              "  (pool): MaxPool2d(kernel_size=2, stride=2, padding=0, dilation=1, ceil_mode=False)\n",
              "  (conv2): Conv2d(32, 64, kernel_size=(5, 5), stride=(1, 1))\n",
              "  (fc1): Linear(in_features=1600, out_features=512, bias=True)\n",
              "  (fc2): Linear(in_features=512, out_features=64, bias=True)\n",
              "  (fc3): Linear(in_features=64, out_features=10, bias=True)\n",
              ")"
            ]
          },
          "metadata": {
            "tags": []
          },
          "execution_count": 27
        }
      ]
    },
    {
      "cell_type": "code",
      "metadata": {
        "id": "4StdUb7Fm9yL",
        "colab": {
          "base_uri": "https://localhost:8080/"
        },
        "outputId": "1cad98b3-bc3b-49c9-b70b-6c769defd5a5"
      },
      "source": [
        "criterion = nn.CrossEntropyLoss()\n",
        "optimizer = optim.SGD(net.parameters(), lr=0.001, momentum=0.9)\n",
        "net = learning(net, train_loader, optimizer,  criterion)\n",
        "train_result, test_result = metrics_train_test(_net=net, _train_loader=train_loader, _test_loader=test_loader)"
      ],
      "execution_count": null,
      "outputs": [
        {
          "output_type": "stream",
          "text": [
            "[1,     1] loss: 0.001\n",
            "[1,   301] loss: 0.346\n",
            "[1,   601] loss: 0.345\n",
            "[2,     1] loss: 0.001\n",
            "[2,   301] loss: 0.344\n",
            "[2,   601] loss: 0.338\n",
            "[3,     1] loss: 0.001\n",
            "[3,   301] loss: 0.307\n",
            "[3,   601] loss: 0.298\n",
            "[4,     1] loss: 0.001\n",
            "[4,   301] loss: 0.285\n",
            "[4,   601] loss: 0.274\n",
            "[5,     1] loss: 0.001\n",
            "[5,   301] loss: 0.256\n",
            "[5,   601] loss: 0.246\n",
            "[6,     1] loss: 0.001\n",
            "[6,   301] loss: 0.236\n",
            "[6,   601] loss: 0.232\n",
            "[7,     1] loss: 0.001\n",
            "[7,   301] loss: 0.222\n",
            "[7,   601] loss: 0.225\n",
            "[8,     1] loss: 0.001\n",
            "[8,   301] loss: 0.217\n",
            "[8,   601] loss: 0.212\n",
            "[9,     1] loss: 0.001\n",
            "[9,   301] loss: 0.207\n",
            "[9,   601] loss: 0.206\n",
            "[10,     1] loss: 0.001\n",
            "[10,   301] loss: 0.200\n",
            "[10,   601] loss: 0.196\n",
            "Training is finished!\n",
            "На сете train правильно предсказано 5.4 из 10\n",
            "На сете test правильно предсказано 5.3 из 10\n"
          ],
          "name": "stdout"
        }
      ]
    },
    {
      "cell_type": "markdown",
      "metadata": {
        "id": "nDsRY6SS4Wsw"
      },
      "source": [
        "### Та же сеть с другим оптимизатором"
      ]
    },
    {
      "cell_type": "code",
      "metadata": {
        "id": "PUFo9uCD4Ss-"
      },
      "source": [
        "class Net(nn.Module):\n",
        "    def __init__(self):\n",
        "        super(Net, self).__init__()  \n",
        "        self.conv1 = nn.Conv2d(3, 32, 5)\n",
        "        self.pool = nn.MaxPool2d(2, 2) \n",
        "        self.conv2 = nn.Conv2d(32, 64, 5)\n",
        "        self.fc1 = nn.Linear(64 * 5 * 5, 512)\n",
        "        self.fc2 = nn.Linear(512, 64)\n",
        "        self.fc3 = nn.Linear(64, 10)\n",
        "\n",
        "    def forward(self, x):\n",
        "        x = self.pool(F.relu(self.conv1(x)))   # 32x32 x3 -> 28x28 x32 -> 14x14 x32\n",
        "        x = self.pool(F.relu(self.conv2(x)))  # 14x14 x32 -> 10x10 x64 -> 5x5 x64\n",
        "        x = x.view(-1, 64 * 5 * 5)\n",
        "        x = F.relu(self.fc1(x))\n",
        "        x = F.relu(self.fc2(x))\n",
        "        x = self.fc3(x)\n",
        "        return x\n",
        "net = Net().to('cuda')"
      ],
      "execution_count": null,
      "outputs": []
    },
    {
      "cell_type": "code",
      "metadata": {
        "colab": {
          "base_uri": "https://localhost:8080/"
        },
        "id": "zvxCYyxu4Som",
        "outputId": "2b720351-9d90-49e5-ecf9-c9dcc5d38cb1"
      },
      "source": [
        "criterion = nn.CrossEntropyLoss()\n",
        "optimizer = optim.RMSprop(net.parameters(), lr=0.01)\n",
        "net = learning(net, train_loader, optimizer,  criterion)\n",
        "train_result, test_result = metrics_train_test(_net=net, _train_loader=train_loader, _test_loader=test_loader)"
      ],
      "execution_count": null,
      "outputs": [
        {
          "output_type": "stream",
          "text": [
            "[1,     1] loss: 0.001\n",
            "[1,   301] loss: 27.121\n",
            "[1,   601] loss: 0.292\n",
            "[2,     1] loss: 0.001\n",
            "[2,   301] loss: 0.287\n",
            "[2,   601] loss: 0.273\n",
            "[3,     1] loss: 0.001\n",
            "[3,   301] loss: 0.346\n",
            "[3,   601] loss: 0.290\n",
            "[4,     1] loss: 0.001\n",
            "[4,   301] loss: 0.249\n",
            "[4,   601] loss: 0.246\n",
            "[5,     1] loss: 0.001\n",
            "[5,   301] loss: 0.235\n",
            "[5,   601] loss: 0.235\n",
            "[6,     1] loss: 0.001\n",
            "[6,   301] loss: 0.226\n",
            "[6,   601] loss: 0.228\n",
            "[7,     1] loss: 0.001\n",
            "[7,   301] loss: 0.223\n",
            "[7,   601] loss: 0.224\n",
            "[8,     1] loss: 0.001\n",
            "[8,   301] loss: 0.214\n",
            "[8,   601] loss: 0.218\n",
            "[9,     1] loss: 0.001\n",
            "[9,   301] loss: 0.215\n",
            "[9,   601] loss: 0.210\n",
            "[10,     1] loss: 0.001\n",
            "[10,   301] loss: 0.202\n",
            "[10,   601] loss: 0.215\n",
            "Training is finished!\n",
            "На сете train правильно предсказано 5.1 из 10\n",
            "На сете test правильно предсказано 4.5 из 10\n"
          ],
          "name": "stdout"
        }
      ]
    },
    {
      "cell_type": "markdown",
      "metadata": {
        "id": "hnY3ktru7i9e"
      },
      "source": [
        "Результат хуже чем был раньше"
      ]
    },
    {
      "cell_type": "markdown",
      "metadata": {
        "id": "sv2kPT_S5ctt"
      },
      "source": [
        "### Еще увеличим количество фитчей в первом сверточном слое"
      ]
    },
    {
      "cell_type": "code",
      "metadata": {
        "id": "XwkEgkuT5ixZ"
      },
      "source": [
        "class Net(nn.Module):\n",
        "    def __init__(self):\n",
        "        super(Net, self).__init__()  \n",
        "        self.conv1 = nn.Conv2d(3, 256, 5)\n",
        "        self.pool = nn.MaxPool2d(2, 2) \n",
        "        self.conv2 = nn.Conv2d(256, 64, 5)\n",
        "        self.fc1 = nn.Linear(64 * 5 * 5, 512)\n",
        "        self.fc2 = nn.Linear(512, 64)\n",
        "        self.fc3 = nn.Linear(64, 10)\n",
        "\n",
        "    def forward(self, x):\n",
        "        x = self.pool(F.relu(self.conv1(x)))   # 32x32 x3 -> 28x28 x256 -> 14x14 x256\n",
        "        x = self.pool(F.relu(self.conv2(x)))  # 14x14 x256 -> 10x10 x64 -> 5x5 x64\n",
        "        x = x.view(-1, 64 * 5 * 5)\n",
        "        x = F.relu(self.fc1(x))\n",
        "        x = F.relu(self.fc2(x))\n",
        "        x = self.fc3(x)\n",
        "        return x\n",
        "net = Net().to('cuda')"
      ],
      "execution_count": null,
      "outputs": []
    },
    {
      "cell_type": "code",
      "metadata": {
        "colab": {
          "base_uri": "https://localhost:8080/"
        },
        "id": "6BH5G_YJ5it_",
        "outputId": "3f70c33c-ce51-4c01-c46d-012122be8842"
      },
      "source": [
        "criterion = nn.CrossEntropyLoss()\n",
        "optimizer = optim.SGD(net.parameters(), lr=0.001, momentum=0.9)\n",
        "net = learning(net, train_loader, optimizer,  criterion)\n",
        "train_result, test_result = metrics_train_test(_net=net, _train_loader=train_loader, _test_loader=test_loader)"
      ],
      "execution_count": null,
      "outputs": [
        {
          "output_type": "stream",
          "text": [
            "[1,     1] loss: 0.001\n",
            "[1,   301] loss: 0.345\n",
            "[1,   601] loss: 0.341\n",
            "[2,     1] loss: 0.001\n",
            "[2,   301] loss: 0.304\n",
            "[2,   601] loss: 0.294\n",
            "[3,     1] loss: 0.001\n",
            "[3,   301] loss: 0.273\n",
            "[3,   601] loss: 0.259\n",
            "[4,     1] loss: 0.001\n",
            "[4,   301] loss: 0.246\n",
            "[4,   601] loss: 0.238\n",
            "[5,     1] loss: 0.001\n",
            "[5,   301] loss: 0.229\n",
            "[5,   601] loss: 0.224\n",
            "[6,     1] loss: 0.001\n",
            "[6,   301] loss: 0.218\n",
            "[6,   601] loss: 0.212\n",
            "[7,     1] loss: 0.001\n",
            "[7,   301] loss: 0.207\n",
            "[7,   601] loss: 0.203\n",
            "[8,     1] loss: 0.001\n",
            "[8,   301] loss: 0.197\n",
            "[8,   601] loss: 0.194\n",
            "[9,     1] loss: 0.001\n",
            "[9,   301] loss: 0.190\n",
            "[9,   601] loss: 0.185\n",
            "[10,     1] loss: 0.001\n",
            "[10,   301] loss: 0.181\n",
            "[10,   601] loss: 0.176\n",
            "Training is finished!\n",
            "На сете train правильно предсказано 5.8 из 10\n",
            "На сете test правильно предсказано 5.6 из 10\n"
          ],
          "name": "stdout"
        }
      ]
    },
    {
      "cell_type": "markdown",
      "metadata": {
        "id": "bqzaqDo8AJNf"
      },
      "source": [
        "### Попробуем дообучить эту же сеть"
      ]
    },
    {
      "cell_type": "code",
      "metadata": {
        "colab": {
          "base_uri": "https://localhost:8080/"
        },
        "id": "pejLC-0Q5irO",
        "outputId": "0d1a9148-b4f3-43be-eec5-5a2bf21c628e"
      },
      "source": [
        "net = learning(net, train_loader, optimizer,  criterion)\n",
        "train_result, test_result = metrics_train_test(_net=net, _train_loader=train_loader, _test_loader=test_loader)"
      ],
      "execution_count": null,
      "outputs": [
        {
          "output_type": "stream",
          "text": [
            "[1,     1] loss: 0.001\n",
            "[1,   301] loss: 0.172\n",
            "[1,   601] loss: 0.168\n",
            "[2,     1] loss: 0.001\n",
            "[2,   301] loss: 0.165\n",
            "[2,   601] loss: 0.165\n",
            "[3,     1] loss: 0.001\n",
            "[3,   301] loss: 0.158\n",
            "[3,   601] loss: 0.157\n",
            "[4,     1] loss: 0.000\n",
            "[4,   301] loss: 0.150\n",
            "[4,   601] loss: 0.150\n",
            "[5,     1] loss: 0.000\n",
            "[5,   301] loss: 0.147\n",
            "[5,   601] loss: 0.145\n",
            "[6,     1] loss: 0.000\n",
            "[6,   301] loss: 0.141\n",
            "[6,   601] loss: 0.141\n",
            "[7,     1] loss: 0.001\n",
            "[7,   301] loss: 0.135\n",
            "[7,   601] loss: 0.135\n",
            "[8,     1] loss: 0.000\n",
            "[8,   301] loss: 0.130\n",
            "[8,   601] loss: 0.130\n",
            "[9,     1] loss: 0.000\n",
            "[9,   301] loss: 0.127\n",
            "[9,   601] loss: 0.126\n",
            "[10,     1] loss: 0.000\n",
            "[10,   301] loss: 0.122\n",
            "[10,   601] loss: 0.121\n",
            "Training is finished!\n",
            "На сете train правильно предсказано 7.2 из 10\n",
            "На сете test правильно предсказано 6.7 из 10\n"
          ],
          "name": "stdout"
        }
      ]
    },
    {
      "cell_type": "markdown",
      "metadata": {
        "id": "ZiOjWEG-AzE-"
      },
      "source": [
        "На трейне результат уже выше порога. Можно еще попробовать доучить, но в академических целях испробуем еше одну архитектуру"
      ]
    },
    {
      "cell_type": "markdown",
      "metadata": {
        "id": "CcUHSbWz5RgI"
      },
      "source": [
        "### Уменьшим количество слоев"
      ]
    },
    {
      "cell_type": "code",
      "metadata": {
        "id": "fZ0dXpWiynZW"
      },
      "source": [
        "class Net(nn.Module):\n",
        "    def __init__(self):\n",
        "        super(Net, self).__init__()  \n",
        "        self.conv1 = nn.Conv2d(3, 256, 5)\n",
        "        self.pool = nn.MaxPool2d(2, 2)\n",
        "        self.fc1 = nn.Linear(256 * 14 * 14, 512)\n",
        "        self.fc3 = nn.Linear(512, 10)\n",
        "\n",
        "    def forward(self, x):\n",
        "        x = self.pool(F.relu(self.conv1(x)))    # 32x32 x3 -> 28x28 x256 -> 14x14 x256\n",
        "        x = x.view(-1, 256 * 14 * 14)\n",
        "        x = F.relu(self.fc1(x))\n",
        "        x = self.fc3(x)\n",
        "        return x\n",
        "net = Net().to('cuda')"
      ],
      "execution_count": null,
      "outputs": []
    },
    {
      "cell_type": "code",
      "metadata": {
        "colab": {
          "base_uri": "https://localhost:8080/"
        },
        "id": "bkctPbjr74dd",
        "outputId": "88b32c4d-8bc4-4def-eefa-43af79c76383"
      },
      "source": [
        "net"
      ],
      "execution_count": null,
      "outputs": [
        {
          "output_type": "execute_result",
          "data": {
            "text/plain": [
              "Net(\n",
              "  (conv1): Conv2d(3, 256, kernel_size=(5, 5), stride=(1, 1))\n",
              "  (pool): MaxPool2d(kernel_size=2, stride=2, padding=0, dilation=1, ceil_mode=False)\n",
              "  (fc1): Linear(in_features=50176, out_features=512, bias=True)\n",
              "  (fc3): Linear(in_features=512, out_features=10, bias=True)\n",
              ")"
            ]
          },
          "metadata": {
            "tags": []
          },
          "execution_count": 77
        }
      ]
    },
    {
      "cell_type": "code",
      "metadata": {
        "colab": {
          "base_uri": "https://localhost:8080/"
        },
        "id": "E6EVvYNoynW2",
        "outputId": "58118764-f072-4fb7-aa90-1954a1fc4261"
      },
      "source": [
        "criterion = nn.CrossEntropyLoss()\n",
        "optimizer = optim.SGD(net.parameters(), lr=0.001, momentum=0.9)\n",
        "net = learning(net, train_loader, optimizer,  criterion)\n",
        "train_result, test_result = metrics_train_test(_net=net, _train_loader=train_loader, _test_loader=test_loader)"
      ],
      "execution_count": null,
      "outputs": [
        {
          "output_type": "stream",
          "text": [
            "[1,     1] loss: 0.001\n",
            "[1,   301] loss: 0.310\n",
            "[1,   601] loss: 0.275\n",
            "[2,     1] loss: 0.001\n",
            "[2,   301] loss: 0.252\n",
            "[2,   601] loss: 0.238\n",
            "[3,     1] loss: 0.001\n",
            "[3,   301] loss: 0.223\n",
            "[3,   601] loss: 0.215\n",
            "[4,     1] loss: 0.001\n",
            "[4,   301] loss: 0.205\n",
            "[4,   601] loss: 0.200\n",
            "[5,     1] loss: 0.001\n",
            "[5,   301] loss: 0.192\n",
            "[5,   601] loss: 0.191\n",
            "[6,     1] loss: 0.001\n",
            "[6,   301] loss: 0.183\n",
            "[6,   601] loss: 0.180\n",
            "[7,     1] loss: 0.000\n",
            "[7,   301] loss: 0.174\n",
            "[7,   601] loss: 0.173\n",
            "[8,     1] loss: 0.001\n",
            "[8,   301] loss: 0.166\n",
            "[8,   601] loss: 0.166\n",
            "[9,     1] loss: 0.001\n",
            "[9,   301] loss: 0.160\n",
            "[9,   601] loss: 0.159\n",
            "[10,     1] loss: 0.001\n",
            "[10,   301] loss: 0.155\n",
            "[10,   601] loss: 0.152\n",
            "Training is finished!\n",
            "На сете train правильно предсказано 6.6 из 10\n",
            "На сете test правильно предсказано 6.2 из 10\n"
          ],
          "name": "stdout"
        }
      ]
    },
    {
      "cell_type": "markdown",
      "metadata": {
        "id": "fOZzmec9B42Q"
      },
      "source": [
        "Результат лучше, чем для первого обучения \"большой\" сети"
      ]
    },
    {
      "cell_type": "markdown",
      "metadata": {
        "id": "gG3u_m-eAXMP"
      },
      "source": [
        "### Дообучим сеть с малым количеством слоев"
      ]
    },
    {
      "cell_type": "code",
      "metadata": {
        "colab": {
          "base_uri": "https://localhost:8080/"
        },
        "id": "xR171L4gynT1",
        "outputId": "6e1ad50f-53b0-4edd-ed47-93ef16b61768"
      },
      "source": [
        "net = learning(net, train_loader, optimizer,  criterion)\n",
        "train_result, test_result = metrics_train_test(_net=net, _train_loader=train_loader, _test_loader=test_loader)"
      ],
      "execution_count": null,
      "outputs": [
        {
          "output_type": "stream",
          "text": [
            "[1,     1] loss: 0.001\n",
            "[1,   301] loss: 0.147\n",
            "[1,   601] loss: 0.146\n",
            "[2,     1] loss: 0.000\n",
            "[2,   301] loss: 0.141\n",
            "[2,   601] loss: 0.141\n",
            "[3,     1] loss: 0.000\n",
            "[3,   301] loss: 0.135\n",
            "[3,   601] loss: 0.134\n",
            "[4,     1] loss: 0.001\n",
            "[4,   301] loss: 0.130\n",
            "[4,   601] loss: 0.131\n",
            "[5,     1] loss: 0.000\n",
            "[5,   301] loss: 0.124\n",
            "[5,   601] loss: 0.125\n",
            "[6,     1] loss: 0.000\n",
            "[6,   301] loss: 0.120\n",
            "[6,   601] loss: 0.119\n",
            "[7,     1] loss: 0.000\n",
            "[7,   301] loss: 0.114\n",
            "[7,   601] loss: 0.116\n",
            "[8,     1] loss: 0.000\n",
            "[8,   301] loss: 0.111\n",
            "[8,   601] loss: 0.108\n",
            "[9,     1] loss: 0.000\n",
            "[9,   301] loss: 0.106\n",
            "[9,   601] loss: 0.106\n",
            "[10,     1] loss: 0.000\n",
            "[10,   301] loss: 0.100\n",
            "[10,   601] loss: 0.101\n",
            "Training is finished!\n",
            "На сете train правильно предсказано 7.8 из 10\n",
            "На сете test правильно предсказано 6.7 из 10\n"
          ],
          "name": "stdout"
        }
      ]
    },
    {
      "cell_type": "markdown",
      "metadata": {
        "id": "d3YxDX12CIex"
      },
      "source": [
        "Сеть получилась более \"переученной\". Результат на трейне вырос значительно, а на тесте - нет"
      ]
    },
    {
      "cell_type": "markdown",
      "metadata": {
        "id": "-oYjO5CgDPR_"
      },
      "source": [
        "### Уменьшим немного количество ядер. Обучать будем сразу двойное количество эпох"
      ]
    },
    {
      "cell_type": "code",
      "metadata": {
        "id": "B7vAoaCZCcBv"
      },
      "source": [
        "class Net(nn.Module):\n",
        "    def __init__(self):\n",
        "        super(Net, self).__init__()  \n",
        "        self.conv1 = nn.Conv2d(3, 192, 5)\n",
        "        self.pool = nn.MaxPool2d(2, 2)\n",
        "        self.fc1 = nn.Linear(192 * 14 * 14, 256)\n",
        "        self.fc3 = nn.Linear(256, 10)\n",
        "\n",
        "    def forward(self, x):\n",
        "        x = self.pool(F.relu(self.conv1(x)))    # 32x32 x3 -> 28x28 192 -> 14x14 192\n",
        "        x = x.view(-1, 192 * 14 * 14)\n",
        "        x = F.relu(self.fc1(x))\n",
        "        x = self.fc3(x)\n",
        "        return x\n",
        "net = Net().to('cuda')"
      ],
      "execution_count": null,
      "outputs": []
    },
    {
      "cell_type": "code",
      "metadata": {
        "colab": {
          "base_uri": "https://localhost:8080/"
        },
        "id": "fez-0ORDCb9X",
        "outputId": "8b47c549-9d54-4cb8-ce90-ac3c4a08f8be"
      },
      "source": [
        "criterion = nn.CrossEntropyLoss()\n",
        "optimizer = optim.SGD(net.parameters(), lr=0.001, momentum=0.9)\n",
        "net = learning(net, train_loader, optimizer,  criterion)\n",
        "net = learning(net, train_loader, optimizer,  criterion)\n",
        "train_result, test_result = metrics_train_test(_net=net, _train_loader=train_loader, _test_loader=test_loader)"
      ],
      "execution_count": null,
      "outputs": [
        {
          "output_type": "stream",
          "text": [
            "[1,     1] loss: 0.001\n",
            "[1,   301] loss: 0.313\n",
            "[1,   601] loss: 0.281\n",
            "[2,     1] loss: 0.001\n",
            "[2,   301] loss: 0.256\n",
            "[2,   601] loss: 0.244\n",
            "[3,     1] loss: 0.001\n",
            "[3,   301] loss: 0.229\n",
            "[3,   601] loss: 0.221\n",
            "[4,     1] loss: 0.001\n",
            "[4,   301] loss: 0.211\n",
            "[4,   601] loss: 0.204\n",
            "[5,     1] loss: 0.001\n",
            "[5,   301] loss: 0.197\n",
            "[5,   601] loss: 0.193\n",
            "[6,     1] loss: 0.001\n",
            "[6,   301] loss: 0.187\n",
            "[6,   601] loss: 0.185\n",
            "[7,     1] loss: 0.001\n",
            "[7,   301] loss: 0.177\n",
            "[7,   601] loss: 0.175\n",
            "[8,     1] loss: 0.001\n",
            "[8,   301] loss: 0.169\n",
            "[8,   601] loss: 0.168\n",
            "[9,     1] loss: 0.001\n",
            "[9,   301] loss: 0.163\n",
            "[9,   601] loss: 0.162\n",
            "[10,     1] loss: 0.001\n",
            "[10,   301] loss: 0.157\n",
            "[10,   601] loss: 0.156\n",
            "Training is finished!\n",
            "[1,     1] loss: 0.000\n",
            "[1,   301] loss: 0.149\n",
            "[1,   601] loss: 0.149\n",
            "[2,     1] loss: 0.000\n",
            "[2,   301] loss: 0.143\n",
            "[2,   601] loss: 0.144\n",
            "[3,     1] loss: 0.000\n",
            "[3,   301] loss: 0.137\n",
            "[3,   601] loss: 0.139\n",
            "[4,     1] loss: 0.000\n",
            "[4,   301] loss: 0.135\n",
            "[4,   601] loss: 0.134\n",
            "[5,     1] loss: 0.000\n",
            "[5,   301] loss: 0.127\n",
            "[5,   601] loss: 0.129\n",
            "[6,     1] loss: 0.000\n",
            "[6,   301] loss: 0.123\n",
            "[6,   601] loss: 0.125\n",
            "[7,     1] loss: 0.000\n",
            "[7,   301] loss: 0.120\n",
            "[7,   601] loss: 0.120\n",
            "[8,     1] loss: 0.000\n",
            "[8,   301] loss: 0.117\n",
            "[8,   601] loss: 0.116\n",
            "[9,     1] loss: 0.000\n",
            "[9,   301] loss: 0.111\n",
            "[9,   601] loss: 0.112\n",
            "[10,     1] loss: 0.000\n",
            "[10,   301] loss: 0.106\n",
            "[10,   601] loss: 0.109\n",
            "Training is finished!\n",
            "На сете train правильно предсказано 7.8 из 10\n",
            "На сете test правильно предсказано 6.8 из 10\n"
          ],
          "name": "stdout"
        }
      ]
    },
    {
      "cell_type": "markdown",
      "metadata": {
        "id": "Op3Bl54UE8Tv"
      },
      "source": [
        "Качество выросло (на тесте), но не сильно. Может быть чисто случайным. Главное, что при уменьшении количества ядер оно не упало. Значит можем  использовать дальше эту модель"
      ]
    },
    {
      "cell_type": "markdown",
      "metadata": {
        "id": "z7g8zwrJD3jh"
      },
      "source": [
        "### Попробуем тоже самое с Adam"
      ]
    },
    {
      "cell_type": "code",
      "metadata": {
        "id": "mHxARvBkCb5R"
      },
      "source": [
        "class Net(nn.Module):\n",
        "    def __init__(self):\n",
        "        super(Net, self).__init__()  \n",
        "        self.conv1 = nn.Conv2d(3, 192, 5)\n",
        "        self.pool = nn.MaxPool2d(2, 2)\n",
        "        self.fc1 = nn.Linear(192 * 14 * 14, 256)\n",
        "        self.fc3 = nn.Linear(256, 10)\n",
        "\n",
        "    def forward(self, x):\n",
        "        x = self.pool(F.relu(self.conv1(x)))    # 32x32 x3 -> 28x28 192 -> 14x14 192\n",
        "        x = x.view(-1, 192 * 14 * 14)\n",
        "        x = F.relu(self.fc1(x))\n",
        "        x = self.fc3(x)\n",
        "        return x\n",
        "net = Net().to('cuda')"
      ],
      "execution_count": null,
      "outputs": []
    },
    {
      "cell_type": "markdown",
      "metadata": {
        "id": "3XYZA_kEExVR"
      },
      "source": [
        "Сначала посмотрим на разовый проход по 10 эохам"
      ]
    },
    {
      "cell_type": "code",
      "metadata": {
        "colab": {
          "base_uri": "https://localhost:8080/"
        },
        "id": "d1N13tP_Cb1m",
        "outputId": "da403e1b-3785-4e08-b168-ef00fbc8bb14"
      },
      "source": [
        "criterion = nn.CrossEntropyLoss()\n",
        "optimizer = optim.Adam(net.parameters(), lr=0.001)\n",
        "net = learning(net, train_loader, optimizer,  criterion)\n",
        "train_result, test_result = metrics_train_test(_net=net, _train_loader=train_loader, _test_loader=test_loader)"
      ],
      "execution_count": null,
      "outputs": [
        {
          "output_type": "stream",
          "text": [
            "[1,     1] loss: 0.001\n",
            "[1,   301] loss: 0.251\n",
            "[1,   601] loss: 0.200\n",
            "[2,     1] loss: 0.001\n",
            "[2,   301] loss: 0.165\n",
            "[2,   601] loss: 0.161\n",
            "[3,     1] loss: 0.000\n",
            "[3,   301] loss: 0.137\n",
            "[3,   601] loss: 0.136\n",
            "[4,     1] loss: 0.000\n",
            "[4,   301] loss: 0.116\n",
            "[4,   601] loss: 0.117\n",
            "[5,     1] loss: 0.000\n",
            "[5,   301] loss: 0.096\n",
            "[5,   601] loss: 0.100\n",
            "[6,     1] loss: 0.000\n",
            "[6,   301] loss: 0.077\n",
            "[6,   601] loss: 0.080\n",
            "[7,     1] loss: 0.000\n",
            "[7,   301] loss: 0.060\n",
            "[7,   601] loss: 0.065\n",
            "[8,     1] loss: 0.000\n",
            "[8,   301] loss: 0.046\n",
            "[8,   601] loss: 0.050\n",
            "[9,     1] loss: 0.000\n",
            "[9,   301] loss: 0.037\n",
            "[9,   601] loss: 0.040\n",
            "[10,     1] loss: 0.000\n",
            "[10,   301] loss: 0.027\n",
            "[10,   601] loss: 0.030\n",
            "Training is finished!\n",
            "На сете train правильно предсказано 9.5 из 10\n",
            "На сете test правильно предсказано 6.4 из 10\n"
          ],
          "name": "stdout"
        }
      ]
    },
    {
      "cell_type": "code",
      "metadata": {
        "colab": {
          "base_uri": "https://localhost:8080/"
        },
        "id": "m00tm3frFSej",
        "outputId": "72783f16-d9f5-4f2f-fe06-a84b36efbb89"
      },
      "source": [
        "net = learning(net, train_loader, optimizer,  criterion)\n",
        "train_result, test_result = metrics_train_test(_net=net, _train_loader=train_loader, _test_loader=test_loader)"
      ],
      "execution_count": null,
      "outputs": [
        {
          "output_type": "stream",
          "text": [
            "[1,     1] loss: 0.000\n",
            "[1,   301] loss: 0.023\n",
            "[1,   601] loss: 0.027\n",
            "[2,     1] loss: 0.000\n",
            "[2,   301] loss: 0.017\n",
            "[2,   601] loss: 0.024\n",
            "[3,     1] loss: 0.000\n",
            "[3,   601] loss: 0.019\n",
            "[4,     1] loss: 0.000\n",
            "[4,   301] loss: 0.016\n",
            "[4,   601] loss: 0.015\n",
            "[5,     1] loss: 0.000\n",
            "[5,   301] loss: 0.011\n",
            "[5,   601] loss: 0.016\n",
            "[6,     1] loss: 0.000\n",
            "[6,   301] loss: 0.012\n",
            "[6,   601] loss: 0.013\n",
            "[7,     1] loss: 0.000\n",
            "[7,   301] loss: 0.011\n",
            "[7,   601] loss: 0.014\n",
            "[8,     1] loss: 0.000\n",
            "[8,   301] loss: 0.010\n",
            "[8,   601] loss: 0.013\n",
            "[9,     1] loss: 0.000\n",
            "[9,   301] loss: 0.008\n",
            "[9,   601] loss: 0.008\n",
            "[10,     1] loss: 0.000\n",
            "[10,   301] loss: 0.012\n",
            "[10,   601] loss: 0.012\n",
            "Training is finished!\n",
            "На сете train правильно предсказано 9.8 из 10\n",
            "На сете test правильно предсказано 6.3 из 10\n"
          ],
          "name": "stdout"
        }
      ]
    },
    {
      "cell_type": "markdown",
      "metadata": {
        "id": "3jj0wfMIF9AV"
      },
      "source": [
        "Явное переобучение"
      ]
    },
    {
      "cell_type": "markdown",
      "metadata": {
        "id": "6rGGCAFpGueG"
      },
      "source": [
        "### Попытаемся бороться с переобучением с помощью регуляризации"
      ]
    },
    {
      "cell_type": "code",
      "metadata": {
        "id": "qDd-S1KZFrUH"
      },
      "source": [
        "class Net(nn.Module):\n",
        "    def __init__(self):\n",
        "        super(Net, self).__init__()  \n",
        "        self.conv1 = nn.Conv2d(3, 192, 5)\n",
        "        self.pool = nn.MaxPool2d(2, 2)\n",
        "        self.fc1 = nn.Linear(192 * 14 * 14, 256)\n",
        "        self.fc3 = nn.Linear(256, 10)\n",
        "\n",
        "    def forward(self, x):\n",
        "        x = self.pool(F.relu(self.conv1(x)))    # 32x32 x3 -> 28x28 192 -> 14x14 192\n",
        "        x = x.view(-1, 192 * 14 * 14)\n",
        "        x = F.relu(self.fc1(x))\n",
        "        x = self.fc3(x)\n",
        "        return x\n",
        "net = Net().to('cuda')"
      ],
      "execution_count": null,
      "outputs": []
    },
    {
      "cell_type": "code",
      "metadata": {
        "colab": {
          "base_uri": "https://localhost:8080/"
        },
        "id": "BqK6TWJpFrPv",
        "outputId": "91edcdb4-492c-4240-9baa-ecbf9efffaa5"
      },
      "source": [
        "criterion = nn.CrossEntropyLoss()\n",
        "optimizer = optim.Adam(net.parameters(), lr=0.001, weight_decay=0.005)\n",
        "net = learning(net, train_loader, optimizer,  criterion)\n",
        "train_result, test_result = metrics_train_test(_net=net, _train_loader=train_loader, _test_loader=test_loader)"
      ],
      "execution_count": null,
      "outputs": [
        {
          "output_type": "stream",
          "text": [
            "[1,     1] loss: 0.001\n",
            "[1,   301] loss: 0.272\n",
            "[1,   601] loss: 0.222\n",
            "[2,     1] loss: 0.001\n",
            "[2,   301] loss: 0.211\n",
            "[2,   601] loss: 0.207\n",
            "[3,     1] loss: 0.001\n",
            "[3,   301] loss: 0.197\n",
            "[3,   601] loss: 0.195\n",
            "[4,     1] loss: 0.001\n",
            "[4,   301] loss: 0.187\n",
            "[4,   601] loss: 0.187\n",
            "[5,     1] loss: 0.001\n",
            "[5,   301] loss: 0.181\n",
            "[5,   601] loss: 0.179\n",
            "[6,     1] loss: 0.001\n",
            "[6,   301] loss: 0.174\n",
            "[6,   601] loss: 0.174\n",
            "[7,     1] loss: 0.001\n",
            "[7,   301] loss: 0.169\n",
            "[7,   601] loss: 0.171\n",
            "[8,     1] loss: 0.001\n",
            "[8,   301] loss: 0.166\n",
            "[8,   601] loss: 0.169\n",
            "[9,     1] loss: 0.001\n",
            "[9,   301] loss: 0.164\n",
            "[9,   601] loss: 0.166\n",
            "[10,     1] loss: 0.001\n",
            "[10,   301] loss: 0.160\n",
            "[10,   601] loss: 0.164\n",
            "Training is finished!\n",
            "На сете train правильно предсказано 6.3 из 10\n",
            "На сете test правильно предсказано 6.1 из 10\n"
          ],
          "name": "stdout"
        }
      ]
    },
    {
      "cell_type": "markdown",
      "metadata": {
        "id": "9XzXonAfHabH"
      },
      "source": [
        "Разрыв получился меньше чем для предыдущих моделей, включая SGD     \n",
        "Доучим"
      ]
    },
    {
      "cell_type": "code",
      "metadata": {
        "colab": {
          "base_uri": "https://localhost:8080/"
        },
        "id": "pbiIjlDmFrE9",
        "outputId": "3b5768f4-9083-4dad-a493-e3407c0a45e0"
      },
      "source": [
        "net = learning(net, train_loader, optimizer,  criterion)\n",
        "train_result, test_result = metrics_train_test(_net=net, _train_loader=train_loader, _test_loader=test_loader)"
      ],
      "execution_count": null,
      "outputs": [
        {
          "output_type": "stream",
          "text": [
            "[1,     1] loss: 0.000\n",
            "[1,   301] loss: 0.160\n",
            "[1,   601] loss: 0.160\n",
            "[2,     1] loss: 0.001\n",
            "[2,   301] loss: 0.159\n",
            "[2,   601] loss: 0.159\n",
            "[3,     1] loss: 0.001\n",
            "[3,   301] loss: 0.154\n",
            "[3,   601] loss: 0.160\n",
            "[4,     1] loss: 0.000\n",
            "[4,   301] loss: 0.157\n",
            "[4,   601] loss: 0.157\n",
            "[5,     1] loss: 0.001\n",
            "[5,   301] loss: 0.154\n",
            "[5,   601] loss: 0.157\n",
            "[6,     1] loss: 0.001\n",
            "[6,   301] loss: 0.153\n",
            "[6,   601] loss: 0.155\n",
            "[7,     1] loss: 0.001\n",
            "[7,   301] loss: 0.151\n",
            "[7,   601] loss: 0.155\n",
            "[8,     1] loss: 0.000\n",
            "[8,   301] loss: 0.151\n",
            "[8,   601] loss: 0.154\n",
            "[9,     1] loss: 0.000\n",
            "[9,   301] loss: 0.150\n",
            "[9,   601] loss: 0.154\n",
            "[10,     1] loss: 0.000\n",
            "[10,   301] loss: 0.150\n",
            "[10,   601] loss: 0.154\n",
            "Training is finished!\n",
            "На сете train правильно предсказано 6.7 из 10\n",
            "На сете test правильно предсказано 6.4 из 10\n"
          ],
          "name": "stdout"
        }
      ]
    },
    {
      "cell_type": "markdown",
      "metadata": {
        "id": "AFVo67qdIxuv"
      },
      "source": [
        "Видно, что обучение почти прекратилось. Снизим вес регуляризации о \"подтянем\" еще"
      ]
    },
    {
      "cell_type": "code",
      "metadata": {
        "id": "P0cYA0UxFrAo"
      },
      "source": [
        "optimizer = optim.Adam(net.parameters(), lr=0.001, weight_decay=0.001)"
      ],
      "execution_count": null,
      "outputs": []
    },
    {
      "cell_type": "code",
      "metadata": {
        "colab": {
          "base_uri": "https://localhost:8080/"
        },
        "id": "zBU7DL_hIF7y",
        "outputId": "d9c4de9e-6b26-4d60-b2c8-f71522390c08"
      },
      "source": [
        "net = learning(net, train_loader, optimizer,  criterion)\n",
        "train_result, test_result = metrics_train_test(_net=net, _train_loader=train_loader, _test_loader=test_loader)"
      ],
      "execution_count": null,
      "outputs": [
        {
          "output_type": "stream",
          "text": [
            "[1,     1] loss: 0.000\n",
            "[1,   301] loss: 0.145\n",
            "[1,   601] loss: 0.144\n",
            "[2,     1] loss: 0.000\n",
            "[2,   301] loss: 0.134\n",
            "[2,   601] loss: 0.134\n",
            "[3,     1] loss: 0.000\n",
            "[3,   301] loss: 0.126\n",
            "[3,   601] loss: 0.133\n",
            "[4,     1] loss: 0.000\n",
            "[4,   301] loss: 0.124\n",
            "[4,   601] loss: 0.128\n",
            "[5,     1] loss: 0.000\n",
            "[5,   301] loss: 0.120\n",
            "[5,   601] loss: 0.126\n",
            "[6,     1] loss: 0.000\n",
            "[6,   301] loss: 0.116\n",
            "[6,   601] loss: 0.122\n",
            "[7,     1] loss: 0.000\n",
            "[7,   301] loss: 0.113\n",
            "[7,   601] loss: 0.121\n",
            "[8,     1] loss: 0.000\n",
            "[8,   301] loss: 0.111\n",
            "[8,   601] loss: 0.118\n",
            "[9,     1] loss: 0.000\n",
            "[9,   301] loss: 0.108\n",
            "[9,   601] loss: 0.115\n",
            "[10,     1] loss: 0.000\n",
            "[10,   301] loss: 0.108\n",
            "[10,   601] loss: 0.114\n",
            "Training is finished!\n",
            "На сете train правильно предсказано 7.6 из 10\n",
            "На сете test правильно предсказано 6.6 из 10\n"
          ],
          "name": "stdout"
        }
      ]
    },
    {
      "cell_type": "markdown",
      "metadata": {
        "id": "pe8KTvOwJRHH"
      },
      "source": [
        "И еще разок (со снижением веса)"
      ]
    },
    {
      "cell_type": "code",
      "metadata": {
        "colab": {
          "base_uri": "https://localhost:8080/"
        },
        "id": "UOq0H6PFJCtf",
        "outputId": "baa65d2d-402d-4488-af97-eef087736e6d"
      },
      "source": [
        "optimizer = optim.Adam(net.parameters(), lr=0.001, weight_decay=0.0005)\n",
        "net = learning(net, train_loader, optimizer,  criterion)\n",
        "train_result, test_result = metrics_train_test(_net=net, _train_loader=train_loader, _test_loader=test_loader)"
      ],
      "execution_count": null,
      "outputs": [
        {
          "output_type": "stream",
          "text": [
            "[1,     1] loss: 0.000\n",
            "[1,   301] loss: 0.106\n",
            "[1,   601] loss: 0.110\n",
            "[2,     1] loss: 0.000\n",
            "[2,   301] loss: 0.099\n",
            "[2,   601] loss: 0.110\n",
            "[3,     1] loss: 0.000\n",
            "[3,   301] loss: 0.095\n",
            "[3,   601] loss: 0.103\n",
            "[4,     1] loss: 0.000\n",
            "[4,   301] loss: 0.093\n",
            "[4,   601] loss: 0.098\n",
            "[5,     1] loss: 0.000\n",
            "[5,   301] loss: 0.092\n",
            "[5,   601] loss: 0.097\n",
            "[6,     1] loss: 0.000\n",
            "[6,   301] loss: 0.088\n",
            "[6,   601] loss: 0.095\n",
            "[7,     1] loss: 0.000\n",
            "[7,   301] loss: 0.086\n",
            "[7,   601] loss: 0.094\n",
            "[8,     1] loss: 0.000\n",
            "[8,   301] loss: 0.084\n",
            "[8,   601] loss: 0.093\n",
            "[9,     1] loss: 0.000\n",
            "[9,   301] loss: 0.082\n",
            "[9,   601] loss: 0.089\n",
            "[10,     1] loss: 0.000\n",
            "[10,   301] loss: 0.079\n",
            "[10,   601] loss: 0.087\n",
            "Training is finished!\n",
            "На сете train правильно предсказано 8.3 из 10\n",
            "На сете test правильно предсказано 6.6 из 10\n"
          ],
          "name": "stdout"
        }
      ]
    },
    {
      "cell_type": "code",
      "metadata": {
        "id": "lBZTFqnQJCqf"
      },
      "source": [
        ""
      ],
      "execution_count": null,
      "outputs": []
    },
    {
      "cell_type": "markdown",
      "metadata": {
        "id": "QeWfcSWRJm_O"
      },
      "source": [
        "### И еще одна попытка: с регуляризацией SGD"
      ]
    },
    {
      "cell_type": "code",
      "metadata": {
        "id": "XPuOOjtEJCm6"
      },
      "source": [
        "class Net(nn.Module):\n",
        "    def __init__(self):\n",
        "        super(Net, self).__init__()  \n",
        "        self.conv1 = nn.Conv2d(3, 192, 5)\n",
        "        self.pool = nn.MaxPool2d(2, 2)\n",
        "        self.fc1 = nn.Linear(192 * 14 * 14, 256)\n",
        "        self.fc3 = nn.Linear(256, 10)\n",
        "\n",
        "    def forward(self, x):\n",
        "        x = self.pool(F.relu(self.conv1(x)))    # 32x32 x3 -> 28x28 192 -> 14x14 192\n",
        "        x = x.view(-1, 192 * 14 * 14)\n",
        "        x = F.relu(self.fc1(x))\n",
        "        x = self.fc3(x)\n",
        "        return x\n",
        "net = Net().to('cuda')"
      ],
      "execution_count": null,
      "outputs": []
    },
    {
      "cell_type": "code",
      "metadata": {
        "colab": {
          "base_uri": "https://localhost:8080/"
        },
        "id": "fCA2jZ_iJCh3",
        "outputId": "9631ec48-603f-42ab-f48e-068f37f4cb7f"
      },
      "source": [
        "optimizer = optim.SGD(net.parameters(), lr=0.001, momentum=0.9, weight_decay=0.0001)\n",
        "net = learning(net, train_loader, optimizer,  criterion)\n",
        "train_result, test_result = metrics_train_test(_net=net, _train_loader=train_loader, _test_loader=test_loader)"
      ],
      "execution_count": null,
      "outputs": [
        {
          "output_type": "stream",
          "text": [
            "[1,     1] loss: 0.001\n",
            "[1,   301] loss: 0.311\n",
            "[1,   601] loss: 0.282\n",
            "[2,     1] loss: 0.001\n",
            "[2,   301] loss: 0.254\n",
            "[2,   601] loss: 0.244\n",
            "[3,     1] loss: 0.001\n",
            "[3,   301] loss: 0.226\n",
            "[3,   601] loss: 0.220\n",
            "[4,     1] loss: 0.001\n",
            "[4,   301] loss: 0.209\n",
            "[4,   601] loss: 0.202\n",
            "[5,     1] loss: 0.001\n",
            "[5,   301] loss: 0.196\n",
            "[5,   601] loss: 0.193\n",
            "[6,     1] loss: 0.001\n",
            "[6,   301] loss: 0.185\n",
            "[6,   601] loss: 0.185\n",
            "[7,     1] loss: 0.001\n",
            "[7,   301] loss: 0.176\n",
            "[7,   601] loss: 0.178\n",
            "[8,     1] loss: 0.001\n",
            "[8,   301] loss: 0.170\n",
            "[8,   601] loss: 0.170\n",
            "[9,     1] loss: 0.001\n",
            "[9,   301] loss: 0.164\n",
            "[9,   601] loss: 0.164\n",
            "[10,     1] loss: 0.001\n",
            "[10,   301] loss: 0.158\n",
            "[10,   601] loss: 0.156\n",
            "Training is finished!\n",
            "На сете train правильно предсказано 6.4 из 10\n",
            "На сете test правильно предсказано 6.0 из 10\n"
          ],
          "name": "stdout"
        }
      ]
    },
    {
      "cell_type": "markdown",
      "metadata": {
        "id": "Y98KbfDYMdPA"
      },
      "source": [
        "Жмем на газ"
      ]
    },
    {
      "cell_type": "code",
      "metadata": {
        "colab": {
          "base_uri": "https://localhost:8080/"
        },
        "id": "tvhwB2J2JCev",
        "outputId": "e15428d6-9eab-4f68-c30f-286849214098"
      },
      "source": [
        "net = learning(net, train_loader, optimizer,  criterion)\n",
        "train_result, test_result = metrics_train_test(_net=net, _train_loader=train_loader, _test_loader=test_loader)"
      ],
      "execution_count": null,
      "outputs": [
        {
          "output_type": "stream",
          "text": [
            "[1,     1] loss: 0.001\n",
            "[1,   301] loss: 0.152\n",
            "[1,   601] loss: 0.152\n",
            "[2,     1] loss: 0.001\n",
            "[2,   301] loss: 0.146\n",
            "[2,   601] loss: 0.145\n",
            "[3,     1] loss: 0.000\n",
            "[3,   301] loss: 0.140\n",
            "[3,   601] loss: 0.142\n",
            "[4,     1] loss: 0.000\n",
            "[4,   301] loss: 0.133\n",
            "[4,   601] loss: 0.137\n",
            "[5,     1] loss: 0.000\n",
            "[5,   301] loss: 0.130\n",
            "[5,   601] loss: 0.132\n",
            "[6,     1] loss: 0.001\n",
            "[6,   301] loss: 0.126\n",
            "[6,   601] loss: 0.126\n",
            "[7,     1] loss: 0.000\n",
            "[7,   301] loss: 0.122\n",
            "[7,   601] loss: 0.123\n",
            "[8,     1] loss: 0.000\n",
            "[8,   301] loss: 0.117\n",
            "[8,   601] loss: 0.117\n",
            "[9,     1] loss: 0.000\n",
            "[9,   301] loss: 0.113\n",
            "[9,   601] loss: 0.114\n",
            "[10,     1] loss: 0.000\n",
            "[10,   301] loss: 0.109\n",
            "[10,   601] loss: 0.109\n",
            "Training is finished!\n",
            "На сете train правильно предсказано 7.7 из 10\n",
            "На сете test правильно предсказано 6.7 из 10\n"
          ],
          "name": "stdout"
        }
      ]
    },
    {
      "cell_type": "markdown",
      "metadata": {
        "id": "ung8zhXVMl4k"
      },
      "source": [
        "И еще жмем на газ"
      ]
    },
    {
      "cell_type": "code",
      "metadata": {
        "colab": {
          "base_uri": "https://localhost:8080/"
        },
        "id": "_SO1RwS6JCcH",
        "outputId": "47172bc5-b01a-4f56-a01e-335c36e0859b"
      },
      "source": [
        "net = learning(net, train_loader, optimizer,  criterion)\n",
        "train_result, test_result = metrics_train_test(_net=net, _train_loader=train_loader, _test_loader=test_loader)"
      ],
      "execution_count": null,
      "outputs": [
        {
          "output_type": "stream",
          "text": [
            "[1,     1] loss: 0.000\n",
            "[1,   301] loss: 0.105\n",
            "[1,   601] loss: 0.104\n",
            "[2,     1] loss: 0.000\n",
            "[2,   301] loss: 0.099\n",
            "[2,   601] loss: 0.101\n",
            "[3,     1] loss: 0.000\n",
            "[3,   301] loss: 0.096\n",
            "[3,   601] loss: 0.097\n",
            "[4,     1] loss: 0.000\n",
            "[4,   301] loss: 0.090\n",
            "[4,   601] loss: 0.094\n",
            "[5,     1] loss: 0.000\n",
            "[5,   301] loss: 0.087\n",
            "[5,   601] loss: 0.088\n",
            "[6,     1] loss: 0.000\n",
            "[6,   301] loss: 0.084\n",
            "[6,   601] loss: 0.084\n",
            "[7,     1] loss: 0.000\n",
            "[7,   301] loss: 0.078\n",
            "[7,   601] loss: 0.081\n",
            "[8,     1] loss: 0.000\n",
            "[8,   301] loss: 0.075\n",
            "[8,   601] loss: 0.076\n",
            "[9,     1] loss: 0.000\n",
            "[9,   301] loss: 0.070\n",
            "[9,   601] loss: 0.072\n",
            "[10,     1] loss: 0.000\n",
            "[10,   301] loss: 0.066\n",
            "[10,   601] loss: 0.068\n",
            "Training is finished!\n",
            "На сете train правильно предсказано 8.7 из 10\n",
            "На сете test правильно предсказано 6.9 из 10\n"
          ],
          "name": "stdout"
        }
      ]
    },
    {
      "cell_type": "markdown",
      "metadata": {
        "id": "7OjiAXafO-zd"
      },
      "source": [
        "Все. Спать пора. 6.9 лучший результат. Почти 7"
      ]
    },
    {
      "cell_type": "markdown",
      "metadata": {
        "id": "PJw_RgS9m-17"
      },
      "source": [
        "## Задание 2"
      ]
    },
    {
      "cell_type": "code",
      "metadata": {
        "colab": {
          "base_uri": "https://localhost:8080/"
        },
        "id": "Hs_b213VnVoA",
        "outputId": "63ca7188-a0b6-4993-e5a4-efd5060096c5"
      },
      "source": [
        "train_dataset = torchvision.datasets.MNIST(root=DATA_PATH, # путь куда будут скачиваться наши данные(если download=true), \n",
        "                                                                 # или где лежат наши данные(dowload=False)\n",
        "                                             train=True, # говорим что используем датасет для обучения  \n",
        "                                             transform=transforms.ToTensor(), # важная строчка: здесь мы преобразуем данные\n",
        "                                                                                # из датасета в формат тензоров из торч\n",
        "                                             download=True)\n",
        "\n",
        "\n",
        "image, label = train_dataset[0]\n",
        "print (image.size())\n",
        "print (label)"
      ],
      "execution_count": null,
      "outputs": [
        {
          "output_type": "stream",
          "text": [
            "torch.Size([1, 28, 28])\n",
            "5\n"
          ],
          "name": "stdout"
        }
      ]
    },
    {
      "cell_type": "code",
      "metadata": {
        "id": "c6zy9JUuokmH"
      },
      "source": [
        "train_loader = torch.utils.data.DataLoader(dataset=train_dataset,\n",
        "                                           batch_size=64, \n",
        "                                           shuffle=True)"
      ],
      "execution_count": null,
      "outputs": []
    },
    {
      "cell_type": "code",
      "metadata": {
        "id": "veC8FC6gokmH"
      },
      "source": [
        "test_dataset = torchvision.datasets.MNIST(root=DATA_PATH, train=False,\n",
        "                                       download=False, transform=transforms.ToTensor())\n",
        "test_loader = torch.utils.data.DataLoader(test_dataset, batch_size=4,\n",
        "                                         shuffle=False)"
      ],
      "execution_count": null,
      "outputs": []
    },
    {
      "cell_type": "code",
      "metadata": {
        "id": "z3Z8BJPvrUCS"
      },
      "source": [
        "class Net(nn.Module):\n",
        "    def __init__(self):\n",
        "      super(Net, self).__init__()\n",
        "      self.fc1 = nn.Linear(28 * 28, 128)\n",
        "      self.dro = nn.Dropout(0.2)\n",
        "      self.fc2 = nn.Linear(128, 10)\n",
        "\n",
        "    def forward(self, x):\n",
        "      x = x.view(-1, 28 * 28)\n",
        "      x = F.relu(self.fc1(x))\n",
        "      x = self.dro(x)\n",
        "      x = F.relu(self.fc2(x))\n",
        "      return x\n",
        "\n",
        "net = Net()"
      ],
      "execution_count": null,
      "outputs": []
    },
    {
      "cell_type": "code",
      "metadata": {
        "id": "h9-NTMcKm9v2"
      },
      "source": [
        "criterion = nn.CrossEntropyLoss()\n",
        "optimizer = optim.Adam(net.parameters())"
      ],
      "execution_count": null,
      "outputs": []
    },
    {
      "cell_type": "code",
      "metadata": {
        "colab": {
          "base_uri": "https://localhost:8080/"
        },
        "id": "7tomCIW-m9td",
        "outputId": "1b5a615b-5fa2-4457-da23-107a40fa46b5"
      },
      "source": [
        "net = learning(net, train_loader, optimizer, criterion)"
      ],
      "execution_count": null,
      "outputs": [
        {
          "output_type": "stream",
          "text": [
            "[1,     1] loss: 0.001\n",
            "[1,   301] loss: 0.154\n",
            "[1,   601] loss: 0.113\n",
            "[1,   901] loss: 0.106\n",
            "[2,     1] loss: 0.000\n",
            "[2,   301] loss: 0.099\n",
            "[2,   601] loss: 0.096\n",
            "[2,   901] loss: 0.094\n",
            "[3,     1] loss: 0.000\n",
            "[3,   301] loss: 0.091\n",
            "[3,   601] loss: 0.090\n",
            "[3,   901] loss: 0.090\n",
            "[4,     1] loss: 0.000\n",
            "[4,   301] loss: 0.086\n",
            "[4,   601] loss: 0.088\n",
            "[4,   901] loss: 0.087\n",
            "[5,     1] loss: 0.000\n",
            "[5,   301] loss: 0.086\n",
            "[5,   601] loss: 0.083\n",
            "[5,   901] loss: 0.084\n",
            "[6,     1] loss: 0.000\n",
            "[6,   301] loss: 0.084\n",
            "[6,   601] loss: 0.082\n",
            "[6,   901] loss: 0.081\n",
            "[7,     1] loss: 0.000\n",
            "[7,   301] loss: 0.081\n",
            "[7,   601] loss: 0.082\n",
            "[7,   901] loss: 0.081\n",
            "[8,     1] loss: 0.000\n",
            "[8,   301] loss: 0.079\n",
            "[8,   601] loss: 0.082\n",
            "[8,   901] loss: 0.080\n",
            "[9,     1] loss: 0.000\n",
            "[9,   301] loss: 0.079\n",
            "[9,   601] loss: 0.080\n",
            "[9,   901] loss: 0.079\n",
            "[10,     1] loss: 0.000\n",
            "[10,   301] loss: 0.079\n",
            "[10,   601] loss: 0.079\n",
            "[10,   901] loss: 0.078\n",
            "Training is finished!\n"
          ],
          "name": "stdout"
        }
      ]
    },
    {
      "cell_type": "code",
      "metadata": {
        "colab": {
          "base_uri": "https://localhost:8080/"
        },
        "id": "oYzkJ5qUm9Xn",
        "outputId": "ba894e8b-fa76-4f84-bbf6-9f87bb2b4704"
      },
      "source": [
        "train_result, test_result = metrics_train_test(_net=net, _train_loader=train_loader, _test_loader=test_loader)"
      ],
      "execution_count": null,
      "outputs": [
        {
          "output_type": "stream",
          "text": [
            "На сете train правильно предсказано 7.8 из 10\n",
            "На сете test правильно предсказано 7.8 из 10\n"
          ],
          "name": "stdout"
        }
      ]
    },
    {
      "cell_type": "code",
      "metadata": {
        "id": "IKTyatc221yO"
      },
      "source": [
        ""
      ],
      "execution_count": null,
      "outputs": []
    }
  ]
}