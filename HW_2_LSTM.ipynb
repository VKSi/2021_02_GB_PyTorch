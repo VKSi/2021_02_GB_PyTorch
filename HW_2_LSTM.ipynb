{
  "nbformat": 4,
  "nbformat_minor": 0,
  "metadata": {
    "kernelspec": {
      "display_name": "Python 3",
      "language": "python",
      "name": "python3"
    },
    "language_info": {
      "codemirror_mode": {
        "name": "ipython",
        "version": 3
      },
      "file_extension": ".py",
      "mimetype": "text/x-python",
      "name": "python",
      "nbconvert_exporter": "python",
      "pygments_lexer": "ipython3",
      "version": "3.7.0"
    },
    "colab": {
      "name": "HW_2.ipynb",
      "provenance": [],
      "collapsed_sections": [],
      "include_colab_link": true
    },
    "accelerator": "GPU"
  },
  "cells": [
    {
      "cell_type": "markdown",
      "metadata": {
        "id": "view-in-github",
        "colab_type": "text"
      },
      "source": [
        "<a href=\"https://colab.research.google.com/github/VKSi/2021_02_GB_PyTorch/blob/main/HW_2_LSTM.ipynb\" target=\"_parent\"><img src=\"https://colab.research.google.com/assets/colab-badge.svg\" alt=\"Open In Colab\"/></a>"
      ]
    },
    {
      "cell_type": "markdown",
      "metadata": {
        "id": "vHZGeGsxWzYf"
      },
      "source": [
        "<h1><center> “Фреймворк PyTorch для разработки искусственных нейронных сетей”</center></h1>"
      ]
    },
    {
      "cell_type": "markdown",
      "metadata": {
        "id": "OPR493l8WzYm"
      },
      "source": [
        "<center><h1>Long Shot-Term Memory</h1> </center>"
      ]
    },
    {
      "cell_type": "markdown",
      "metadata": {
        "id": "GoOjt1iPW7I9"
      },
      "source": [
        "**Домашнее задание: **       \n",
        "1) Приложен ноутбук, в котором реализованы функции для генирации из большого датасета меньшая его копия. Вам нужно перенести функции из этого ноутбука в класс датасет и сделать следующее: \n",
        "Сгенерировать меньший датасет из 8-10 классов движения\n",
        "Обучить уже существующую модель (предварительно проанализировав какие параметры модели нужно изменить)\n",
        "Изменить модель: посмотреть зависимость от количества LSTM модулей в нашей модели  \n",
        "Сгенерировать другой датасет с меньшим количеством “кадров” в серии и сравнить улучшилось или ухудшилось качество предсказания. Провести несколько таких итераций, дать свою оценку уменьшению и увеличению кадров, назвать оптимальное, на ваш взгляд, их количество. Желательно сделать так, чтобы длина последовательности передавалась как атрибут класса.\n",
        "     \n",
        "2) Дополнительное задание:\n",
        "http://archive.ics.uci.edu/ml/datasets/Individual+household+electric+power+consumption - 2075259 measurements gathered in a house located in Sceaux (7km of Paris, France) between December 2006 and November 2010 (47 months). Проделайте весь путь подготовки данных, создания датасета, разделения и обучения модели самостоятельно. Предсказывать нужно Global_active_power. Обратите внимание, что здесь задача регрессии, а не классификации, т.е. модель нужно изменить.\n"
      ]
    },
    {
      "cell_type": "markdown",
      "metadata": {
        "id": "QdJSrC6rYqup"
      },
      "source": [
        "## Подготовка окружения"
      ]
    },
    {
      "cell_type": "code",
      "metadata": {
        "colab": {
          "base_uri": "https://localhost:8080/"
        },
        "id": "_oXUoUFDEj2L",
        "outputId": "9527a65b-ef6e-4d1a-d2a1-02c7c7921874"
      },
      "source": [
        "from google.colab import drive\n",
        "drive.mount('/content/gdrive')"
      ],
      "execution_count": null,
      "outputs": [
        {
          "output_type": "stream",
          "text": [
            "Mounted at /content/gdrive\n"
          ],
          "name": "stdout"
        }
      ]
    },
    {
      "cell_type": "code",
      "metadata": {
        "id": "XtUaq59SEjzI"
      },
      "source": [
        "PATH = 'gdrive/My Drive/AI/GB/PyTorch/'\n",
        "DATA_PATH = PATH + 'data/skeletons/'\n",
        "PATH_L2 = PATH + 'Lesson2/'\n",
        "broken_files_path = DATA_PATH + 'NTU_RGBD_samples_with_missing_skeletons.txt'\n",
        "DATA_ZIP = DATA_PATH + 'nturgbd_skeletons_s001_to_s017.zip'"
      ],
      "execution_count": null,
      "outputs": []
    },
    {
      "cell_type": "code",
      "metadata": {
        "colab": {
          "base_uri": "https://localhost:8080/"
        },
        "id": "R9gH1ncCOsbJ",
        "outputId": "e8cb24ad-9233-4ec7-d463-af2db3fd3713"
      },
      "source": [
        "!pip3 install torch torchvision"
      ],
      "execution_count": null,
      "outputs": [
        {
          "output_type": "stream",
          "text": [
            "Requirement already satisfied: torch in /usr/local/lib/python3.7/dist-packages (1.7.1+cu101)\n",
            "Requirement already satisfied: torchvision in /usr/local/lib/python3.7/dist-packages (0.8.2+cu101)\n",
            "Requirement already satisfied: numpy in /usr/local/lib/python3.7/dist-packages (from torch) (1.19.5)\n",
            "Requirement already satisfied: typing-extensions in /usr/local/lib/python3.7/dist-packages (from torch) (3.7.4.3)\n",
            "Requirement already satisfied: pillow>=4.1.1 in /usr/local/lib/python3.7/dist-packages (from torchvision) (7.0.0)\n"
          ],
          "name": "stdout"
        }
      ]
    },
    {
      "cell_type": "code",
      "metadata": {
        "id": "nkMyjSI5NDq-"
      },
      "source": [
        "import os\n",
        "from zipfile import ZipFile\n",
        "\n",
        "import pandas as pd\n",
        "import numpy as np\n",
        "import torch\n",
        "\n",
        "%matplotlib inline\n",
        "import matplotlib.pyplot as plt\n",
        "\n",
        "import torchvision\n",
        "from torchvision import datasets, transforms\n",
        "from torch import nn\n",
        "\n",
        "from torch.utils.data import DataLoader, Dataset"
      ],
      "execution_count": null,
      "outputs": []
    },
    {
      "cell_type": "markdown",
      "metadata": {
        "id": "8pxfdMkKYwrn"
      },
      "source": [
        "### Функции из предоставленного ноутбука   \n",
        "### Я изменил их так, чтобы отбор и загрузка шли непосредственно из ZIP файла без необходимости распаковки множества ненужных данных"
      ]
    },
    {
      "cell_type": "markdown",
      "metadata": {
        "id": "b-41SjgWbYLd"
      },
      "source": [
        "Будем передавать параметры для фильтрации в виде словаря"
      ]
    },
    {
      "cell_type": "code",
      "metadata": {
        "id": "ljcT23WcEjwK"
      },
      "source": [
        "filter_params = dict(\n",
        "    training_subjects = list(range(0, 28)), #количество людей выполняющих действия\n",
        "    training_classes = [8*i for i in range(1, 11)] + [10, 22, 23],  #классы которые будем использовать для обучения, полный список прдставлен тут https://github.com/shahroudy/NTURGB-D\n",
        "    training_cameras = [1, 2, 3], \n",
        "    max_body_true = 1,\n",
        "    max_body_kinect = 1,\n",
        "    num_joint = 25,\n",
        "    max_frame = 300, # Длина отрезка которую мы вычленяем из большого датасета\n",
        "    chonk_len = 45\n",
        "    )"
      ],
      "execution_count": null,
      "outputs": []
    },
    {
      "cell_type": "code",
      "metadata": {
        "id": "cMMasvOyEjtc"
      },
      "source": [
        "def read_data(data_path, broken_files_path, filter_params):\n",
        "    labels = []\n",
        "    files = []\n",
        "    action_classes = {}\n",
        "    counter = 0\n",
        "    files_counter = {}\n",
        "              \n",
        "    with open(broken_files_path, 'r') as f:\n",
        "        broken_files = f.read().split(\"\\n\")\n",
        "\n",
        "    num_frames = 0\n",
        "\n",
        "    with ZipFile(data_path) as z:\n",
        "      for filename in z.namelist():\n",
        "          if (not os.path.isdir(filename)) & (filename[19:] not in broken_files):\n",
        "              action_class = int(filename[filename.find('A') + 1:filename.find('A') + 4])\n",
        "              subject_id = int(filename[filename.find('P') + 1:filename.find('P') + 4])\n",
        "              camera_id = int(filename[filename.find('C') + 1:filename.find('C') + 4])\n",
        "              if action_class in filter_params['training_classes'] and camera_id in filter_params['training_cameras']:  #and subject_id in training_subjects:\n",
        "                  if action_class in action_classes:\n",
        "                      if files_counter[action_class] < 120:\n",
        "                          files.append([filename,action_classes[action_class]])\n",
        "                          files_counter[action_class] = files_counter[action_class] + 1\n",
        "                  else:\n",
        "                      action_classes.update({action_class : counter})\n",
        "                      files_counter.update({action_class : 1})\n",
        "                      counter+=1\n",
        "                      files.append([filename,action_classes[action_class]])\n",
        "  #                     labels.append([action_class])\n",
        "      print(\"action classes: \", action_classes)\n",
        "      print(\"action files: \", files_counter)\n",
        "    \n",
        "    return files, action_classes"
      ],
      "execution_count": null,
      "outputs": []
    },
    {
      "cell_type": "code",
      "metadata": {
        "id": "i_yiyfMJEjrQ"
      },
      "source": [
        "def get_nonzero_std(s): \n",
        "    index = s.sum(-1).sum(-1) != 0  \n",
        "    s = s[index]\n",
        "    if len(s) != 0:\n",
        "        s = s[:, :, 0].std() + s[:, :, 1].std() + s[:, :, 2].std()  \n",
        "    else:\n",
        "        s = 0\n",
        "    return s\n",
        "\n",
        "# Функция фильтр для того, что бы найти только координаты x,y,z(т.к. в датасете\n",
        "# хранится на порядок больше информации, нежели только координаты x,y,z)\n",
        "# (Остальные данные нам и не нужны, т.к. у нас нет ик-камер)\n",
        "def read_skeleton_filter(file, zip_f):\n",
        "    with zip_f.open(file, 'r') as f:\n",
        "        skeleton_sequence = {}\n",
        "        skeleton_sequence['numFrame'] = int(f.readline())\n",
        "        skeleton_sequence['frameInfo'] = []\n",
        "        for t in range(skeleton_sequence['numFrame']):\n",
        "            frame_info = {}\n",
        "            frame_info['numBody'] = int(f.readline())\n",
        "            frame_info['bodyInfo'] = []\n",
        "\n",
        "            for m in range(frame_info['numBody']):\n",
        "                body_info = {}\n",
        "                body_info_key = [\n",
        "                    'bodyID', 'clipedEdges', 'handLeftConfidence',\n",
        "                    'handLeftState', 'handRightConfidence', 'handRightState',\n",
        "                    'isResticted', 'leanX', 'leanY', 'trackingState'\n",
        "                ]\n",
        "                body_info = {\n",
        "                    k: float(v)\n",
        "                    for k, v in zip(body_info_key, f.readline().split())\n",
        "                }\n",
        "                body_info['numJoint'] = int(f.readline())\n",
        "                body_info['jointInfo'] = []\n",
        "                for v in range(body_info['numJoint']):\n",
        "                    joint_info_key = [\n",
        "                        'x', 'y', 'z', 'depthX', 'depthY', 'colorX', 'colorY',\n",
        "                        'orientationW', 'orientationX', 'orientationY',\n",
        "                        'orientationZ', 'trackingState'\n",
        "                    ]\n",
        "                    joint_info = {\n",
        "                        k: float(v)\n",
        "                        for k, v in zip(joint_info_key, f.readline().split())\n",
        "                    }\n",
        "                    body_info['jointInfo'].append(joint_info)\n",
        "                frame_info['bodyInfo'].append(body_info)\n",
        "            skeleton_sequence['frameInfo'].append(frame_info)\n",
        "\n",
        "    return skeleton_sequence\n",
        "\n",
        "def read_xyz(file, zip_f, filter_params):\n",
        "    seq_info = read_skeleton_filter(file, zip_f)\n",
        "    data = np.zeros((filter_params['max_body_true'], seq_info['numFrame'], filter_params['num_joint'], 3))\n",
        "    for n, f in enumerate(seq_info['frameInfo']):\n",
        "        for m, b in enumerate(f['bodyInfo']):\n",
        "            for j, v in enumerate(b['jointInfo']):\n",
        "                if m < filter_params['max_body_true'] and j < filter_params['num_joint']:\n",
        "                    data[m, n, j, :] = [v['x'], v['y'], v['z']]\n",
        "\n",
        "                else:\n",
        "                    pass\n",
        "\n",
        "    return data"
      ],
      "execution_count": null,
      "outputs": []
    },
    {
      "cell_type": "code",
      "metadata": {
        "id": "7qytBbEjEjpt"
      },
      "source": [
        "def create_coords_blocks(test_file, zip_f, filter_params):   \n",
        "    frame_counter = 0\n",
        "    new_labels = []\n",
        "    new_frames = []\n",
        "    blocks = []\n",
        "    \n",
        "    test_frames = read_xyz(test_file[0], zip_f, filter_params)[0]\n",
        "    label = test_file[1]\n",
        "    slice_len = filter_params['chonk_len'] * int(len(test_frames)/filter_params['chonk_len'])\n",
        "\n",
        "\n",
        "    for index in range(len(test_frames[:slice_len])):\n",
        "        frame_counter += 1\n",
        "        new_frames.append(test_frames[index].flatten())\n",
        "        if frame_counter == filter_params['chonk_len']:\n",
        "            frame_counter = 0\n",
        "            blocks.append(np.array(new_frames))\n",
        "            new_labels = new_labels + [label]\n",
        "            new_frames = []\n",
        "       \n",
        "    return blocks, new_labels"
      ],
      "execution_count": null,
      "outputs": []
    },
    {
      "cell_type": "code",
      "metadata": {
        "colab": {
          "base_uri": "https://localhost:8080/"
        },
        "id": "FcB-1bGLEjmG",
        "outputId": "790def1a-195e-44e8-a930-a2652bbcd971"
      },
      "source": [
        "##### список файлов с лейблами на каждый файл \n",
        "working_files_with_labels, action_classes = read_data(DATA_ZIP, broken_files_path, filter_params)"
      ],
      "execution_count": null,
      "outputs": [
        {
          "output_type": "stream",
          "text": [
            "action classes:  {32: 0, 56: 1, 8: 2, 22: 3, 16: 4, 24: 5, 48: 6, 40: 7, 10: 8, 23: 9}\n",
            "action files:  {32: 120, 56: 120, 8: 120, 22: 120, 16: 120, 24: 120, 48: 120, 40: 120, 10: 120, 23: 120}\n"
          ],
          "name": "stdout"
        }
      ]
    },
    {
      "cell_type": "code",
      "metadata": {
        "id": "_XTgdBIegZjq"
      },
      "source": [
        "LABELS = {v: k for k, v in action_classes.items()}"
      ],
      "execution_count": null,
      "outputs": []
    },
    {
      "cell_type": "code",
      "metadata": {
        "colab": {
          "base_uri": "https://localhost:8080/"
        },
        "id": "Jt-57vqSgbMA",
        "outputId": "69125b67-b61f-4e4f-9909-d39a96ac34b8"
      },
      "source": [
        "print(LABELS)"
      ],
      "execution_count": null,
      "outputs": [
        {
          "output_type": "stream",
          "text": [
            "{0: 32, 1: 56, 2: 8, 3: 22, 4: 16, 5: 24, 6: 48, 7: 40, 8: 10, 9: 23}\n"
          ],
          "name": "stdout"
        }
      ]
    },
    {
      "cell_type": "code",
      "metadata": {
        "colab": {
          "base_uri": "https://localhost:8080/"
        },
        "id": "zfnzNn5hgbHy",
        "outputId": "2c6680b8-dc82-48ee-9b5f-453f3bf856d4"
      },
      "source": [
        "len(working_files_with_labels)"
      ],
      "execution_count": null,
      "outputs": [
        {
          "output_type": "execute_result",
          "data": {
            "text/plain": [
              "1200"
            ]
          },
          "metadata": {
            "tags": []
          },
          "execution_count": 12
        }
      ]
    },
    {
      "cell_type": "code",
      "metadata": {
        "colab": {
          "base_uri": "https://localhost:8080/"
        },
        "id": "UqpIoZM7i8r_",
        "outputId": "daf9f24f-a848-4f51-9038-aec1b66f29ee"
      },
      "source": [
        "working_files_with_labels[:5]"
      ],
      "execution_count": null,
      "outputs": [
        {
          "output_type": "execute_result",
          "data": {
            "text/plain": [
              "[['nturgb+d_skeletons/S001C002P002R001A032.skeleton', 0],\n",
              " ['nturgb+d_skeletons/S007C001P007R001A056.skeleton', 1],\n",
              " ['nturgb+d_skeletons/S011C001P002R001A008.skeleton', 2],\n",
              " ['nturgb+d_skeletons/S006C002P024R001A022.skeleton', 3],\n",
              " ['nturgb+d_skeletons/S011C001P018R002A016.skeleton', 4]]"
            ]
          },
          "metadata": {
            "tags": []
          },
          "execution_count": 13
        }
      ]
    },
    {
      "cell_type": "code",
      "metadata": {
        "id": "3SCN8m9GgbFr"
      },
      "source": [
        "def get_data(DATA_ZIP,broken_files_path, filter_params):\n",
        "  working_files_with_labels, action_classes = read_data(DATA_ZIP, broken_files_path, filter_params)\n",
        "  LABELS = {v: k for k, v in action_classes.items()}\n",
        "  data = []\n",
        "  labels = []\n",
        "  numbers = {k: 0 for k in LABELS.keys()}\n",
        "\n",
        "  with ZipFile(DATA_ZIP) as zip_f:\n",
        "    for filename in working_files_with_labels:\n",
        "      frames_blocks, label = create_coords_blocks(filename, zip_f, filter_params)\n",
        "      if label != [] and numbers[label[0]] <= 150:\n",
        "          numbers[label[0]] = numbers[label[0]] + len(label)\n",
        "          data = data + frames_blocks\n",
        "          labels = labels + label\n",
        "\n",
        "  data_np = np.asarray(data)\n",
        "  labels_np = np.asarray(labels)\n",
        "\n",
        "  data_sq = data_np.reshape(len(data_np), -1)\n",
        "  ready_data = pd.DataFrame(data_sq)\n",
        "  ready_labels = pd.DataFrame(labels_np)\n",
        "  ready_data['labels'] = ready_labels\n",
        "\n",
        "  return ready_data, LABELS"
      ],
      "execution_count": null,
      "outputs": []
    },
    {
      "cell_type": "code",
      "metadata": {
        "colab": {
          "base_uri": "https://localhost:8080/"
        },
        "id": "BVYxCV9ykr4t",
        "outputId": "d7b1e587-09bb-489e-936c-4b25da3933b4"
      },
      "source": [
        "t = get_data(DATA_ZIP, broken_files_path, filter_params=filter_params)"
      ],
      "execution_count": null,
      "outputs": [
        {
          "output_type": "stream",
          "text": [
            "action classes:  {32: 0, 56: 1, 8: 2, 22: 3, 16: 4, 24: 5, 48: 6, 40: 7, 10: 8, 23: 9}\n",
            "action files:  {32: 120, 56: 120, 8: 120, 22: 120, 16: 120, 24: 120, 48: 120, 40: 120, 10: 120, 23: 120}\n"
          ],
          "name": "stdout"
        }
      ]
    },
    {
      "cell_type": "code",
      "metadata": {
        "colab": {
          "base_uri": "https://localhost:8080/"
        },
        "id": "Ucm3dklbk9oE",
        "outputId": "3a5078c2-69a7-4977-9ca7-47bce15d185f"
      },
      "source": [
        "t[0].shape"
      ],
      "execution_count": null,
      "outputs": [
        {
          "output_type": "execute_result",
          "data": {
            "text/plain": [
              "(1334, 3376)"
            ]
          },
          "metadata": {
            "tags": []
          },
          "execution_count": 20
        }
      ]
    },
    {
      "cell_type": "code",
      "metadata": {
        "colab": {
          "base_uri": "https://localhost:8080/",
          "height": 244
        },
        "id": "96EfsMW0lCDr",
        "outputId": "621b2c2a-25e8-4950-b070-e3d768fc4d9b"
      },
      "source": [
        "t[0].head()"
      ],
      "execution_count": null,
      "outputs": [
        {
          "output_type": "execute_result",
          "data": {
            "text/html": [
              "<div>\n",
              "<style scoped>\n",
              "    .dataframe tbody tr th:only-of-type {\n",
              "        vertical-align: middle;\n",
              "    }\n",
              "\n",
              "    .dataframe tbody tr th {\n",
              "        vertical-align: top;\n",
              "    }\n",
              "\n",
              "    .dataframe thead th {\n",
              "        text-align: right;\n",
              "    }\n",
              "</style>\n",
              "<table border=\"1\" class=\"dataframe\">\n",
              "  <thead>\n",
              "    <tr style=\"text-align: right;\">\n",
              "      <th></th>\n",
              "      <th>0</th>\n",
              "      <th>1</th>\n",
              "      <th>2</th>\n",
              "      <th>3</th>\n",
              "      <th>4</th>\n",
              "      <th>5</th>\n",
              "      <th>6</th>\n",
              "      <th>7</th>\n",
              "      <th>8</th>\n",
              "      <th>9</th>\n",
              "      <th>10</th>\n",
              "      <th>11</th>\n",
              "      <th>12</th>\n",
              "      <th>13</th>\n",
              "      <th>14</th>\n",
              "      <th>15</th>\n",
              "      <th>16</th>\n",
              "      <th>17</th>\n",
              "      <th>18</th>\n",
              "      <th>19</th>\n",
              "      <th>20</th>\n",
              "      <th>21</th>\n",
              "      <th>22</th>\n",
              "      <th>23</th>\n",
              "      <th>24</th>\n",
              "      <th>25</th>\n",
              "      <th>26</th>\n",
              "      <th>27</th>\n",
              "      <th>28</th>\n",
              "      <th>29</th>\n",
              "      <th>30</th>\n",
              "      <th>31</th>\n",
              "      <th>32</th>\n",
              "      <th>33</th>\n",
              "      <th>34</th>\n",
              "      <th>35</th>\n",
              "      <th>36</th>\n",
              "      <th>37</th>\n",
              "      <th>38</th>\n",
              "      <th>39</th>\n",
              "      <th>...</th>\n",
              "      <th>3336</th>\n",
              "      <th>3337</th>\n",
              "      <th>3338</th>\n",
              "      <th>3339</th>\n",
              "      <th>3340</th>\n",
              "      <th>3341</th>\n",
              "      <th>3342</th>\n",
              "      <th>3343</th>\n",
              "      <th>3344</th>\n",
              "      <th>3345</th>\n",
              "      <th>3346</th>\n",
              "      <th>3347</th>\n",
              "      <th>3348</th>\n",
              "      <th>3349</th>\n",
              "      <th>3350</th>\n",
              "      <th>3351</th>\n",
              "      <th>3352</th>\n",
              "      <th>3353</th>\n",
              "      <th>3354</th>\n",
              "      <th>3355</th>\n",
              "      <th>3356</th>\n",
              "      <th>3357</th>\n",
              "      <th>3358</th>\n",
              "      <th>3359</th>\n",
              "      <th>3360</th>\n",
              "      <th>3361</th>\n",
              "      <th>3362</th>\n",
              "      <th>3363</th>\n",
              "      <th>3364</th>\n",
              "      <th>3365</th>\n",
              "      <th>3366</th>\n",
              "      <th>3367</th>\n",
              "      <th>3368</th>\n",
              "      <th>3369</th>\n",
              "      <th>3370</th>\n",
              "      <th>3371</th>\n",
              "      <th>3372</th>\n",
              "      <th>3373</th>\n",
              "      <th>3374</th>\n",
              "      <th>labels</th>\n",
              "    </tr>\n",
              "  </thead>\n",
              "  <tbody>\n",
              "    <tr>\n",
              "      <th>0</th>\n",
              "      <td>-0.193471</td>\n",
              "      <td>-0.140196</td>\n",
              "      <td>3.485242</td>\n",
              "      <td>-0.159754</td>\n",
              "      <td>0.133422</td>\n",
              "      <td>3.439670</td>\n",
              "      <td>-0.127363</td>\n",
              "      <td>0.402663</td>\n",
              "      <td>3.383824</td>\n",
              "      <td>-0.145597</td>\n",
              "      <td>0.510845</td>\n",
              "      <td>3.376294</td>\n",
              "      <td>-0.227072</td>\n",
              "      <td>0.360714</td>\n",
              "      <td>3.534927</td>\n",
              "      <td>-0.255993</td>\n",
              "      <td>0.134265</td>\n",
              "      <td>3.495645</td>\n",
              "      <td>-0.134752</td>\n",
              "      <td>0.256110</td>\n",
              "      <td>3.414588</td>\n",
              "      <td>-0.132061</td>\n",
              "      <td>0.358414</td>\n",
              "      <td>3.336776</td>\n",
              "      <td>-0.094550</td>\n",
              "      <td>0.263088</td>\n",
              "      <td>3.281452</td>\n",
              "      <td>-0.138210</td>\n",
              "      <td>0.056787</td>\n",
              "      <td>3.241343</td>\n",
              "      <td>-0.321902</td>\n",
              "      <td>0.099285</td>\n",
              "      <td>3.199194</td>\n",
              "      <td>-0.391107</td>\n",
              "      <td>0.134990</td>\n",
              "      <td>3.183039</td>\n",
              "      <td>-0.223024</td>\n",
              "      <td>-0.130348</td>\n",
              "      <td>3.507784</td>\n",
              "      <td>-0.280733</td>\n",
              "      <td>...</td>\n",
              "      <td>-0.185792</td>\n",
              "      <td>-0.160926</td>\n",
              "      <td>3.409353</td>\n",
              "      <td>-0.280970</td>\n",
              "      <td>-0.323773</td>\n",
              "      <td>3.570357</td>\n",
              "      <td>-0.103755</td>\n",
              "      <td>-0.688489</td>\n",
              "      <td>3.646653</td>\n",
              "      <td>-0.120010</td>\n",
              "      <td>-0.744354</td>\n",
              "      <td>3.720368</td>\n",
              "      <td>-0.126721</td>\n",
              "      <td>-0.163590</td>\n",
              "      <td>3.399825</td>\n",
              "      <td>-0.117809</td>\n",
              "      <td>-0.413156</td>\n",
              "      <td>3.453264</td>\n",
              "      <td>-0.027964</td>\n",
              "      <td>-0.728872</td>\n",
              "      <td>3.596136</td>\n",
              "      <td>-0.117640</td>\n",
              "      <td>-0.773319</td>\n",
              "      <td>3.535858</td>\n",
              "      <td>-0.128405</td>\n",
              "      <td>0.364435</td>\n",
              "      <td>3.434550</td>\n",
              "      <td>-0.349257</td>\n",
              "      <td>0.322087</td>\n",
              "      <td>3.133922</td>\n",
              "      <td>-0.376204</td>\n",
              "      <td>0.322929</td>\n",
              "      <td>3.143286</td>\n",
              "      <td>-0.588851</td>\n",
              "      <td>0.421328</td>\n",
              "      <td>2.949086</td>\n",
              "      <td>-0.573784</td>\n",
              "      <td>0.373638</td>\n",
              "      <td>2.953000</td>\n",
              "      <td>0</td>\n",
              "    </tr>\n",
              "    <tr>\n",
              "      <th>1</th>\n",
              "      <td>0.407236</td>\n",
              "      <td>-0.203978</td>\n",
              "      <td>3.600792</td>\n",
              "      <td>0.433974</td>\n",
              "      <td>0.124048</td>\n",
              "      <td>3.656890</td>\n",
              "      <td>0.457121</td>\n",
              "      <td>0.445696</td>\n",
              "      <td>3.699517</td>\n",
              "      <td>0.431437</td>\n",
              "      <td>0.579589</td>\n",
              "      <td>3.753165</td>\n",
              "      <td>0.306630</td>\n",
              "      <td>0.243793</td>\n",
              "      <td>3.812185</td>\n",
              "      <td>0.273483</td>\n",
              "      <td>0.027468</td>\n",
              "      <td>3.682434</td>\n",
              "      <td>0.218870</td>\n",
              "      <td>-0.190255</td>\n",
              "      <td>3.574646</td>\n",
              "      <td>0.195540</td>\n",
              "      <td>-0.223983</td>\n",
              "      <td>3.534432</td>\n",
              "      <td>0.551095</td>\n",
              "      <td>0.312047</td>\n",
              "      <td>3.564009</td>\n",
              "      <td>0.615434</td>\n",
              "      <td>0.115159</td>\n",
              "      <td>3.468599</td>\n",
              "      <td>0.443447</td>\n",
              "      <td>0.070025</td>\n",
              "      <td>3.415957</td>\n",
              "      <td>0.397105</td>\n",
              "      <td>0.061316</td>\n",
              "      <td>3.450704</td>\n",
              "      <td>0.360194</td>\n",
              "      <td>-0.213031</td>\n",
              "      <td>3.605939</td>\n",
              "      <td>0.334220</td>\n",
              "      <td>...</td>\n",
              "      <td>0.216391</td>\n",
              "      <td>-0.256335</td>\n",
              "      <td>3.663712</td>\n",
              "      <td>0.250384</td>\n",
              "      <td>-0.615474</td>\n",
              "      <td>3.648983</td>\n",
              "      <td>0.287771</td>\n",
              "      <td>-0.934863</td>\n",
              "      <td>3.593733</td>\n",
              "      <td>0.219706</td>\n",
              "      <td>-0.959679</td>\n",
              "      <td>3.500273</td>\n",
              "      <td>0.304368</td>\n",
              "      <td>-0.230831</td>\n",
              "      <td>3.586034</td>\n",
              "      <td>0.382844</td>\n",
              "      <td>-0.578345</td>\n",
              "      <td>3.477036</td>\n",
              "      <td>0.487039</td>\n",
              "      <td>-0.932165</td>\n",
              "      <td>3.480299</td>\n",
              "      <td>0.479254</td>\n",
              "      <td>-1.003237</td>\n",
              "      <td>3.404302</td>\n",
              "      <td>0.232311</td>\n",
              "      <td>0.358571</td>\n",
              "      <td>3.724991</td>\n",
              "      <td>-0.326530</td>\n",
              "      <td>0.168164</td>\n",
              "      <td>3.487682</td>\n",
              "      <td>-0.290500</td>\n",
              "      <td>0.087987</td>\n",
              "      <td>3.432125</td>\n",
              "      <td>-0.237585</td>\n",
              "      <td>0.205093</td>\n",
              "      <td>3.328083</td>\n",
              "      <td>-0.211386</td>\n",
              "      <td>0.230131</td>\n",
              "      <td>3.320857</td>\n",
              "      <td>1</td>\n",
              "    </tr>\n",
              "    <tr>\n",
              "      <th>2</th>\n",
              "      <td>0.446281</td>\n",
              "      <td>-0.505178</td>\n",
              "      <td>3.613605</td>\n",
              "      <td>0.511625</td>\n",
              "      <td>-0.339683</td>\n",
              "      <td>3.544557</td>\n",
              "      <td>0.576402</td>\n",
              "      <td>-0.173786</td>\n",
              "      <td>3.470922</td>\n",
              "      <td>0.576861</td>\n",
              "      <td>-0.074490</td>\n",
              "      <td>3.522914</td>\n",
              "      <td>0.437913</td>\n",
              "      <td>-0.189105</td>\n",
              "      <td>3.586424</td>\n",
              "      <td>0.384508</td>\n",
              "      <td>-0.305087</td>\n",
              "      <td>3.617366</td>\n",
              "      <td>0.322038</td>\n",
              "      <td>-0.413022</td>\n",
              "      <td>3.560185</td>\n",
              "      <td>0.304304</td>\n",
              "      <td>-0.459686</td>\n",
              "      <td>3.560451</td>\n",
              "      <td>0.615941</td>\n",
              "      <td>-0.256144</td>\n",
              "      <td>3.459692</td>\n",
              "      <td>0.662969</td>\n",
              "      <td>-0.185256</td>\n",
              "      <td>3.350198</td>\n",
              "      <td>0.644102</td>\n",
              "      <td>-0.280778</td>\n",
              "      <td>3.361310</td>\n",
              "      <td>0.645627</td>\n",
              "      <td>-0.306123</td>\n",
              "      <td>3.378739</td>\n",
              "      <td>0.404268</td>\n",
              "      <td>-0.484900</td>\n",
              "      <td>3.611413</td>\n",
              "      <td>0.236868</td>\n",
              "      <td>...</td>\n",
              "      <td>0.370709</td>\n",
              "      <td>-0.459172</td>\n",
              "      <td>3.447222</td>\n",
              "      <td>0.090338</td>\n",
              "      <td>-0.493429</td>\n",
              "      <td>3.382947</td>\n",
              "      <td>0.097104</td>\n",
              "      <td>-0.847698</td>\n",
              "      <td>3.510185</td>\n",
              "      <td>0.132334</td>\n",
              "      <td>-0.871996</td>\n",
              "      <td>3.419879</td>\n",
              "      <td>0.461612</td>\n",
              "      <td>-0.491932</td>\n",
              "      <td>3.372618</td>\n",
              "      <td>0.221888</td>\n",
              "      <td>-0.523323</td>\n",
              "      <td>3.230454</td>\n",
              "      <td>0.192099</td>\n",
              "      <td>-0.842784</td>\n",
              "      <td>3.369629</td>\n",
              "      <td>0.142473</td>\n",
              "      <td>-0.876745</td>\n",
              "      <td>3.298210</td>\n",
              "      <td>0.502331</td>\n",
              "      <td>-0.039994</td>\n",
              "      <td>3.341697</td>\n",
              "      <td>0.077242</td>\n",
              "      <td>-0.368300</td>\n",
              "      <td>3.471564</td>\n",
              "      <td>0.120845</td>\n",
              "      <td>-0.304216</td>\n",
              "      <td>3.438000</td>\n",
              "      <td>0.338436</td>\n",
              "      <td>-0.436624</td>\n",
              "      <td>3.103175</td>\n",
              "      <td>0.378958</td>\n",
              "      <td>-0.375938</td>\n",
              "      <td>3.096923</td>\n",
              "      <td>2</td>\n",
              "    </tr>\n",
              "    <tr>\n",
              "      <th>3</th>\n",
              "      <td>0.024791</td>\n",
              "      <td>-0.395073</td>\n",
              "      <td>3.435248</td>\n",
              "      <td>0.023275</td>\n",
              "      <td>-0.136877</td>\n",
              "      <td>3.454380</td>\n",
              "      <td>0.023860</td>\n",
              "      <td>0.118253</td>\n",
              "      <td>3.461275</td>\n",
              "      <td>0.029232</td>\n",
              "      <td>0.231564</td>\n",
              "      <td>3.510573</td>\n",
              "      <td>-0.055970</td>\n",
              "      <td>-0.045257</td>\n",
              "      <td>3.511257</td>\n",
              "      <td>-0.112658</td>\n",
              "      <td>-0.179155</td>\n",
              "      <td>3.661581</td>\n",
              "      <td>-0.101223</td>\n",
              "      <td>-0.392077</td>\n",
              "      <td>3.597772</td>\n",
              "      <td>-0.102565</td>\n",
              "      <td>-0.448328</td>\n",
              "      <td>3.588785</td>\n",
              "      <td>0.073573</td>\n",
              "      <td>0.032559</td>\n",
              "      <td>3.361398</td>\n",
              "      <td>0.115630</td>\n",
              "      <td>-0.172983</td>\n",
              "      <td>3.292669</td>\n",
              "      <td>0.045506</td>\n",
              "      <td>-0.368436</td>\n",
              "      <td>3.252027</td>\n",
              "      <td>0.033632</td>\n",
              "      <td>-0.439177</td>\n",
              "      <td>3.265056</td>\n",
              "      <td>-0.009245</td>\n",
              "      <td>-0.397228</td>\n",
              "      <td>3.431382</td>\n",
              "      <td>0.027539</td>\n",
              "      <td>...</td>\n",
              "      <td>-0.035090</td>\n",
              "      <td>-0.358974</td>\n",
              "      <td>3.404099</td>\n",
              "      <td>0.015318</td>\n",
              "      <td>-0.730544</td>\n",
              "      <td>3.455158</td>\n",
              "      <td>0.102636</td>\n",
              "      <td>-1.050567</td>\n",
              "      <td>3.428672</td>\n",
              "      <td>0.086024</td>\n",
              "      <td>-1.108109</td>\n",
              "      <td>3.387944</td>\n",
              "      <td>0.043531</td>\n",
              "      <td>-0.352321</td>\n",
              "      <td>3.387692</td>\n",
              "      <td>0.071926</td>\n",
              "      <td>-0.701246</td>\n",
              "      <td>3.346902</td>\n",
              "      <td>0.133686</td>\n",
              "      <td>-1.041072</td>\n",
              "      <td>3.376576</td>\n",
              "      <td>0.100167</td>\n",
              "      <td>-1.098106</td>\n",
              "      <td>3.372944</td>\n",
              "      <td>0.015078</td>\n",
              "      <td>0.028433</td>\n",
              "      <td>3.372547</td>\n",
              "      <td>-0.094870</td>\n",
              "      <td>0.218149</td>\n",
              "      <td>3.710907</td>\n",
              "      <td>-0.096914</td>\n",
              "      <td>0.201950</td>\n",
              "      <td>3.711600</td>\n",
              "      <td>0.030358</td>\n",
              "      <td>0.453871</td>\n",
              "      <td>3.238714</td>\n",
              "      <td>0.022799</td>\n",
              "      <td>0.453902</td>\n",
              "      <td>3.228391</td>\n",
              "      <td>3</td>\n",
              "    </tr>\n",
              "    <tr>\n",
              "      <th>4</th>\n",
              "      <td>0.210425</td>\n",
              "      <td>-0.235758</td>\n",
              "      <td>3.166870</td>\n",
              "      <td>0.184179</td>\n",
              "      <td>0.031452</td>\n",
              "      <td>3.073890</td>\n",
              "      <td>0.161181</td>\n",
              "      <td>0.293710</td>\n",
              "      <td>2.969338</td>\n",
              "      <td>0.202360</td>\n",
              "      <td>0.394784</td>\n",
              "      <td>2.966507</td>\n",
              "      <td>0.062716</td>\n",
              "      <td>0.174857</td>\n",
              "      <td>2.932406</td>\n",
              "      <td>0.022847</td>\n",
              "      <td>-0.043181</td>\n",
              "      <td>2.962481</td>\n",
              "      <td>0.053478</td>\n",
              "      <td>-0.245025</td>\n",
              "      <td>2.983289</td>\n",
              "      <td>0.073164</td>\n",
              "      <td>-0.315761</td>\n",
              "      <td>3.006615</td>\n",
              "      <td>0.280872</td>\n",
              "      <td>0.222570</td>\n",
              "      <td>3.101913</td>\n",
              "      <td>0.314963</td>\n",
              "      <td>-0.007228</td>\n",
              "      <td>3.243066</td>\n",
              "      <td>0.327934</td>\n",
              "      <td>-0.228310</td>\n",
              "      <td>3.211354</td>\n",
              "      <td>0.327475</td>\n",
              "      <td>-0.281674</td>\n",
              "      <td>3.214828</td>\n",
              "      <td>0.158141</td>\n",
              "      <td>-0.240579</td>\n",
              "      <td>3.098086</td>\n",
              "      <td>0.089640</td>\n",
              "      <td>...</td>\n",
              "      <td>-0.098710</td>\n",
              "      <td>-0.338214</td>\n",
              "      <td>3.203073</td>\n",
              "      <td>0.179561</td>\n",
              "      <td>-0.611127</td>\n",
              "      <td>3.159227</td>\n",
              "      <td>0.145008</td>\n",
              "      <td>-0.863982</td>\n",
              "      <td>3.305909</td>\n",
              "      <td>0.160223</td>\n",
              "      <td>-0.770447</td>\n",
              "      <td>3.221680</td>\n",
              "      <td>-0.075856</td>\n",
              "      <td>-0.450601</td>\n",
              "      <td>3.255080</td>\n",
              "      <td>0.122238</td>\n",
              "      <td>-0.592438</td>\n",
              "      <td>3.059861</td>\n",
              "      <td>0.186497</td>\n",
              "      <td>-0.772249</td>\n",
              "      <td>3.279590</td>\n",
              "      <td>0.134901</td>\n",
              "      <td>-0.699701</td>\n",
              "      <td>3.157621</td>\n",
              "      <td>0.267699</td>\n",
              "      <td>-0.448802</td>\n",
              "      <td>2.980761</td>\n",
              "      <td>0.241956</td>\n",
              "      <td>-0.778819</td>\n",
              "      <td>3.118881</td>\n",
              "      <td>0.219262</td>\n",
              "      <td>-0.764364</td>\n",
              "      <td>3.117000</td>\n",
              "      <td>0.306501</td>\n",
              "      <td>-0.983596</td>\n",
              "      <td>3.471498</td>\n",
              "      <td>0.302877</td>\n",
              "      <td>-0.983841</td>\n",
              "      <td>3.434414</td>\n",
              "      <td>4</td>\n",
              "    </tr>\n",
              "  </tbody>\n",
              "</table>\n",
              "<p>5 rows × 3376 columns</p>\n",
              "</div>"
            ],
            "text/plain": [
              "          0         1         2         3  ...      3372      3373      3374  labels\n",
              "0 -0.193471 -0.140196  3.485242 -0.159754  ... -0.573784  0.373638  2.953000       0\n",
              "1  0.407236 -0.203978  3.600792  0.433974  ... -0.211386  0.230131  3.320857       1\n",
              "2  0.446281 -0.505178  3.613605  0.511625  ...  0.378958 -0.375938  3.096923       2\n",
              "3  0.024791 -0.395073  3.435248  0.023275  ...  0.022799  0.453902  3.228391       3\n",
              "4  0.210425 -0.235758  3.166870  0.184179  ...  0.302877 -0.983841  3.434414       4\n",
              "\n",
              "[5 rows x 3376 columns]"
            ]
          },
          "metadata": {
            "tags": []
          },
          "execution_count": 21
        }
      ]
    },
    {
      "cell_type": "markdown",
      "metadata": {
        "id": "IqQqoxoFZayl"
      },
      "source": [
        "### Переопределение класса Dataset для фильтрации данных из ZIP"
      ]
    },
    {
      "cell_type": "code",
      "metadata": {
        "id": "aJiacCaWEjeS"
      },
      "source": [
        "class Skeleton_Dataset(Dataset):\n",
        "    def __init__(self, zip_file_path, broken_files_path, filter_params, transform=None):\n",
        "        self.data, self.LABELS = get_data(zip_file_path, broken_files_path, filter_params)\n",
        "        self.transform = transform\n",
        "        self.filter_params = filter_params\n",
        "        self.labels = self.data.iloc[:,-1]\n",
        "\n",
        "\n",
        "    def __len__(self):\n",
        "        return len(self.data) \n",
        "    \n",
        "    \n",
        "    def __getitem__(self, idx):\n",
        "        item = np.asarray(self.data.iloc[idx,:-1]).reshape(self.filter_params['chonk_len'], 25*3)\n",
        "        label = self.labels[idx]\n",
        "        if self.transform != None:\n",
        "            item = self.transform(item)\n",
        "        return (item, label) "
      ],
      "execution_count": null,
      "outputs": []
    },
    {
      "cell_type": "markdown",
      "metadata": {
        "id": "iV5NI252Zu0v"
      },
      "source": [
        "### Создание и тренировка модели из урока на 10 классах"
      ]
    },
    {
      "cell_type": "code",
      "metadata": {
        "colab": {
          "base_uri": "https://localhost:8080/"
        },
        "id": "oOiwK4LJxy-z",
        "outputId": "41318298-a461-40ee-eefe-48ab547d976a"
      },
      "source": [
        "use_cuda = torch.cuda.is_available()\n",
        "# device = torch.device(\"cpu\")\n",
        "device = torch.device('cuda') if torch.cuda.is_available() else torch.device('cpu')\n",
        "print(device)"
      ],
      "execution_count": null,
      "outputs": [
        {
          "output_type": "stream",
          "text": [
            "cuda\n"
          ],
          "name": "stdout"
        }
      ]
    },
    {
      "cell_type": "code",
      "metadata": {
        "colab": {
          "base_uri": "https://localhost:8080/"
        },
        "id": "LkvWeVKREjb_",
        "outputId": "831ebf14-5b40-4f93-c4c8-1e355ff49db6"
      },
      "source": [
        "dataset = Skeleton_Dataset(zip_file_path = DATA_ZIP, broken_files_path=broken_files_path, filter_params=filter_params) # , transform=transforms.ToTensor()"
      ],
      "execution_count": null,
      "outputs": [
        {
          "output_type": "stream",
          "text": [
            "action classes:  {32: 0, 56: 1, 8: 2, 22: 3, 16: 4, 24: 5, 48: 6, 40: 7, 10: 8, 23: 9}\n",
            "action files:  {32: 120, 56: 120, 8: 120, 22: 120, 16: 120, 24: 120, 48: 120, 40: 120, 10: 120, 23: 120}\n"
          ],
          "name": "stdout"
        }
      ]
    },
    {
      "cell_type": "code",
      "metadata": {
        "id": "ei7dE_KdP7pE"
      },
      "source": [
        "train_dataset, test_dataset = torch.utils.data.random_split(dataset, [int(0.75*len(dataset)), len(dataset) - int(0.75*len(dataset))])\n",
        "train_loader = DataLoader(train_dataset, batch_size = 16, shuffle=True)\n",
        "test_loader = DataLoader(test_dataset, batch_size = 1, shuffle=True)"
      ],
      "execution_count": null,
      "outputs": []
    },
    {
      "cell_type": "code",
      "metadata": {
        "id": "iuloNzLUx6jF"
      },
      "source": [
        "class LSTM_net(nn.Module):\n",
        "    def __init__(self,input_dim,hidden_dim,output_dim,layer_num):\n",
        "        super().__init__()\n",
        "        self.hidden_dim = hidden_dim\n",
        "        self.output_dim = output_dim\n",
        "        self.lstm = torch.nn.LSTM(input_dim, hidden_dim,layer_num,batch_first=True)\n",
        "        self.dr = torch.nn.Dropout2d(0.1)\n",
        "        self.fc = torch.nn.Linear(hidden_dim,output_dim)\n",
        "        \n",
        "        \n",
        "    def forward(self,inputs):\n",
        "        x = inputs\n",
        "        lstm_out,(hn,cn) = self.lstm(x)\n",
        "        out = self.fc(lstm_out[:,-1,:])\n",
        "        return out"
      ],
      "execution_count": null,
      "outputs": []
    },
    {
      "cell_type": "code",
      "metadata": {
        "colab": {
          "base_uri": "https://localhost:8080/"
        },
        "id": "YMFKnscQP7mw",
        "outputId": "819cbe28-3e47-4c0d-8fc3-f8c53543e1bd"
      },
      "source": [
        "n_hidden = 128\n",
        "n_joints = 25*3\n",
        "LABELS = dataset.LABELS\n",
        "n_categories = len(LABELS)\n",
        "n_layer = 2\n",
        "rnn = LSTM_net(n_joints, n_hidden, n_categories, n_layer)\n",
        "rnn.to(device)"
      ],
      "execution_count": null,
      "outputs": [
        {
          "output_type": "execute_result",
          "data": {
            "text/plain": [
              "LSTM_net(\n",
              "  (lstm): LSTM(75, 128, num_layers=2, batch_first=True)\n",
              "  (dr): Dropout2d(p=0.1, inplace=False)\n",
              "  (fc): Linear(in_features=128, out_features=10, bias=True)\n",
              ")"
            ]
          },
          "metadata": {
            "tags": []
          },
          "execution_count": 118
        }
      ]
    },
    {
      "cell_type": "code",
      "metadata": {
        "id": "UsX9AU3FyTXI"
      },
      "source": [
        "def categoryFromOutput(output):\n",
        "    top_n, top_i = output.topk(1)\n",
        "    category_i = top_i[0].item()\n",
        "#     print(output.topk(5))\n",
        "    return LABELS[category_i], category_i\n",
        "\n",
        "def timeSince(since):\n",
        "    now = time.time()\n",
        "    s = now - since\n",
        "    m = math.floor(s / 60)\n",
        "    s -= m * 60\n",
        "    return '%dm %ds' % (m, s)"
      ],
      "execution_count": null,
      "outputs": []
    },
    {
      "cell_type": "code",
      "metadata": {
        "id": "CIM6xWudyTO5"
      },
      "source": [
        "from torch import optim\n",
        "import time\n",
        "import math\n",
        "\n",
        "def train_and_eval():\n",
        "  criterion = nn.CrossEntropyLoss()\n",
        "  learning_rate = 0.0007\n",
        "  optimizer = optim.SGD(rnn.parameters(),lr=learning_rate,momentum=0.9)\n",
        "\n",
        "  all_losses = []\n",
        "  start = time.time()\n",
        "  counter = 0\n",
        "  for epoch in range(600):  \n",
        "      current_loss = 0\n",
        "      running_loss = 0.0\n",
        "      for i, data in enumerate(train_loader, 0):\n",
        "          \n",
        "          inputs, labels = data[0].to(device), data[1].to(device)\n",
        "          optimizer.zero_grad()\n",
        "      \n",
        "          output = rnn(inputs.float())\n",
        "          loss = criterion(output, labels)\n",
        "          loss.backward()\n",
        "          optimizer.step() \n",
        "\n",
        "\n",
        "          current_loss += loss.item()\n",
        "          category = LABELS[int(labels[0])]\n",
        "\n",
        "          if counter % 500 == 0:\n",
        "              guess, guess_i = categoryFromOutput(output)\n",
        "              correct = '✓' if guess == category else '✗ (%s)' % category\n",
        "              print('epoch : %d iter : %d (%s) %.4f  / %s %s' % (epoch, i, timeSince(start), loss, guess, correct))\n",
        "\n",
        "          \n",
        "          counter = counter + 1\n",
        "      if counter % 100 == 0:\n",
        "          all_losses.append(current_loss / 25)\n",
        "          current_loss = 0\n",
        "\n",
        "  #----------------------------------------------------------------------------\n",
        "\n",
        "  total = 0\n",
        "  right = 0\n",
        "  counter = 0\n",
        "\n",
        "  rnn.eval()\n",
        "  with torch.no_grad():\n",
        "      for i, data in enumerate(test_loader, 0):\n",
        "          counter = counter + 1\n",
        "          inputs, labels = data[0].to(device), data[1].to(device)  \n",
        "          output = rnn(inputs.float())\n",
        "          guess, guess_i = categoryFromOutput(output)\n",
        "          category = LABELS[int(labels[0])]\n",
        "          \n",
        "          if guess == category:\n",
        "              right = right + 1\n",
        "\n",
        "\n",
        "  print('Accuracy of the network:  ',  (100 * right / counter))\n",
        "\n",
        "  #----------------------------------------------------------------------------\n",
        "\n",
        "  plt.plot(all_losses)\n",
        "  plt.show()"
      ],
      "execution_count": null,
      "outputs": []
    },
    {
      "cell_type": "code",
      "metadata": {
        "colab": {
          "base_uri": "https://localhost:8080/",
          "height": 1000
        },
        "id": "D-kNAjYEyTLB",
        "outputId": "257d456b-d5dd-4b10-ebd0-ebd095b4f93e"
      },
      "source": [
        "train_and_eval()"
      ],
      "execution_count": null,
      "outputs": [
        {
          "output_type": "stream",
          "text": [
            "epoch : 0 iter : 0 (0m 0s) 1.9091  / 56 ✗ (48)\n",
            "epoch : 7 iter : 59 (0m 13s) 0.9828  / 22 ✓\n",
            "epoch : 15 iter : 55 (0m 26s) 1.1937  / 56 ✓\n",
            "epoch : 23 iter : 51 (0m 39s) 1.1317  / 16 ✓\n",
            "epoch : 31 iter : 47 (0m 52s) 1.0579  / 48 ✗ (10)\n",
            "epoch : 39 iter : 43 (1m 5s) 0.9862  / 56 ✗ (24)\n",
            "epoch : 47 iter : 39 (1m 19s) 0.8435  / 40 ✓\n",
            "epoch : 55 iter : 35 (1m 32s) 0.6048  / 23 ✓\n",
            "epoch : 63 iter : 31 (1m 45s) 1.0988  / 10 ✗ (48)\n",
            "epoch : 71 iter : 27 (1m 58s) 0.7581  / 24 ✗ (56)\n",
            "epoch : 79 iter : 23 (2m 11s) 0.9369  / 8 ✓\n",
            "epoch : 87 iter : 19 (2m 25s) 0.9672  / 10 ✗ (56)\n",
            "epoch : 95 iter : 15 (2m 38s) 1.1573  / 24 ✓\n",
            "epoch : 103 iter : 11 (2m 51s) 1.0718  / 16 ✗ (32)\n",
            "epoch : 111 iter : 7 (3m 4s) 1.0569  / 10 ✗ (24)\n",
            "epoch : 119 iter : 3 (3m 17s) 0.6572  / 24 ✓\n",
            "epoch : 126 iter : 62 (3m 31s) 1.2632  / 40 ✓\n",
            "epoch : 134 iter : 58 (3m 44s) 0.5845  / 56 ✓\n",
            "epoch : 142 iter : 54 (3m 57s) 0.6512  / 16 ✓\n",
            "epoch : 150 iter : 50 (4m 10s) 0.5916  / 40 ✓\n",
            "epoch : 158 iter : 46 (4m 24s) 0.3536  / 22 ✓\n",
            "epoch : 166 iter : 42 (4m 37s) 0.7322  / 24 ✗ (8)\n",
            "epoch : 174 iter : 38 (4m 50s) 0.6058  / 16 ✓\n",
            "epoch : 182 iter : 34 (5m 3s) 0.5611  / 16 ✓\n",
            "epoch : 190 iter : 30 (5m 16s) 0.5481  / 56 ✓\n",
            "epoch : 198 iter : 26 (5m 29s) 0.5767  / 48 ✓\n",
            "epoch : 206 iter : 22 (5m 42s) 0.3290  / 32 ✓\n",
            "epoch : 214 iter : 18 (5m 56s) 0.4542  / 10 ✓\n",
            "epoch : 222 iter : 14 (6m 9s) 0.3162  / 22 ✓\n",
            "epoch : 230 iter : 10 (6m 22s) 0.5325  / 23 ✓\n",
            "epoch : 238 iter : 6 (6m 35s) 0.3135  / 48 ✓\n",
            "epoch : 246 iter : 2 (6m 48s) 0.3651  / 40 ✓\n",
            "epoch : 253 iter : 61 (7m 1s) 0.1244  / 32 ✓\n",
            "epoch : 261 iter : 57 (7m 15s) 0.3152  / 22 ✓\n",
            "epoch : 269 iter : 53 (7m 28s) 0.2359  / 23 ✓\n",
            "epoch : 277 iter : 49 (7m 41s) 0.4625  / 10 ✓\n",
            "epoch : 285 iter : 45 (7m 54s) 0.2642  / 23 ✓\n",
            "epoch : 293 iter : 41 (8m 7s) 0.1996  / 16 ✓\n",
            "epoch : 301 iter : 37 (8m 20s) 0.1589  / 32 ✓\n",
            "epoch : 309 iter : 33 (8m 34s) 0.1833  / 24 ✓\n",
            "epoch : 317 iter : 29 (8m 47s) 0.0960  / 56 ✓\n",
            "epoch : 325 iter : 25 (9m 0s) 0.1619  / 22 ✓\n",
            "epoch : 333 iter : 21 (9m 13s) 0.3453  / 48 ✓\n",
            "epoch : 341 iter : 17 (9m 27s) 0.0397  / 56 ✓\n",
            "epoch : 349 iter : 13 (9m 40s) 0.2548  / 40 ✓\n",
            "epoch : 357 iter : 9 (9m 53s) 0.0345  / 40 ✓\n",
            "epoch : 365 iter : 5 (10m 6s) 0.0375  / 8 ✓\n",
            "epoch : 373 iter : 1 (10m 19s) 0.0073  / 8 ✓\n",
            "epoch : 380 iter : 60 (10m 32s) 0.0191  / 10 ✓\n",
            "epoch : 388 iter : 56 (10m 46s) 0.0088  / 8 ✓\n",
            "epoch : 396 iter : 52 (10m 59s) 0.0068  / 23 ✓\n",
            "epoch : 404 iter : 48 (11m 12s) 0.0103  / 48 ✓\n",
            "epoch : 412 iter : 44 (11m 25s) 0.9601  / 8 ✓\n",
            "epoch : 420 iter : 40 (11m 38s) 0.2111  / 48 ✓\n",
            "epoch : 428 iter : 36 (11m 52s) 0.3619  / 24 ✓\n",
            "epoch : 436 iter : 32 (12m 5s) 0.0139  / 22 ✓\n",
            "epoch : 444 iter : 28 (12m 18s) 0.0587  / 22 ✓\n",
            "epoch : 452 iter : 24 (12m 31s) 0.5084  / 23 ✓\n",
            "epoch : 460 iter : 20 (12m 44s) 0.5139  / 24 ✗ (56)\n",
            "epoch : 468 iter : 16 (12m 58s) 0.2577  / 48 ✓\n",
            "epoch : 476 iter : 12 (13m 11s) 0.5216  / 23 ✗ (22)\n",
            "epoch : 484 iter : 8 (13m 24s) 0.0472  / 8 ✓\n",
            "epoch : 492 iter : 4 (13m 37s) 0.0162  / 22 ✓\n",
            "epoch : 500 iter : 0 (13m 51s) 0.0223  / 23 ✓\n",
            "epoch : 507 iter : 59 (14m 4s) 0.1032  / 23 ✓\n",
            "epoch : 515 iter : 55 (14m 17s) 0.0090  / 32 ✓\n",
            "epoch : 523 iter : 51 (14m 30s) 0.6762  / 10 ✗ (23)\n",
            "epoch : 531 iter : 47 (14m 43s) 0.3042  / 24 ✓\n",
            "epoch : 539 iter : 43 (14m 57s) 0.4174  / 10 ✓\n",
            "epoch : 547 iter : 39 (15m 10s) 0.0114  / 32 ✓\n",
            "epoch : 555 iter : 35 (15m 23s) 0.1208  / 23 ✓\n",
            "epoch : 563 iter : 31 (15m 36s) 0.0049  / 16 ✓\n",
            "epoch : 571 iter : 27 (15m 49s) 0.0161  / 22 ✓\n",
            "epoch : 579 iter : 23 (16m 2s) 0.0056  / 16 ✓\n",
            "epoch : 587 iter : 19 (16m 16s) 0.0069  / 48 ✓\n",
            "epoch : 595 iter : 15 (16m 29s) 0.0056  / 16 ✓\n",
            "Accuracy of the network:   68.8622754491018\n"
          ],
          "name": "stdout"
        },
        {
          "output_type": "display_data",
          "data": {
            "image/png": "[encoded data removed]",
            "text/plain": [
              "<Figure size 432x288 with 1 Axes>"
            ]
          },
          "metadata": {
            "tags": [],
            "needs_background": "light"
          }
        }
      ]
    },
    {
      "cell_type": "markdown",
      "metadata": {
        "id": "Z5i3YOWSnYVv"
      },
      "source": [
        "### Посмотрим на результаты с другим количеством слоев"
      ]
    },
    {
      "cell_type": "code",
      "metadata": {
        "colab": {
          "base_uri": "https://localhost:8080/",
          "height": 1000
        },
        "id": "jb4-MWS8yTGR",
        "outputId": "8d5d45a9-1abe-4556-d1bf-3c0405aded1f"
      },
      "source": [
        "filter_params['chonk_len']=45\n",
        "dataset = Skeleton_Dataset(zip_file_path = DATA_ZIP, broken_files_path=broken_files_path, filter_params=filter_params)\n",
        "train_dataset, test_dataset = torch.utils.data.random_split(dataset, [int(0.75*len(dataset)), len(dataset) - int(0.75*len(dataset))])\n",
        "train_loader = DataLoader(train_dataset, batch_size = 16, shuffle=True)\n",
        "test_loader = DataLoader(test_dataset, batch_size = 1, shuffle=True)\n",
        "\n",
        "n_hidden = 128\n",
        "n_joints = 25*3\n",
        "LABELS = dataset.LABELS\n",
        "n_categories = len(LABELS)\n",
        "for n_layer in [3, 4, 5]:\n",
        "  rnn = LSTM_net(n_joints, n_hidden, n_categories, n_layer)\n",
        "  rnn.to(device)\n",
        "  train_and_eval()"
      ],
      "execution_count": null,
      "outputs": [
        {
          "output_type": "stream",
          "text": [
            "action classes:  {32: 0, 56: 1, 8: 2, 22: 3, 16: 4, 24: 5, 48: 6, 40: 7, 10: 8, 23: 9}\n",
            "action files:  {32: 120, 56: 120, 8: 120, 22: 120, 16: 120, 24: 120, 48: 120, 40: 120, 10: 120, 23: 120}\n",
            "epoch : 0 iter : 0 (0m 0s) 2.2958  / 8 ✗ (24)\n",
            "epoch : 7 iter : 59 (0m 13s) 2.3189  / 8 ✗ (32)\n",
            "epoch : 15 iter : 55 (0m 27s) 2.3185  / 8 ✗ (32)\n",
            "epoch : 23 iter : 51 (0m 41s) 2.2581  / 8 ✗ (48)\n",
            "epoch : 31 iter : 47 (0m 55s) 2.2564  / 16 ✓\n",
            "epoch : 39 iter : 43 (1m 9s) 2.2298  / 16 ✗ (23)\n",
            "epoch : 47 iter : 39 (1m 22s) 2.0768  / 22 ✗ (40)\n",
            "epoch : 55 iter : 35 (1m 36s) 1.9452  / 22 ✓\n",
            "epoch : 63 iter : 31 (1m 50s) 1.6476  / 22 ✓\n",
            "epoch : 71 iter : 27 (2m 4s) 1.8134  / 56 ✓\n",
            "epoch : 79 iter : 23 (2m 18s) 1.7792  / 8 ✗ (16)\n",
            "epoch : 87 iter : 19 (2m 31s) 1.6535  / 32 ✗ (56)\n",
            "epoch : 95 iter : 15 (2m 45s) 1.5799  / 56 ✗ (48)\n",
            "epoch : 103 iter : 11 (2m 59s) 1.7920  / 8 ✗ (24)\n",
            "epoch : 111 iter : 7 (3m 13s) 1.4300  / 32 ✗ (23)\n",
            "epoch : 119 iter : 3 (3m 27s) 1.3943  / 8 ✗ (16)\n",
            "epoch : 126 iter : 62 (3m 40s) 2.4412  / 32 ✗ (24)\n",
            "epoch : 134 iter : 58 (3m 54s) 1.7740  / 56 ✗ (32)\n",
            "epoch : 142 iter : 54 (4m 8s) 1.7120  / 22 ✓\n",
            "epoch : 150 iter : 50 (4m 22s) 1.3289  / 24 ✗ (8)\n",
            "epoch : 158 iter : 46 (4m 36s) 1.9138  / 32 ✗ (10)\n",
            "epoch : 166 iter : 42 (4m 50s) 2.0911  / 16 ✗ (24)\n",
            "epoch : 174 iter : 38 (5m 3s) 1.6112  / 48 ✗ (10)\n",
            "epoch : 182 iter : 34 (5m 17s) 1.3044  / 56 ✗ (32)\n",
            "epoch : 190 iter : 30 (5m 31s) 1.3012  / 40 ✓\n",
            "epoch : 198 iter : 26 (5m 45s) 1.6209  / 32 ✗ (23)\n",
            "epoch : 206 iter : 22 (5m 59s) 1.4357  / 40 ✓\n",
            "epoch : 214 iter : 18 (6m 12s) 1.4427  / 40 ✓\n",
            "epoch : 222 iter : 14 (6m 26s) 1.3049  / 24 ✓\n",
            "epoch : 230 iter : 10 (6m 40s) 1.3935  / 40 ✓\n",
            "epoch : 238 iter : 6 (6m 54s) 1.0131  / 32 ✗ (23)\n",
            "epoch : 246 iter : 2 (7m 8s) 0.6977  / 32 ✓\n",
            "epoch : 253 iter : 61 (7m 21s) 1.3907  / 24 ✗ (16)\n",
            "epoch : 261 iter : 57 (7m 35s) 0.9535  / 40 ✓\n",
            "epoch : 269 iter : 53 (7m 49s) 1.0153  / 16 ✓\n",
            "epoch : 277 iter : 49 (8m 3s) 1.4087  / 32 ✓\n",
            "epoch : 285 iter : 45 (8m 17s) 0.8099  / 56 ✓\n",
            "epoch : 293 iter : 41 (8m 30s) 1.0481  / 24 ✓\n",
            "epoch : 301 iter : 37 (8m 44s) 1.0665  / 24 ✓\n",
            "epoch : 309 iter : 33 (8m 58s) 1.0103  / 32 ✗ (10)\n",
            "epoch : 317 iter : 29 (9m 12s) 0.8789  / 8 ✗ (48)\n",
            "epoch : 325 iter : 25 (9m 26s) 0.8388  / 23 ✓\n",
            "epoch : 333 iter : 21 (9m 39s) 0.2999  / 16 ✓\n",
            "epoch : 341 iter : 17 (9m 53s) 0.7314  / 16 ✗ (48)\n",
            "epoch : 349 iter : 13 (10m 7s) 0.4390  / 8 ✓\n",
            "epoch : 357 iter : 9 (10m 21s) 0.4789  / 32 ✓\n",
            "epoch : 365 iter : 5 (10m 34s) 0.4531  / 24 ✓\n",
            "epoch : 373 iter : 1 (10m 48s) 0.5081  / 10 ✓\n",
            "epoch : 380 iter : 60 (11m 2s) 0.5588  / 23 ✗ (32)\n",
            "epoch : 388 iter : 56 (11m 16s) 0.6874  / 56 ✗ (48)\n",
            "epoch : 396 iter : 52 (11m 30s) 0.3454  / 32 ✓\n",
            "epoch : 404 iter : 48 (11m 44s) 0.7837  / 48 ✓\n",
            "epoch : 412 iter : 44 (11m 57s) 0.9696  / 48 ✓\n",
            "epoch : 420 iter : 40 (12m 11s) 0.8574  / 8 ✗ (16)\n",
            "epoch : 428 iter : 36 (12m 25s) 0.5422  / 22 ✓\n",
            "epoch : 436 iter : 32 (12m 39s) 0.3274  / 22 ✓\n",
            "epoch : 444 iter : 28 (12m 53s) 0.8259  / 10 ✓\n",
            "epoch : 452 iter : 24 (13m 6s) 0.3112  / 48 ✓\n",
            "epoch : 460 iter : 20 (13m 20s) 0.5561  / 22 ✓\n",
            "epoch : 468 iter : 16 (13m 34s) 0.3498  / 23 ✓\n",
            "epoch : 476 iter : 12 (13m 48s) 0.2557  / 32 ✓\n",
            "epoch : 484 iter : 8 (14m 2s) 0.5382  / 16 ✓\n",
            "epoch : 492 iter : 4 (14m 15s) 0.2084  / 48 ✓\n",
            "epoch : 500 iter : 0 (14m 29s) 0.1157  / 56 ✓\n",
            "epoch : 507 iter : 59 (14m 43s) 0.0673  / 48 ✓\n",
            "epoch : 515 iter : 55 (14m 57s) 0.2394  / 23 ✓\n",
            "epoch : 523 iter : 51 (15m 10s) 0.5741  / 22 ✓\n",
            "epoch : 531 iter : 47 (15m 24s) 0.0921  / 22 ✓\n",
            "epoch : 539 iter : 43 (15m 38s) 0.1720  / 23 ✓\n",
            "epoch : 547 iter : 39 (15m 52s) 0.0850  / 8 ✓\n",
            "epoch : 555 iter : 35 (16m 5s) 0.4455  / 10 ✓\n",
            "epoch : 563 iter : 31 (16m 19s) 0.2021  / 48 ✓\n",
            "epoch : 571 iter : 27 (16m 33s) 0.0578  / 8 ✓\n",
            "epoch : 579 iter : 23 (16m 47s) 0.1313  / 22 ✓\n",
            "epoch : 587 iter : 19 (17m 1s) 0.0928  / 23 ✓\n",
            "epoch : 595 iter : 15 (17m 14s) 0.1067  / 32 ✓\n",
            "Accuracy of the network:   64.37125748502994\n"
          ],
          "name": "stdout"
        },
        {
          "output_type": "display_data",
          "data": {
            "image/png": "[encoded data removed]",
            "text/plain": [
              "<Figure size 432x288 with 1 Axes>"
            ]
          },
          "metadata": {
            "tags": [],
            "needs_background": "light"
          }
        },
        {
          "output_type": "stream",
          "text": [
            "epoch : 0 iter : 0 (0m 0s) 2.2973  / 48 ✗ (10)\n",
            "epoch : 7 iter : 59 (0m 14s) 2.3024  / 32 ✗ (16)\n",
            "epoch : 15 iter : 55 (0m 28s) 2.2922  / 32 ✓\n",
            "epoch : 23 iter : 51 (0m 43s) 2.2896  / 32 ✗ (16)\n",
            "epoch : 31 iter : 47 (0m 57s) 2.3152  / 32 ✗ (23)\n",
            "epoch : 39 iter : 43 (1m 12s) 2.2742  / 32 ✗ (16)\n",
            "epoch : 47 iter : 39 (1m 26s) 2.3333  / 32 ✗ (40)\n",
            "epoch : 55 iter : 35 (1m 40s) 2.2732  / 32 ✗ (23)\n",
            "epoch : 63 iter : 31 (1m 55s) 2.2819  / 32 ✗ (23)\n",
            "epoch : 71 iter : 27 (2m 9s) 2.2393  / 32 ✗ (22)\n",
            "epoch : 79 iter : 23 (2m 24s) 2.3041  / 32 ✗ (40)\n",
            "epoch : 87 iter : 19 (2m 38s) 2.2958  / 32 ✗ (48)\n",
            "epoch : 95 iter : 15 (2m 52s) 2.2648  / 32 ✗ (22)\n",
            "epoch : 103 iter : 11 (3m 7s) 2.3034  / 32 ✗ (10)\n",
            "epoch : 111 iter : 7 (3m 21s) 2.3161  / 32 ✗ (40)\n",
            "epoch : 119 iter : 3 (3m 36s) 2.2898  / 32 ✗ (22)\n",
            "epoch : 126 iter : 62 (3m 50s) 2.2145  / 32 ✗ (22)\n",
            "epoch : 134 iter : 58 (4m 4s) 2.2283  / 32 ✗ (48)\n",
            "epoch : 142 iter : 54 (4m 19s) 2.0939  / 16 ✗ (56)\n",
            "epoch : 150 iter : 50 (4m 33s) 1.8721  / 32 ✓\n",
            "epoch : 158 iter : 46 (4m 47s) 2.0083  / 22 ✗ (40)\n",
            "epoch : 166 iter : 42 (5m 2s) 1.7037  / 8 ✗ (24)\n",
            "epoch : 174 iter : 38 (5m 16s) 1.7231  / 22 ✓\n",
            "epoch : 182 iter : 34 (5m 31s) 1.5772  / 32 ✗ (48)\n",
            "epoch : 190 iter : 30 (5m 45s) 1.5812  / 8 ✗ (16)\n",
            "epoch : 198 iter : 26 (5m 59s) 1.6045  / 22 ✓\n",
            "epoch : 206 iter : 22 (6m 14s) 1.5596  / 48 ✗ (10)\n",
            "epoch : 214 iter : 18 (6m 29s) 2.0624  / 32 ✗ (22)\n",
            "epoch : 222 iter : 14 (6m 43s) 2.0088  / 32 ✓\n",
            "epoch : 230 iter : 10 (6m 58s) 1.4830  / 32 ✓\n",
            "epoch : 238 iter : 6 (7m 12s) 1.8580  / 8 ✗ (16)\n",
            "epoch : 246 iter : 2 (7m 26s) 1.9887  / 32 ✗ (23)\n",
            "epoch : 253 iter : 61 (7m 41s) 1.8713  / 56 ✗ (48)\n",
            "epoch : 261 iter : 57 (7m 55s) 2.0193  / 16 ✗ (56)\n",
            "epoch : 269 iter : 53 (8m 10s) 1.6576  / 56 ✗ (16)\n",
            "epoch : 277 iter : 49 (8m 24s) 1.6670  / 8 ✓\n",
            "epoch : 285 iter : 45 (8m 39s) 1.8805  / 32 ✗ (10)\n",
            "epoch : 293 iter : 41 (8m 53s) 1.4696  / 8 ✓\n",
            "epoch : 301 iter : 37 (9m 7s) 1.6136  / 56 ✓\n",
            "epoch : 309 iter : 33 (9m 22s) 1.5413  / 48 ✗ (10)\n",
            "epoch : 317 iter : 29 (9m 36s) 1.1890  / 56 ✓\n",
            "epoch : 325 iter : 25 (9m 51s) 1.1070  / 22 ✓\n",
            "epoch : 333 iter : 21 (10m 5s) 1.4455  / 10 ✗ (48)\n",
            "epoch : 341 iter : 17 (10m 20s) 1.3208  / 8 ✓\n",
            "epoch : 349 iter : 13 (10m 34s) 1.5358  / 16 ✓\n",
            "epoch : 357 iter : 9 (10m 49s) 1.1455  / 24 ✗ (56)\n",
            "epoch : 365 iter : 5 (11m 3s) 1.0464  / 48 ✗ (32)\n",
            "epoch : 373 iter : 1 (11m 18s) 1.3632  / 16 ✓\n",
            "epoch : 380 iter : 60 (11m 32s) 1.1195  / 16 ✗ (40)\n",
            "epoch : 388 iter : 56 (11m 47s) 1.5516  / 24 ✓\n",
            "epoch : 396 iter : 52 (12m 1s) 1.4033  / 32 ✗ (10)\n",
            "epoch : 404 iter : 48 (12m 15s) 0.7534  / 16 ✓\n",
            "epoch : 412 iter : 44 (12m 30s) 1.3588  / 40 ✓\n",
            "epoch : 420 iter : 40 (12m 44s) 0.8926  / 22 ✓\n",
            "epoch : 428 iter : 36 (12m 59s) 0.6853  / 56 ✓\n",
            "epoch : 436 iter : 32 (13m 13s) 0.7695  / 16 ✓\n",
            "epoch : 444 iter : 28 (13m 28s) 1.5025  / 22 ✓\n",
            "epoch : 452 iter : 24 (13m 42s) 1.1798  / 40 ✓\n",
            "epoch : 460 iter : 20 (13m 56s) 1.1574  / 32 ✗ (48)\n",
            "epoch : 468 iter : 16 (14m 11s) 1.1387  / 23 ✗ (10)\n",
            "epoch : 476 iter : 12 (14m 25s) 0.7155  / 48 ✗ (16)\n",
            "epoch : 484 iter : 8 (14m 40s) 1.1603  / 22 ✓\n",
            "epoch : 492 iter : 4 (14m 54s) 0.9216  / 16 ✓\n",
            "epoch : 500 iter : 0 (15m 8s) 0.9825  / 8 ✓\n",
            "epoch : 507 iter : 59 (15m 23s) 1.0939  / 32 ✗ (23)\n",
            "epoch : 515 iter : 55 (15m 37s) 0.4062  / 22 ✓\n",
            "epoch : 523 iter : 51 (15m 52s) 0.9995  / 56 ✓\n",
            "epoch : 531 iter : 47 (16m 6s) 0.8027  / 22 ✗ (40)\n",
            "epoch : 539 iter : 43 (16m 20s) 0.9754  / 22 ✓\n",
            "epoch : 547 iter : 39 (16m 35s) 1.2487  / 56 ✓\n",
            "epoch : 555 iter : 35 (16m 49s) 0.5117  / 16 ✓\n",
            "epoch : 563 iter : 31 (17m 4s) 1.1735  / 22 ✓\n",
            "epoch : 571 iter : 27 (17m 18s) 0.6793  / 23 ✓\n",
            "epoch : 579 iter : 23 (17m 32s) 0.7102  / 16 ✗ (8)\n",
            "epoch : 587 iter : 19 (17m 47s) 1.2663  / 10 ✗ (23)\n",
            "epoch : 595 iter : 15 (18m 1s) 0.4399  / 56 ✗ (24)\n",
            "Accuracy of the network:   59.2814371257485\n"
          ],
          "name": "stdout"
        },
        {
          "output_type": "display_data",
          "data": {
            "image/png": "[encoded data removed]",
            "text/plain": [
              "<Figure size 432x288 with 1 Axes>"
            ]
          },
          "metadata": {
            "tags": [],
            "needs_background": "light"
          }
        },
        {
          "output_type": "stream",
          "text": [
            "epoch : 0 iter : 0 (0m 0s) 2.3037  / 23 ✗ (8)\n",
            "epoch : 7 iter : 59 (0m 15s) 2.3024  / 32 ✗ (23)\n",
            "epoch : 15 iter : 55 (0m 30s) 2.2861  / 32 ✓\n",
            "epoch : 23 iter : 51 (0m 45s) 2.2841  / 32 ✓\n",
            "epoch : 31 iter : 47 (1m 0s) 2.2724  / 32 ✗ (16)\n",
            "epoch : 39 iter : 43 (1m 15s) 2.3117  / 32 ✗ (23)\n",
            "epoch : 47 iter : 39 (1m 30s) 2.2851  / 32 ✗ (48)\n",
            "epoch : 55 iter : 35 (1m 46s) 2.2940  / 32 ✗ (8)\n",
            "epoch : 63 iter : 31 (2m 1s) 2.2773  / 32 ✓\n",
            "epoch : 71 iter : 27 (2m 16s) 2.2847  / 32 ✗ (56)\n",
            "epoch : 79 iter : 23 (2m 31s) 2.2903  / 32 ✗ (24)\n",
            "epoch : 87 iter : 19 (2m 46s) 2.2771  / 32 ✗ (48)\n",
            "epoch : 95 iter : 15 (3m 1s) 2.2740  / 32 ✗ (56)\n",
            "epoch : 103 iter : 11 (3m 17s) 2.3206  / 32 ✗ (10)\n",
            "epoch : 111 iter : 7 (3m 32s) 2.2821  / 32 ✗ (48)\n",
            "epoch : 119 iter : 3 (3m 47s) 2.3132  / 32 ✗ (22)\n",
            "epoch : 126 iter : 62 (4m 2s) 2.2922  / 32 ✗ (40)\n",
            "epoch : 134 iter : 58 (4m 17s) 2.3351  / 32 ✗ (8)\n",
            "epoch : 142 iter : 54 (4m 33s) 2.3049  / 32 ✗ (8)\n",
            "epoch : 150 iter : 50 (4m 48s) 2.2819  / 32 ✗ (10)\n",
            "epoch : 158 iter : 46 (5m 3s) 2.3116  / 32 ✓\n",
            "epoch : 166 iter : 42 (5m 18s) 2.2598  / 32 ✗ (8)\n",
            "epoch : 174 iter : 38 (5m 33s) 2.2993  / 32 ✗ (24)\n",
            "epoch : 182 iter : 34 (5m 48s) 2.3281  / 32 ✗ (24)\n",
            "epoch : 190 iter : 30 (6m 4s) 2.2601  / 32 ✗ (8)\n",
            "epoch : 198 iter : 26 (6m 19s) 2.2996  / 32 ✗ (22)\n",
            "epoch : 206 iter : 22 (6m 34s) 2.2860  / 32 ✗ (16)\n",
            "epoch : 214 iter : 18 (6m 49s) 2.2910  / 32 ✗ (56)\n",
            "epoch : 222 iter : 14 (7m 4s) 2.2981  / 32 ✗ (24)\n",
            "epoch : 230 iter : 10 (7m 19s) 2.2695  / 32 ✗ (8)\n",
            "epoch : 238 iter : 6 (7m 34s) 2.2492  / 32 ✓\n",
            "epoch : 246 iter : 2 (7m 50s) 2.3246  / 32 ✗ (24)\n",
            "epoch : 253 iter : 61 (8m 5s) 2.2888  / 32 ✗ (10)\n",
            "epoch : 261 iter : 57 (8m 20s) 2.2805  / 32 ✗ (56)\n",
            "epoch : 269 iter : 53 (8m 35s) 2.3069  / 16 ✗ (8)\n",
            "epoch : 277 iter : 49 (8m 50s) 2.3265  / 32 ✗ (56)\n",
            "epoch : 285 iter : 45 (9m 5s) 2.2770  / 32 ✗ (8)\n",
            "epoch : 293 iter : 41 (9m 20s) 2.2550  / 16 ✗ (8)\n",
            "epoch : 301 iter : 37 (9m 36s) 2.3101  / 16 ✗ (24)\n",
            "epoch : 309 iter : 33 (9m 51s) 2.1955  / 22 ✓\n",
            "epoch : 317 iter : 29 (10m 6s) 2.2035  / 16 ✗ (10)\n",
            "epoch : 325 iter : 25 (10m 21s) 1.7992  / 16 ✓\n",
            "epoch : 333 iter : 21 (10m 36s) 1.7950  / 22 ✗ (10)\n",
            "epoch : 341 iter : 17 (10m 52s) 1.7074  / 48 ✓\n",
            "epoch : 349 iter : 13 (11m 7s) 2.0281  / 8 ✗ (16)\n",
            "epoch : 357 iter : 9 (11m 22s) 2.2907  / 32 ✗ (10)\n",
            "epoch : 365 iter : 5 (11m 37s) 1.7470  / 32 ✗ (10)\n",
            "epoch : 373 iter : 1 (11m 52s) 1.6842  / 56 ✓\n",
            "epoch : 380 iter : 60 (12m 8s) 1.8320  / 16 ✗ (8)\n",
            "epoch : 388 iter : 56 (12m 23s) 1.6116  / 22 ✗ (40)\n",
            "epoch : 396 iter : 52 (12m 38s) 1.8470  / 8 ✗ (48)\n",
            "epoch : 404 iter : 48 (12m 53s) 1.6904  / 16 ✗ (56)\n",
            "epoch : 412 iter : 44 (13m 8s) 1.5532  / 40 ✗ (22)\n",
            "epoch : 420 iter : 40 (13m 24s) 1.5508  / 32 ✗ (10)\n",
            "epoch : 428 iter : 36 (13m 39s) 1.3878  / 32 ✗ (48)\n",
            "epoch : 436 iter : 32 (13m 54s) 1.7128  / 32 ✗ (48)\n",
            "epoch : 444 iter : 28 (14m 10s) 1.4014  / 22 ✓\n",
            "epoch : 452 iter : 24 (14m 25s) 1.7037  / 32 ✗ (23)\n",
            "epoch : 460 iter : 20 (14m 40s) 1.4991  / 32 ✓\n",
            "epoch : 468 iter : 16 (14m 55s) 1.3804  / 40 ✓\n",
            "epoch : 476 iter : 12 (15m 11s) 1.5192  / 48 ✗ (32)\n",
            "epoch : 484 iter : 8 (15m 26s) 1.3967  / 48 ✗ (10)\n",
            "epoch : 492 iter : 4 (15m 41s) 1.4241  / 56 ✓\n",
            "epoch : 500 iter : 0 (15m 56s) 1.3908  / 24 ✓\n",
            "epoch : 507 iter : 59 (16m 11s) 1.6689  / 8 ✗ (16)\n",
            "epoch : 515 iter : 55 (16m 27s) 1.3741  / 32 ✗ (40)\n",
            "epoch : 523 iter : 51 (16m 42s) 1.2732  / 22 ✓\n",
            "epoch : 531 iter : 47 (16m 57s) 1.6071  / 32 ✗ (23)\n",
            "epoch : 539 iter : 43 (17m 12s) 1.3959  / 8 ✗ (56)\n",
            "epoch : 547 iter : 39 (17m 28s) 1.1986  / 40 ✗ (22)\n",
            "epoch : 555 iter : 35 (17m 43s) 1.5261  / 16 ✗ (32)\n",
            "epoch : 563 iter : 31 (17m 58s) 1.6243  / 8 ✓\n",
            "epoch : 571 iter : 27 (18m 13s) 1.3333  / 56 ✗ (32)\n",
            "epoch : 579 iter : 23 (18m 28s) 1.4875  / 24 ✓\n",
            "epoch : 587 iter : 19 (18m 43s) 0.8903  / 16 ✓\n",
            "epoch : 595 iter : 15 (18m 59s) 1.3971  / 16 ✓\n",
            "Accuracy of the network:   47.0059880239521\n"
          ],
          "name": "stdout"
        },
        {
          "output_type": "display_data",
          "data": {
            "image/png": "[encoded data removed]",
            "text/plain": [
              "<Figure size 432x288 with 1 Axes>"
            ]
          },
          "metadata": {
            "tags": [],
            "needs_background": "light"
          }
        }
      ]
    },
    {
      "cell_type": "markdown",
      "metadata": {
        "id": "H-GjCRuRCntC"
      },
      "source": [
        "#### Результаты     \n",
        "3: 64.37125748502994 (можно доучить, loss не вышел на полочку)     \n",
        "4: 59.2814371257485 (из графика снижения лосса видно, что еще можно доучить, но судя по худшему результату на тесте, скорее всего уже началось переобучение)     \n",
        "5: 47.0059880239521\n"
      ]
    },
    {
      "cell_type": "markdown",
      "metadata": {
        "id": "TZNCHM4cLU1I"
      },
      "source": [
        "Поучим подольше трехслойную модель"
      ]
    },
    {
      "cell_type": "code",
      "metadata": {
        "colab": {
          "base_uri": "https://localhost:8080/",
          "height": 1000
        },
        "id": "RqhcmwptKpjH",
        "outputId": "8f80aa8d-d870-4187-f81a-072870adddd3"
      },
      "source": [
        "n_layer = 3\n",
        "rnn = LSTM_net(n_joints, n_hidden, n_categories, n_layer)\n",
        "rnn.to(device)\n",
        "train_and_eval()"
      ],
      "execution_count": null,
      "outputs": [
        {
          "output_type": "stream",
          "text": [
            "epoch : 0 iter : 0 (0m 0s) 2.3106  / 56 ✗ (32)\n",
            "epoch : 7 iter : 59 (0m 13s) 2.3093  / 56 ✗ (48)\n",
            "epoch : 15 iter : 55 (0m 27s) 2.2599  / 8 ✗ (32)\n",
            "epoch : 23 iter : 51 (0m 41s) 2.2727  / 32 ✗ (40)\n",
            "epoch : 31 iter : 47 (0m 55s) 2.2557  / 16 ✓\n",
            "epoch : 39 iter : 43 (1m 8s) 2.1890  / 32 ✓\n",
            "epoch : 47 iter : 39 (1m 22s) 2.0809  / 22 ✗ (10)\n",
            "epoch : 55 iter : 35 (1m 36s) 1.7556  / 22 ✗ (32)\n",
            "epoch : 63 iter : 31 (1m 50s) 1.9664  / 22 ✗ (56)\n",
            "epoch : 71 iter : 27 (2m 3s) 1.8402  / 16 ✗ (24)\n",
            "epoch : 79 iter : 23 (2m 17s) 1.5340  / 8 ✗ (16)\n",
            "epoch : 87 iter : 19 (2m 31s) 1.5105  / 48 ✗ (32)\n",
            "epoch : 95 iter : 15 (2m 45s) 1.6100  / 24 ✗ (16)\n",
            "epoch : 103 iter : 11 (2m 59s) 1.5512  / 8 ✓\n",
            "epoch : 111 iter : 7 (3m 12s) 1.4573  / 56 ✓\n",
            "epoch : 119 iter : 3 (3m 26s) 1.6107  / 56 ✗ (48)\n",
            "epoch : 126 iter : 62 (3m 40s) 1.5310  / 32 ✗ (23)\n",
            "epoch : 134 iter : 58 (3m 53s) 1.6829  / 56 ✗ (24)\n",
            "epoch : 142 iter : 54 (4m 7s) 1.5136  / 8 ✓\n",
            "epoch : 150 iter : 50 (4m 21s) 1.3338  / 8 ✓\n",
            "epoch : 158 iter : 46 (4m 34s) 1.1995  / 24 ✓\n",
            "epoch : 166 iter : 42 (4m 48s) 1.6097  / 24 ✗ (56)\n",
            "epoch : 174 iter : 38 (5m 2s) 1.5600  / 23 ✗ (48)\n",
            "epoch : 182 iter : 34 (5m 16s) 1.5039  / 24 ✓\n",
            "epoch : 190 iter : 30 (5m 29s) 0.9881  / 23 ✗ (32)\n",
            "epoch : 198 iter : 26 (5m 43s) 1.3370  / 16 ✗ (23)\n",
            "epoch : 206 iter : 22 (5m 57s) 0.8165  / 56 ✓\n",
            "epoch : 214 iter : 18 (6m 11s) 1.2633  / 8 ✓\n",
            "epoch : 222 iter : 14 (6m 24s) 1.1969  / 32 ✗ (24)\n",
            "epoch : 230 iter : 10 (6m 38s) 1.0042  / 8 ✓\n",
            "epoch : 238 iter : 6 (6m 52s) 1.1337  / 56 ✗ (48)\n",
            "epoch : 246 iter : 2 (7m 5s) 1.4425  / 56 ✗ (32)\n",
            "epoch : 253 iter : 61 (7m 19s) 0.9788  / 24 ✓\n",
            "epoch : 261 iter : 57 (7m 33s) 1.1763  / 56 ✓\n",
            "epoch : 269 iter : 53 (7m 47s) 0.9081  / 16 ✗ (23)\n",
            "epoch : 277 iter : 49 (8m 1s) 0.9411  / 10 ✗ (40)\n",
            "epoch : 285 iter : 45 (8m 14s) 1.0395  / 32 ✗ (23)\n",
            "epoch : 293 iter : 41 (8m 28s) 1.1208  / 22 ✓\n",
            "epoch : 301 iter : 37 (8m 42s) 1.1284  / 32 ✓\n",
            "epoch : 309 iter : 33 (8m 56s) 0.7647  / 40 ✓\n",
            "epoch : 317 iter : 29 (9m 9s) 0.5377  / 23 ✓\n",
            "epoch : 325 iter : 25 (9m 23s) 0.5229  / 16 ✓\n",
            "epoch : 333 iter : 21 (9m 37s) 0.9564  / 48 ✓\n",
            "epoch : 341 iter : 17 (9m 50s) 0.5936  / 16 ✓\n",
            "epoch : 349 iter : 13 (10m 4s) 0.6002  / 40 ✓\n",
            "epoch : 357 iter : 9 (10m 18s) 0.5184  / 48 ✓\n",
            "epoch : 365 iter : 5 (10m 32s) 0.6578  / 24 ✓\n",
            "epoch : 373 iter : 1 (10m 45s) 0.7296  / 48 ✓\n",
            "epoch : 380 iter : 60 (10m 59s) 0.6578  / 40 ✓\n",
            "epoch : 388 iter : 56 (11m 13s) 0.9016  / 22 ✓\n",
            "epoch : 396 iter : 52 (11m 26s) 0.6231  / 48 ✗ (24)\n",
            "epoch : 404 iter : 48 (11m 40s) 0.4990  / 22 ✓\n",
            "epoch : 412 iter : 44 (11m 54s) 0.4772  / 48 ✓\n",
            "epoch : 420 iter : 40 (12m 8s) 0.7685  / 56 ✓\n",
            "epoch : 428 iter : 36 (12m 22s) 0.3225  / 23 ✓\n",
            "epoch : 436 iter : 32 (12m 35s) 0.1224  / 16 ✓\n",
            "epoch : 444 iter : 28 (12m 49s) 0.3734  / 23 ✓\n",
            "epoch : 452 iter : 24 (13m 3s) 0.3061  / 8 ✓\n",
            "epoch : 460 iter : 20 (13m 16s) 0.4536  / 24 ✓\n",
            "epoch : 468 iter : 16 (13m 30s) 0.4294  / 22 ✓\n",
            "epoch : 476 iter : 12 (13m 44s) 0.3101  / 8 ✓\n",
            "epoch : 484 iter : 8 (13m 57s) 0.2304  / 16 ✓\n",
            "epoch : 492 iter : 4 (14m 11s) 1.0898  / 22 ✓\n",
            "epoch : 500 iter : 0 (14m 25s) 0.4201  / 32 ✓\n",
            "epoch : 507 iter : 59 (14m 39s) 0.4106  / 23 ✓\n",
            "epoch : 515 iter : 55 (14m 52s) 0.2464  / 24 ✗ (8)\n",
            "epoch : 523 iter : 51 (15m 6s) 0.0918  / 48 ✓\n",
            "epoch : 531 iter : 47 (15m 20s) 0.2921  / 16 ✓\n",
            "epoch : 539 iter : 43 (15m 33s) 0.0636  / 10 ✓\n",
            "epoch : 547 iter : 39 (15m 47s) 0.1071  / 8 ✓\n",
            "epoch : 555 iter : 35 (16m 1s) 0.4563  / 8 ✓\n",
            "epoch : 563 iter : 31 (16m 15s) 0.0396  / 10 ✓\n",
            "epoch : 571 iter : 27 (16m 28s) 0.1186  / 16 ✓\n",
            "epoch : 579 iter : 23 (16m 42s) 0.0645  / 24 ✓\n",
            "epoch : 587 iter : 19 (16m 56s) 0.2325  / 40 ✓\n",
            "epoch : 595 iter : 15 (17m 9s) 0.0215  / 56 ✓\n",
            "epoch : 603 iter : 11 (17m 23s) 0.0537  / 56 ✓\n",
            "epoch : 611 iter : 7 (17m 37s) 0.0703  / 24 ✓\n",
            "epoch : 619 iter : 3 (17m 51s) 0.0642  / 48 ✓\n",
            "epoch : 626 iter : 62 (18m 4s) 0.0147  / 56 ✓\n",
            "epoch : 634 iter : 58 (18m 18s) 0.0089  / 22 ✓\n",
            "epoch : 642 iter : 54 (18m 32s) 0.0509  / 56 ✓\n",
            "epoch : 650 iter : 50 (18m 46s) 0.0053  / 23 ✓\n",
            "epoch : 658 iter : 46 (18m 59s) 1.6737  / 24 ✓\n",
            "epoch : 666 iter : 42 (19m 13s) 0.3764  / 48 ✓\n",
            "epoch : 674 iter : 38 (19m 27s) 0.2434  / 22 ✓\n",
            "epoch : 682 iter : 34 (19m 41s) 0.0105  / 32 ✓\n",
            "epoch : 690 iter : 30 (19m 54s) 0.0180  / 24 ✓\n",
            "epoch : 698 iter : 26 (20m 8s) 0.0063  / 22 ✓\n",
            "epoch : 706 iter : 22 (20m 22s) 0.0075  / 16 ✓\n",
            "epoch : 714 iter : 18 (20m 36s) 0.0124  / 22 ✓\n",
            "epoch : 722 iter : 14 (20m 49s) 0.0072  / 10 ✓\n",
            "epoch : 730 iter : 10 (21m 3s) 0.2215  / 24 ✓\n",
            "epoch : 738 iter : 6 (21m 17s) 0.0419  / 32 ✓\n",
            "epoch : 746 iter : 2 (21m 31s) 0.0067  / 24 ✓\n",
            "epoch : 753 iter : 61 (21m 44s) 0.0060  / 24 ✓\n",
            "epoch : 761 iter : 57 (21m 58s) 0.0044  / 32 ✓\n",
            "epoch : 769 iter : 53 (22m 12s) 0.0059  / 22 ✓\n",
            "epoch : 777 iter : 49 (22m 25s) 0.0061  / 32 ✓\n",
            "epoch : 785 iter : 45 (22m 39s) 0.0031  / 48 ✓\n",
            "epoch : 793 iter : 41 (22m 53s) 0.0036  / 56 ✓\n",
            "epoch : 801 iter : 37 (23m 7s) 1.8512  / 32 ✓\n",
            "epoch : 809 iter : 33 (23m 21s) 0.1419  / 24 ✓\n",
            "epoch : 817 iter : 29 (23m 34s) 0.5019  / 10 ✓\n",
            "epoch : 825 iter : 25 (23m 48s) 0.0174  / 23 ✓\n",
            "epoch : 833 iter : 21 (24m 2s) 0.0627  / 16 ✓\n",
            "epoch : 841 iter : 17 (24m 16s) 0.0939  / 16 ✓\n",
            "epoch : 849 iter : 13 (24m 30s) 0.0116  / 22 ✓\n",
            "epoch : 857 iter : 9 (24m 43s) 0.0125  / 10 ✓\n",
            "epoch : 865 iter : 5 (24m 57s) 0.0137  / 8 ✓\n",
            "epoch : 873 iter : 1 (25m 11s) 0.0015  / 8 ✓\n",
            "epoch : 880 iter : 60 (25m 25s) 0.0073  / 24 ✓\n",
            "epoch : 888 iter : 56 (25m 39s) 0.0047  / 48 ✓\n",
            "epoch : 896 iter : 52 (25m 52s) 0.0039  / 23 ✓\n",
            "epoch : 904 iter : 48 (26m 6s) 0.0045  / 23 ✓\n",
            "epoch : 912 iter : 44 (26m 20s) 0.0037  / 10 ✓\n",
            "epoch : 920 iter : 40 (26m 34s) 0.0026  / 23 ✓\n",
            "epoch : 928 iter : 36 (26m 48s) 0.0012  / 32 ✓\n",
            "epoch : 936 iter : 32 (27m 2s) 0.0076  / 10 ✓\n",
            "epoch : 944 iter : 28 (27m 15s) 0.0056  / 23 ✓\n",
            "epoch : 952 iter : 24 (27m 29s) 0.0027  / 24 ✓\n",
            "epoch : 960 iter : 20 (27m 43s) 0.0016  / 24 ✓\n",
            "epoch : 968 iter : 16 (27m 57s) 0.0023  / 22 ✓\n",
            "epoch : 976 iter : 12 (28m 11s) 0.0040  / 40 ✓\n",
            "epoch : 984 iter : 8 (28m 24s) 0.0021  / 16 ✓\n",
            "epoch : 992 iter : 4 (28m 38s) 0.0023  / 32 ✓\n",
            "Accuracy of the network:   63.17365269461078\n"
          ],
          "name": "stdout"
        },
        {
          "output_type": "display_data",
          "data": {
            "image/png": "[encoded data removed]",
            "text/plain": [
              "<Figure size 432x288 with 1 Axes>"
            ]
          },
          "metadata": {
            "tags": [],
            "needs_background": "light"
          }
        }
      ]
    },
    {
      "cell_type": "markdown",
      "metadata": {
        "id": "rHRBmF4ma7As"
      },
      "source": [
        "#### Результат 63.17365269461078. Было лучше"
      ]
    },
    {
      "cell_type": "markdown",
      "metadata": {
        "id": "d6SKd6UQn_9_"
      },
      "source": [
        "### Меняем количество \"кадров\""
      ]
    },
    {
      "cell_type": "code",
      "metadata": {
        "colab": {
          "base_uri": "https://localhost:8080/",
          "height": 1000
        },
        "id": "IbDTIYZKoKcy",
        "outputId": "a41bbe69-d3e8-473f-ef0d-984121290b6e"
      },
      "source": [
        "for chonk_len in [40, 35, 25, 20]:\n",
        "  filter_params['chonk_len'] = chonk_len\n",
        "  dataset = Skeleton_Dataset(zip_file_path = DATA_ZIP, broken_files_path=broken_files_path, filter_params=filter_params)\n",
        "  train_dataset, test_dataset = torch.utils.data.random_split(dataset, [int(0.75*len(dataset)), len(dataset) - int(0.75*len(dataset))])\n",
        "  train_loader = DataLoader(train_dataset, batch_size = 16, shuffle=True)\n",
        "  test_loader = DataLoader(test_dataset, batch_size = 1, shuffle=True)\n",
        "\n",
        "  n_hidden = 128\n",
        "  n_joints = 25*3\n",
        "  LABELS = dataset.LABELS\n",
        "  n_categories = len(LABELS)\n",
        "  n_layer = 2\n",
        "  rnn = LSTM_net(n_joints, n_hidden, n_categories, n_layer)\n",
        "  rnn.to(device)\n",
        "\n",
        "  train_and_eval()"
      ],
      "execution_count": null,
      "outputs": [
        {
          "output_type": "stream",
          "text": [
            "action classes:  {32: 0, 56: 1, 8: 2, 22: 3, 16: 4, 24: 5, 48: 6, 40: 7, 10: 8, 23: 9}\n",
            "action files:  {32: 120, 56: 120, 8: 120, 22: 120, 16: 120, 24: 120, 48: 120, 40: 120, 10: 120, 23: 120}\n",
            "epoch : 0 iter : 0 (0m 0s) 2.3002  / 24 ✗ (32)\n",
            "epoch : 7 iter : 24 (0m 11s) 2.2839  / 16 ✓\n",
            "epoch : 14 iter : 48 (0m 23s) 2.2476  / 22 ✗ (48)\n",
            "epoch : 22 iter : 4 (0m 35s) 1.9929  / 16 ✓\n",
            "epoch : 29 iter : 28 (0m 47s) 1.8688  / 16 ✗ (56)\n",
            "epoch : 36 iter : 52 (0m 59s) 1.6817  / 16 ✓\n",
            "epoch : 44 iter : 8 (1m 11s) 1.7559  / 22 ✗ (48)\n",
            "epoch : 51 iter : 32 (1m 23s) 1.7235  / 22 ✓\n",
            "epoch : 58 iter : 56 (1m 35s) 1.6135  / 10 ✗ (22)\n",
            "epoch : 66 iter : 12 (1m 47s) 1.3575  / 16 ✓\n",
            "epoch : 73 iter : 36 (1m 59s) 1.3881  / 8 ✗ (24)\n",
            "epoch : 80 iter : 60 (2m 11s) 1.2357  / 22 ✓\n",
            "epoch : 88 iter : 16 (2m 22s) 1.2152  / 23 ✗ (48)\n",
            "epoch : 95 iter : 40 (2m 34s) 1.3510  / 56 ✓\n",
            "epoch : 102 iter : 64 (2m 46s) 1.3684  / 8 ✗ (16)\n",
            "epoch : 110 iter : 20 (2m 58s) 1.6020  / 56 ✓\n",
            "epoch : 117 iter : 44 (3m 10s) 1.1065  / 22 ✓\n",
            "epoch : 125 iter : 0 (3m 22s) 1.1176  / 22 ✓\n",
            "epoch : 132 iter : 24 (3m 34s) 1.5372  / 48 ✓\n",
            "epoch : 139 iter : 48 (3m 46s) 1.1587  / 16 ✓\n",
            "epoch : 147 iter : 4 (3m 57s) 0.8178  / 32 ✗ (48)\n",
            "epoch : 154 iter : 28 (4m 9s) 1.3509  / 16 ✓\n",
            "epoch : 161 iter : 52 (4m 21s) 0.8335  / 16 ✓\n",
            "epoch : 169 iter : 8 (4m 34s) 0.6658  / 56 ✗ (48)\n",
            "epoch : 176 iter : 32 (4m 45s) 0.4844  / 56 ✓\n",
            "epoch : 183 iter : 56 (4m 57s) 0.6701  / 40 ✓\n",
            "epoch : 191 iter : 12 (5m 9s) 0.8355  / 16 ✗ (8)\n",
            "epoch : 198 iter : 36 (5m 21s) 1.0265  / 23 ✓\n",
            "epoch : 205 iter : 60 (5m 33s) 1.4000  / 22 ✓\n",
            "epoch : 213 iter : 16 (5m 45s) 0.3535  / 56 ✓\n",
            "epoch : 220 iter : 40 (5m 57s) 1.3446  / 10 ✗ (40)\n",
            "epoch : 227 iter : 64 (6m 9s) 0.9726  / 40 ✓\n",
            "epoch : 235 iter : 20 (6m 20s) 0.9258  / 8 ✓\n",
            "epoch : 242 iter : 44 (6m 32s) 0.4086  / 56 ✓\n",
            "epoch : 250 iter : 0 (6m 44s) 0.8659  / 8 ✗ (48)\n",
            "epoch : 257 iter : 24 (6m 56s) 0.7444  / 16 ✓\n",
            "epoch : 264 iter : 48 (7m 8s) 0.7371  / 8 ✓\n",
            "epoch : 272 iter : 4 (7m 20s) 0.4560  / 56 ✓\n",
            "epoch : 279 iter : 28 (7m 32s) 0.5133  / 40 ✓\n",
            "epoch : 286 iter : 52 (7m 44s) 0.8813  / 48 ✓\n",
            "epoch : 294 iter : 8 (7m 56s) 0.4061  / 23 ✓\n",
            "epoch : 301 iter : 32 (8m 7s) 0.7821  / 48 ✓\n",
            "epoch : 308 iter : 56 (8m 19s) 0.8256  / 8 ✓\n",
            "epoch : 316 iter : 12 (8m 31s) 0.5773  / 48 ✓\n",
            "epoch : 323 iter : 36 (8m 43s) 0.5572  / 23 ✓\n",
            "epoch : 330 iter : 60 (8m 55s) 0.7202  / 8 ✓\n",
            "epoch : 338 iter : 16 (9m 7s) 0.1220  / 56 ✓\n",
            "epoch : 345 iter : 40 (9m 19s) 0.6123  / 48 ✗ (16)\n",
            "epoch : 352 iter : 64 (9m 31s) 0.4434  / 8 ✓\n",
            "epoch : 360 iter : 20 (9m 43s) 0.2749  / 56 ✓\n",
            "epoch : 367 iter : 44 (9m 55s) 0.3410  / 16 ✓\n",
            "epoch : 375 iter : 0 (10m 7s) 0.1960  / 16 ✓\n",
            "epoch : 382 iter : 24 (10m 19s) 0.2571  / 10 ✓\n",
            "epoch : 389 iter : 48 (10m 31s) 0.3397  / 10 ✓\n",
            "epoch : 397 iter : 4 (10m 43s) 0.1242  / 24 ✓\n",
            "epoch : 404 iter : 28 (10m 55s) 0.1291  / 23 ✓\n",
            "epoch : 411 iter : 52 (11m 7s) 0.9324  / 32 ✓\n",
            "epoch : 419 iter : 8 (11m 18s) 0.0859  / 23 ✓\n",
            "epoch : 426 iter : 32 (11m 30s) 0.2858  / 23 ✓\n",
            "epoch : 433 iter : 56 (11m 42s) 0.0951  / 10 ✓\n",
            "epoch : 441 iter : 12 (11m 54s) 0.1139  / 23 ✓\n",
            "epoch : 448 iter : 36 (12m 6s) 0.1427  / 48 ✓\n",
            "epoch : 455 iter : 60 (12m 18s) 0.2170  / 10 ✓\n",
            "epoch : 463 iter : 16 (12m 30s) 0.4603  / 23 ✗ (10)\n",
            "epoch : 470 iter : 40 (12m 42s) 0.5685  / 16 ✓\n",
            "epoch : 477 iter : 64 (12m 54s) 0.1263  / 56 ✓\n",
            "epoch : 485 iter : 20 (13m 6s) 0.1651  / 24 ✓\n",
            "epoch : 492 iter : 44 (13m 18s) 0.5657  / 10 ✓\n",
            "epoch : 500 iter : 0 (13m 30s) 0.7701  / 8 ✓\n",
            "epoch : 507 iter : 24 (13m 41s) 0.0187  / 48 ✓\n",
            "epoch : 514 iter : 48 (13m 53s) 0.0218  / 48 ✓\n",
            "epoch : 522 iter : 4 (14m 5s) 0.0260  / 48 ✓\n",
            "epoch : 529 iter : 28 (14m 17s) 0.0774  / 8 ✗ (48)\n",
            "epoch : 536 iter : 52 (14m 29s) 1.0903  / 24 ✓\n",
            "epoch : 544 iter : 8 (14m 41s) 0.1083  / 8 ✓\n",
            "epoch : 551 iter : 32 (14m 53s) 0.0113  / 56 ✓\n",
            "epoch : 558 iter : 56 (15m 5s) 0.0226  / 10 ✓\n",
            "epoch : 566 iter : 12 (15m 17s) 0.0108  / 8 ✓\n",
            "epoch : 573 iter : 36 (15m 29s) 0.0996  / 16 ✓\n",
            "epoch : 580 iter : 60 (15m 41s) 0.0157  / 8 ✓\n",
            "epoch : 588 iter : 16 (15m 53s) 0.0135  / 22 ✓\n",
            "epoch : 595 iter : 40 (16m 5s) 0.0063  / 10 ✓\n",
            "Accuracy of the network:   65.45961002785515\n"
          ],
          "name": "stdout"
        },
        {
          "output_type": "display_data",
          "data": {
            "image/png": "[encoded data removed]",
            "text/plain": [
              "<Figure size 432x288 with 1 Axes>"
            ]
          },
          "metadata": {
            "tags": [],
            "needs_background": "light"
          }
        },
        {
          "output_type": "stream",
          "text": [
            "action classes:  {32: 0, 56: 1, 8: 2, 22: 3, 16: 4, 24: 5, 48: 6, 40: 7, 10: 8, 23: 9}\n",
            "action files:  {32: 120, 56: 120, 8: 120, 22: 120, 16: 120, 24: 120, 48: 120, 40: 120, 10: 120, 23: 120}\n",
            "epoch : 0 iter : 0 (0m 0s) 2.3070  / 8 ✗ (16)\n",
            "epoch : 7 iter : 10 (0m 10s) 2.2907  / 48 ✗ (23)\n",
            "epoch : 14 iter : 20 (0m 21s) 2.2055  / 16 ✗ (24)\n",
            "epoch : 21 iter : 30 (0m 32s) 1.9395  / 10 ✗ (23)\n",
            "epoch : 28 iter : 40 (0m 42s) 1.7096  / 16 ✓\n",
            "epoch : 35 iter : 50 (0m 53s) 1.6799  / 56 ✗ (48)\n",
            "epoch : 42 iter : 60 (1m 4s) 1.9515  / 56 ✓\n",
            "epoch : 50 iter : 0 (1m 15s) 1.4090  / 24 ✗ (56)\n",
            "epoch : 57 iter : 10 (1m 26s) 1.4871  / 23 ✓\n",
            "epoch : 64 iter : 20 (1m 36s) 1.5443  / 10 ✗ (23)\n",
            "epoch : 71 iter : 30 (1m 47s) 1.3804  / 8 ✗ (16)\n",
            "epoch : 78 iter : 40 (1m 58s) 1.0956  / 23 ✗ (32)\n",
            "epoch : 85 iter : 50 (2m 9s) 1.7647  / 23 ✓\n",
            "epoch : 92 iter : 60 (2m 20s) 0.9099  / 16 ✓\n",
            "epoch : 100 iter : 0 (2m 30s) 0.9877  / 40 ✗ (32)\n",
            "epoch : 107 iter : 10 (2m 41s) 1.2886  / 24 ✓\n",
            "epoch : 114 iter : 20 (2m 52s) 0.8761  / 48 ✗ (23)\n",
            "epoch : 121 iter : 30 (3m 3s) 1.0344  / 40 ✗ (10)\n",
            "epoch : 128 iter : 40 (3m 14s) 1.0820  / 40 ✓\n",
            "epoch : 135 iter : 50 (3m 25s) 1.2060  / 56 ✓\n",
            "epoch : 142 iter : 60 (3m 35s) 1.3895  / 32 ✓\n",
            "epoch : 150 iter : 0 (3m 46s) 1.5072  / 32 ✓\n",
            "epoch : 157 iter : 10 (3m 57s) 1.0786  / 22 ✓\n",
            "epoch : 164 iter : 20 (4m 8s) 0.9561  / 16 ✗ (8)\n",
            "epoch : 171 iter : 30 (4m 19s) 0.8565  / 8 ✗ (32)\n",
            "epoch : 178 iter : 40 (4m 29s) 0.9995  / 56 ✓\n",
            "epoch : 185 iter : 50 (4m 40s) 1.3849  / 56 ✗ (24)\n",
            "epoch : 192 iter : 60 (4m 51s) 0.8467  / 22 ✗ (32)\n",
            "epoch : 200 iter : 0 (5m 2s) 0.5190  / 48 ✓\n",
            "epoch : 207 iter : 10 (5m 12s) 0.7067  / 40 ✓\n",
            "epoch : 214 iter : 20 (5m 23s) 0.3988  / 23 ✓\n",
            "epoch : 221 iter : 30 (5m 34s) 0.5497  / 8 ✓\n",
            "epoch : 228 iter : 40 (5m 45s) 1.0988  / 10 ✓\n",
            "epoch : 235 iter : 50 (5m 56s) 0.2670  / 23 ✓\n",
            "epoch : 242 iter : 60 (6m 6s) 0.5561  / 23 ✓\n",
            "epoch : 250 iter : 0 (6m 17s) 1.2657  / 32 ✓\n",
            "epoch : 257 iter : 10 (6m 28s) 0.7268  / 56 ✓\n",
            "epoch : 264 iter : 20 (6m 39s) 1.1148  / 24 ✗ (8)\n",
            "epoch : 271 iter : 30 (6m 49s) 0.3244  / 32 ✓\n",
            "epoch : 278 iter : 40 (7m 0s) 0.3453  / 48 ✓\n",
            "epoch : 285 iter : 50 (7m 11s) 0.3344  / 56 ✓\n",
            "epoch : 292 iter : 60 (7m 22s) 0.3142  / 8 ✓\n",
            "epoch : 300 iter : 0 (7m 32s) 0.1895  / 10 ✓\n",
            "epoch : 307 iter : 10 (7m 43s) 0.4321  / 16 ✓\n",
            "epoch : 314 iter : 20 (7m 54s) 0.4469  / 22 ✓\n",
            "epoch : 321 iter : 30 (8m 5s) 0.2628  / 48 ✓\n",
            "epoch : 328 iter : 40 (8m 16s) 0.1655  / 40 ✓\n",
            "epoch : 335 iter : 50 (8m 26s) 0.4562  / 8 ✓\n",
            "epoch : 342 iter : 60 (8m 37s) 0.0925  / 8 ✓\n",
            "epoch : 350 iter : 0 (8m 48s) 0.1603  / 40 ✓\n",
            "epoch : 357 iter : 10 (8m 59s) 0.1765  / 8 ✓\n",
            "epoch : 364 iter : 20 (9m 10s) 0.8505  / 10 ✓\n",
            "epoch : 371 iter : 30 (9m 21s) 0.3636  / 24 ✓\n",
            "epoch : 378 iter : 40 (9m 31s) 0.2153  / 8 ✓\n",
            "epoch : 385 iter : 50 (9m 42s) 0.3966  / 48 ✓\n",
            "epoch : 392 iter : 60 (9m 53s) 0.2227  / 32 ✓\n",
            "epoch : 400 iter : 0 (10m 4s) 0.2320  / 23 ✓\n",
            "epoch : 407 iter : 10 (10m 14s) 0.3288  / 16 ✓\n",
            "epoch : 414 iter : 20 (10m 25s) 0.0320  / 8 ✓\n",
            "epoch : 421 iter : 30 (10m 36s) 0.0255  / 32 ✓\n",
            "epoch : 428 iter : 40 (10m 47s) 0.3598  / 16 ✓\n",
            "epoch : 435 iter : 50 (10m 58s) 0.0260  / 10 ✓\n",
            "epoch : 442 iter : 60 (11m 8s) 0.0117  / 56 ✓\n",
            "epoch : 450 iter : 0 (11m 19s) 0.0176  / 8 ✓\n",
            "epoch : 457 iter : 10 (11m 30s) 0.0199  / 56 ✓\n",
            "epoch : 464 iter : 20 (11m 41s) 0.0131  / 16 ✓\n",
            "epoch : 471 iter : 30 (11m 52s) 0.1125  / 23 ✓\n",
            "epoch : 478 iter : 40 (12m 2s) 0.0166  / 24 ✓\n",
            "epoch : 485 iter : 50 (12m 13s) 0.1164  / 40 ✓\n",
            "epoch : 492 iter : 60 (12m 24s) 0.0085  / 8 ✓\n",
            "epoch : 500 iter : 0 (12m 35s) 0.9260  / 24 ✓\n",
            "epoch : 507 iter : 10 (12m 46s) 0.0371  / 40 ✓\n",
            "epoch : 514 iter : 20 (12m 56s) 0.0125  / 8 ✓\n",
            "epoch : 521 iter : 30 (13m 7s) 0.0141  / 48 ✓\n",
            "epoch : 528 iter : 40 (13m 18s) 0.0097  / 24 ✓\n",
            "epoch : 535 iter : 50 (13m 29s) 0.0108  / 48 ✓\n",
            "epoch : 542 iter : 60 (13m 40s) 0.0641  / 10 ✓\n",
            "epoch : 550 iter : 0 (13m 51s) 0.0047  / 24 ✓\n",
            "epoch : 557 iter : 10 (14m 1s) 0.0038  / 40 ✓\n",
            "epoch : 564 iter : 20 (14m 12s) 0.0034  / 23 ✓\n",
            "epoch : 571 iter : 30 (14m 23s) 0.0050  / 23 ✓\n",
            "epoch : 578 iter : 40 (14m 34s) 0.0159  / 24 ✓\n",
            "epoch : 585 iter : 50 (14m 45s) 0.0052  / 8 ✓\n",
            "epoch : 592 iter : 60 (14m 55s) 0.0052  / 22 ✓\n",
            "Accuracy of the network:   66.66666666666667\n"
          ],
          "name": "stdout"
        },
        {
          "output_type": "display_data",
          "data": {
            "image/png": "[encoded data removed]",
            "text/plain": [
              "<Figure size 432x288 with 1 Axes>"
            ]
          },
          "metadata": {
            "tags": [],
            "needs_background": "light"
          }
        },
        {
          "output_type": "stream",
          "text": [
            "action classes:  {32: 0, 56: 1, 8: 2, 22: 3, 16: 4, 24: 5, 48: 6, 40: 7, 10: 8, 23: 9}\n",
            "action files:  {32: 120, 56: 120, 8: 120, 22: 120, 16: 120, 24: 120, 48: 120, 40: 120, 10: 120, 23: 120}\n",
            "epoch : 0 iter : 0 (0m 0s) 2.2980  / 23 ✗ (40)\n",
            "epoch : 6 iter : 68 (0m 8s) 2.3068  / 56 ✗ (24)\n",
            "epoch : 13 iter : 64 (0m 16s) 2.2849  / 56 ✗ (8)\n",
            "epoch : 20 iter : 60 (0m 25s) 2.1453  / 22 ✗ (32)\n",
            "epoch : 27 iter : 56 (0m 33s) 2.1796  / 24 ✗ (10)\n",
            "epoch : 34 iter : 52 (0m 42s) 1.9542  / 48 ✓\n",
            "epoch : 41 iter : 48 (0m 50s) 1.8397  / 22 ✗ (32)\n",
            "epoch : 48 iter : 44 (0m 59s) 1.8406  / 22 ✓\n",
            "epoch : 55 iter : 40 (1m 7s) 1.6909  / 22 ✓\n",
            "epoch : 62 iter : 36 (1m 16s) 1.8600  / 32 ✗ (16)\n",
            "epoch : 69 iter : 32 (1m 24s) 1.5101  / 23 ✗ (22)\n",
            "epoch : 76 iter : 28 (1m 33s) 1.6575  / 23 ✗ (22)\n",
            "epoch : 83 iter : 24 (1m 41s) 1.9060  / 23 ✗ (40)\n",
            "epoch : 90 iter : 20 (1m 50s) 1.5696  / 56 ✓\n",
            "epoch : 97 iter : 16 (1m 58s) 1.5412  / 56 ✓\n",
            "epoch : 104 iter : 12 (2m 7s) 1.2481  / 40 ✗ (23)\n",
            "epoch : 111 iter : 8 (2m 15s) 1.0900  / 56 ✓\n",
            "epoch : 118 iter : 4 (2m 23s) 1.8711  / 22 ✓\n",
            "epoch : 125 iter : 0 (2m 32s) 1.0779  / 56 ✗ (24)\n",
            "epoch : 131 iter : 68 (2m 40s) 0.7413  / 48 ✓\n",
            "epoch : 138 iter : 64 (2m 49s) 1.8684  / 8 ✗ (16)\n",
            "epoch : 145 iter : 60 (2m 57s) 1.0300  / 40 ✗ (32)\n",
            "epoch : 152 iter : 56 (3m 5s) 0.7395  / 22 ✓\n",
            "epoch : 159 iter : 52 (3m 14s) 1.4136  / 24 ✓\n",
            "epoch : 166 iter : 48 (3m 22s) 0.6995  / 16 ✓\n",
            "epoch : 173 iter : 44 (3m 31s) 0.7872  / 8 ✓\n",
            "epoch : 180 iter : 40 (3m 39s) 0.5715  / 40 ✓\n",
            "epoch : 187 iter : 36 (3m 48s) 0.8111  / 10 ✓\n",
            "epoch : 194 iter : 32 (3m 56s) 0.5828  / 48 ✓\n",
            "epoch : 201 iter : 28 (4m 5s) 1.2172  / 32 ✓\n",
            "epoch : 208 iter : 24 (4m 13s) 1.2191  / 10 ✗ (40)\n",
            "epoch : 215 iter : 20 (4m 21s) 0.6963  / 22 ✓\n",
            "epoch : 222 iter : 16 (4m 30s) 0.8280  / 16 ✓\n",
            "epoch : 229 iter : 12 (4m 38s) 0.5541  / 8 ✓\n",
            "epoch : 236 iter : 8 (4m 47s) 0.5569  / 8 ✓\n",
            "epoch : 243 iter : 4 (4m 56s) 0.1408  / 40 ✓\n",
            "epoch : 250 iter : 0 (5m 4s) 0.6813  / 48 ✓\n",
            "epoch : 256 iter : 68 (5m 13s) 0.4786  / 24 ✗ (56)\n",
            "epoch : 263 iter : 64 (5m 21s) 0.6780  / 22 ✓\n",
            "epoch : 270 iter : 60 (5m 29s) 0.7263  / 24 ✗ (16)\n",
            "epoch : 277 iter : 56 (5m 38s) 0.5401  / 48 ✗ (56)\n",
            "epoch : 284 iter : 52 (5m 46s) 0.3771  / 48 ✓\n",
            "epoch : 291 iter : 48 (5m 55s) 0.4128  / 10 ✓\n",
            "epoch : 298 iter : 44 (6m 3s) 0.7192  / 8 ✗ (24)\n",
            "epoch : 305 iter : 40 (6m 12s) 0.6695  / 32 ✓\n",
            "epoch : 312 iter : 36 (6m 20s) 0.4629  / 8 ✓\n",
            "epoch : 319 iter : 32 (6m 29s) 0.3429  / 22 ✓\n",
            "epoch : 326 iter : 28 (6m 37s) 0.2787  / 48 ✓\n",
            "epoch : 333 iter : 24 (6m 46s) 0.2683  / 22 ✗ (40)\n",
            "epoch : 340 iter : 20 (6m 54s) 0.2415  / 40 ✓\n",
            "epoch : 347 iter : 16 (7m 3s) 0.3829  / 48 ✓\n",
            "epoch : 354 iter : 12 (7m 11s) 0.3760  / 22 ✓\n",
            "epoch : 361 iter : 8 (7m 20s) 0.6004  / 56 ✗ (10)\n",
            "epoch : 368 iter : 4 (7m 28s) 0.0529  / 8 ✓\n",
            "epoch : 375 iter : 0 (7m 37s) 0.4877  / 8 ✓\n",
            "epoch : 381 iter : 68 (7m 45s) 0.1392  / 24 ✓\n",
            "epoch : 388 iter : 64 (7m 54s) 0.0299  / 24 ✓\n",
            "epoch : 395 iter : 60 (8m 2s) 0.0645  / 56 ✓\n",
            "epoch : 402 iter : 56 (8m 10s) 0.6793  / 23 ✗ (32)\n",
            "epoch : 409 iter : 52 (8m 19s) 0.0212  / 10 ✓\n",
            "epoch : 416 iter : 48 (8m 27s) 0.0249  / 56 ✓\n",
            "epoch : 423 iter : 44 (8m 36s) 0.0109  / 23 ✓\n",
            "epoch : 430 iter : 40 (8m 44s) 0.0454  / 10 ✓\n",
            "epoch : 437 iter : 36 (8m 53s) 0.2988  / 22 ✓\n",
            "epoch : 444 iter : 32 (9m 1s) 0.1857  / 56 ✓\n",
            "epoch : 451 iter : 28 (9m 10s) 0.0205  / 23 ✓\n",
            "epoch : 458 iter : 24 (9m 18s) 0.0235  / 22 ✓\n",
            "epoch : 465 iter : 20 (9m 27s) 0.0306  / 32 ✓\n",
            "epoch : 472 iter : 16 (9m 35s) 0.3658  / 10 ✗ (22)\n",
            "epoch : 479 iter : 12 (9m 43s) 1.0536  / 16 ✓\n",
            "epoch : 486 iter : 8 (9m 52s) 0.4039  / 23 ✓\n",
            "epoch : 493 iter : 4 (10m 0s) 0.3527  / 10 ✓\n",
            "epoch : 500 iter : 0 (10m 9s) 0.5629  / 48 ✓\n",
            "epoch : 506 iter : 68 (10m 17s) 0.3433  / 8 ✗ (10)\n",
            "epoch : 513 iter : 64 (10m 26s) 0.1723  / 16 ✓\n",
            "epoch : 520 iter : 60 (10m 34s) 0.1976  / 48 ✓\n",
            "epoch : 527 iter : 56 (10m 43s) 0.2367  / 32 ✓\n",
            "epoch : 534 iter : 52 (10m 51s) 0.4140  / 48 ✓\n",
            "epoch : 541 iter : 48 (11m 0s) 0.1212  / 8 ✗ (10)\n",
            "epoch : 548 iter : 44 (11m 8s) 0.1281  / 56 ✓\n",
            "epoch : 555 iter : 40 (11m 17s) 0.0991  / 23 ✓\n",
            "epoch : 562 iter : 36 (11m 25s) 0.0234  / 10 ✓\n",
            "epoch : 569 iter : 32 (11m 34s) 0.1473  / 56 ✓\n",
            "epoch : 576 iter : 28 (11m 42s) 0.0432  / 10 ✓\n",
            "epoch : 583 iter : 24 (11m 50s) 0.0154  / 40 ✓\n",
            "epoch : 590 iter : 20 (11m 59s) 0.0145  / 32 ✓\n",
            "epoch : 597 iter : 16 (12m 8s) 0.0086  / 32 ✓\n",
            "Accuracy of the network:   64.56692913385827\n"
          ],
          "name": "stdout"
        },
        {
          "output_type": "display_data",
          "data": {
            "image/png": "[encoded data removed]",
            "text/plain": [
              "<Figure size 432x288 with 1 Axes>"
            ]
          },
          "metadata": {
            "tags": [],
            "needs_background": "light"
          }
        },
        {
          "output_type": "stream",
          "text": [
            "action classes:  {32: 0, 56: 1, 8: 2, 22: 3, 16: 4, 24: 5, 48: 6, 40: 7, 10: 8, 23: 9}\n",
            "action files:  {32: 120, 56: 120, 8: 120, 22: 120, 16: 120, 24: 120, 48: 120, 40: 120, 10: 120, 23: 120}\n",
            "epoch : 0 iter : 0 (0m 0s) 2.3097  / 32 ✗ (23)\n",
            "epoch : 6 iter : 68 (0m 7s) 2.2573  / 10 ✗ (24)\n",
            "epoch : 13 iter : 64 (0m 14s) 2.2024  / 16 ✗ (56)\n",
            "epoch : 20 iter : 60 (0m 21s) 2.1834  / 8 ✗ (48)\n",
            "epoch : 27 iter : 56 (0m 29s) 2.0841  / 40 ✗ (10)\n",
            "epoch : 34 iter : 52 (0m 36s) 2.1311  / 48 ✗ (8)\n",
            "epoch : 41 iter : 48 (0m 43s) 2.0019  / 40 ✗ (32)\n",
            "epoch : 48 iter : 44 (0m 50s) 1.8387  / 32 ✗ (48)\n",
            "epoch : 55 iter : 40 (0m 58s) 2.3146  / 8 ✗ (23)\n",
            "epoch : 62 iter : 36 (1m 5s) 1.3798  / 22 ✓\n",
            "epoch : 69 iter : 32 (1m 12s) 1.8553  / 16 ✓\n",
            "epoch : 76 iter : 28 (1m 20s) 1.4727  / 8 ✓\n",
            "epoch : 83 iter : 24 (1m 27s) 1.7122  / 16 ✓\n",
            "epoch : 90 iter : 20 (1m 34s) 1.8050  / 32 ✗ (10)\n",
            "epoch : 97 iter : 16 (1m 41s) 1.1947  / 24 ✗ (10)\n",
            "epoch : 104 iter : 12 (1m 49s) 1.5425  / 48 ✓\n",
            "epoch : 111 iter : 8 (1m 56s) 1.4865  / 56 ✗ (48)\n",
            "epoch : 118 iter : 4 (2m 3s) 1.2840  / 48 ✓\n",
            "epoch : 125 iter : 0 (2m 10s) 1.0952  / 48 ✗ (8)\n",
            "epoch : 131 iter : 68 (2m 18s) 1.2035  / 48 ✗ (16)\n",
            "epoch : 138 iter : 64 (2m 25s) 0.8017  / 48 ✓\n",
            "epoch : 145 iter : 60 (2m 32s) 1.2074  / 8 ✗ (24)\n",
            "epoch : 152 iter : 56 (2m 40s) 1.1060  / 40 ✗ (23)\n",
            "epoch : 159 iter : 52 (2m 47s) 1.1450  / 32 ✓\n",
            "epoch : 166 iter : 48 (2m 54s) 0.9001  / 48 ✓\n",
            "epoch : 173 iter : 44 (3m 1s) 1.1803  / 16 ✓\n",
            "epoch : 180 iter : 40 (3m 9s) 0.8160  / 40 ✓\n",
            "epoch : 187 iter : 36 (3m 16s) 0.7727  / 10 ✓\n",
            "epoch : 194 iter : 32 (3m 23s) 0.7310  / 48 ✓\n",
            "epoch : 201 iter : 28 (3m 31s) 0.2997  / 22 ✓\n",
            "epoch : 208 iter : 24 (3m 38s) 0.5202  / 23 ✓\n",
            "epoch : 215 iter : 20 (3m 45s) 1.1659  / 24 ✓\n",
            "epoch : 222 iter : 16 (3m 52s) 0.7620  / 48 ✓\n",
            "epoch : 229 iter : 12 (4m 0s) 0.5433  / 32 ✓\n",
            "epoch : 236 iter : 8 (4m 7s) 0.7746  / 40 ✓\n",
            "epoch : 243 iter : 4 (4m 14s) 0.8902  / 24 ✓\n",
            "epoch : 250 iter : 0 (4m 22s) 0.3460  / 32 ✓\n",
            "epoch : 256 iter : 68 (4m 29s) 0.6213  / 48 ✓\n",
            "epoch : 263 iter : 64 (4m 36s) 0.7917  / 22 ✓\n",
            "epoch : 270 iter : 60 (4m 43s) 0.8088  / 48 ✓\n",
            "epoch : 277 iter : 56 (4m 51s) 0.2113  / 10 ✓\n",
            "epoch : 284 iter : 52 (4m 58s) 0.8249  / 10 ✓\n",
            "epoch : 291 iter : 48 (5m 5s) 0.6542  / 22 ✓\n",
            "epoch : 298 iter : 44 (5m 12s) 0.1480  / 23 ✓\n",
            "epoch : 305 iter : 40 (5m 20s) 0.2762  / 48 ✓\n",
            "epoch : 312 iter : 36 (5m 27s) 0.0842  / 24 ✓\n",
            "epoch : 319 iter : 32 (5m 34s) 0.2148  / 8 ✗ (16)\n",
            "epoch : 326 iter : 28 (5m 41s) 0.4195  / 10 ✗ (32)\n",
            "epoch : 333 iter : 24 (5m 49s) 0.0634  / 16 ✓\n",
            "epoch : 340 iter : 20 (5m 56s) 0.0746  / 40 ✓\n",
            "epoch : 347 iter : 16 (6m 3s) 0.0781  / 22 ✓\n",
            "epoch : 354 iter : 12 (6m 10s) 0.1908  / 40 ✓\n",
            "epoch : 361 iter : 8 (6m 18s) 0.3795  / 32 ✗ (10)\n",
            "epoch : 368 iter : 4 (6m 25s) 0.0431  / 48 ✓\n",
            "epoch : 375 iter : 0 (6m 32s) 0.0929  / 24 ✓\n",
            "epoch : 381 iter : 68 (6m 40s) 0.6807  / 22 ✓\n",
            "epoch : 388 iter : 64 (6m 47s) 0.1392  / 8 ✓\n",
            "epoch : 395 iter : 60 (6m 54s) 0.2494  / 10 ✓\n",
            "epoch : 402 iter : 56 (7m 1s) 0.0328  / 32 ✓\n",
            "epoch : 409 iter : 52 (7m 9s) 0.0355  / 8 ✓\n",
            "epoch : 416 iter : 48 (7m 16s) 0.0025  / 8 ✓\n",
            "epoch : 423 iter : 44 (7m 23s) 0.0100  / 16 ✓\n",
            "epoch : 430 iter : 40 (7m 30s) 0.8774  / 10 ✗ (32)\n",
            "epoch : 437 iter : 36 (7m 37s) 0.2101  / 56 ✓\n",
            "epoch : 444 iter : 32 (7m 45s) 0.0318  / 56 ✓\n",
            "epoch : 451 iter : 28 (7m 52s) 0.0108  / 23 ✓\n",
            "epoch : 458 iter : 24 (7m 59s) 0.0141  / 16 ✓\n",
            "epoch : 465 iter : 20 (8m 6s) 0.0161  / 16 ✓\n",
            "epoch : 472 iter : 16 (8m 14s) 0.0102  / 16 ✓\n",
            "epoch : 479 iter : 12 (8m 21s) 0.0039  / 32 ✓\n",
            "epoch : 486 iter : 8 (8m 28s) 0.0670  / 16 ✓\n",
            "epoch : 493 iter : 4 (8m 35s) 0.1755  / 22 ✓\n",
            "epoch : 500 iter : 0 (8m 42s) 0.0044  / 22 ✓\n",
            "epoch : 506 iter : 68 (8m 50s) 0.0072  / 40 ✓\n",
            "epoch : 513 iter : 64 (8m 57s) 0.0042  / 56 ✓\n",
            "epoch : 520 iter : 60 (9m 4s) 0.0067  / 10 ✓\n",
            "epoch : 527 iter : 56 (9m 11s) 0.0037  / 16 ✓\n",
            "epoch : 534 iter : 52 (9m 19s) 0.0052  / 48 ✓\n",
            "epoch : 541 iter : 48 (9m 26s) 0.0047  / 10 ✓\n",
            "epoch : 548 iter : 44 (9m 33s) 0.0061  / 10 ✓\n",
            "epoch : 555 iter : 40 (9m 40s) 0.0590  / 22 ✓\n",
            "epoch : 562 iter : 36 (9m 48s) 0.0066  / 56 ✓\n",
            "epoch : 569 iter : 32 (9m 55s) 0.0719  / 24 ✓\n",
            "epoch : 576 iter : 28 (10m 2s) 0.0029  / 40 ✓\n",
            "epoch : 583 iter : 24 (10m 9s) 0.0019  / 23 ✓\n",
            "epoch : 590 iter : 20 (10m 17s) 0.0032  / 32 ✓\n",
            "epoch : 597 iter : 16 (10m 24s) 0.0024  / 32 ✓\n",
            "Accuracy of the network:   64.30446194225722\n"
          ],
          "name": "stdout"
        },
        {
          "output_type": "display_data",
          "data": {
            "image/png": "[encoded data removed]",
            "text/plain": [
              "<Figure size 432x288 with 1 Axes>"
            ]
          },
          "metadata": {
            "tags": [],
            "needs_background": "light"
          }
        }
      ]
    },
    {
      "cell_type": "markdown",
      "metadata": {
        "id": "-QUIwimt6Obl"
      },
      "source": [
        "#### Результаты:"
      ]
    },
    {
      "cell_type": "markdown",
      "metadata": {
        "id": "YPSuVa8NvKUl"
      },
      "source": [
        "40: 65.45961002785515     \n",
        "35: 66.66666666666667     \n",
        "25: 64.56692913385827     \n",
        "20: 64.30446194225722"
      ]
    },
    {
      "cell_type": "markdown",
      "metadata": {
        "id": "sARIWAYz6pOJ"
      },
      "source": [
        "### Посчитаем еще для 30"
      ]
    },
    {
      "cell_type": "code",
      "metadata": {
        "colab": {
          "base_uri": "https://localhost:8080/",
          "height": 1000
        },
        "id": "8hR3cCoCdbB9",
        "outputId": "3b16a741-222e-4ea4-f0d2-b4310913e1bd"
      },
      "source": [
        "filter_params['chonk_len'] = 30\n",
        "dataset = Skeleton_Dataset(zip_file_path = DATA_ZIP, broken_files_path=broken_files_path, filter_params=filter_params)\n",
        "train_dataset, test_dataset = torch.utils.data.random_split(dataset, [int(0.75*len(dataset)), len(dataset) - int(0.75*len(dataset))])\n",
        "train_loader = DataLoader(train_dataset, batch_size = 16, shuffle=True)\n",
        "test_loader = DataLoader(test_dataset, batch_size = 1, shuffle=True)\n",
        "\n",
        "n_hidden = 128\n",
        "n_joints = 25*3\n",
        "LABELS = dataset.LABELS\n",
        "n_categories = len(LABELS)\n",
        "n_layer = 2\n",
        "rnn = LSTM_net(n_joints, n_hidden, n_categories, n_layer)\n",
        "rnn.to(device)\n",
        "\n",
        "train_and_eval()"
      ],
      "execution_count": null,
      "outputs": [
        {
          "output_type": "stream",
          "text": [
            "action classes:  {32: 0, 56: 1, 8: 2, 22: 3, 16: 4, 24: 5, 48: 6, 40: 7, 10: 8, 23: 9}\n",
            "action files:  {32: 120, 56: 120, 8: 120, 22: 120, 16: 120, 24: 120, 48: 120, 40: 120, 10: 120, 23: 120}\n",
            "epoch : 0 iter : 0 (0m 0s) 2.2519  / 22 ✗ (32)\n",
            "epoch : 6 iter : 68 (0m 9s) 2.2862  / 16 ✗ (22)\n",
            "epoch : 13 iter : 64 (0m 19s) 2.2513  / 22 ✗ (10)\n",
            "epoch : 20 iter : 60 (0m 28s) 2.1667  / 22 ✓\n",
            "epoch : 27 iter : 56 (0m 38s) 1.9723  / 24 ✗ (56)\n",
            "epoch : 34 iter : 52 (0m 47s) 1.8245  / 24 ✓\n",
            "epoch : 41 iter : 48 (0m 57s) 1.6744  / 16 ✗ (23)\n",
            "epoch : 48 iter : 44 (1m 7s) 2.0327  / 56 ✗ (40)\n",
            "epoch : 55 iter : 40 (1m 16s) 1.5438  / 22 ✓\n",
            "epoch : 62 iter : 36 (1m 26s) 1.6098  / 16 ✓\n",
            "epoch : 69 iter : 32 (1m 35s) 1.4082  / 56 ✗ (48)\n",
            "epoch : 76 iter : 28 (1m 45s) 1.4806  / 40 ✓\n",
            "epoch : 83 iter : 24 (1m 55s) 1.8350  / 23 ✗ (22)\n",
            "epoch : 90 iter : 20 (2m 4s) 1.0732  / 8 ✓\n",
            "epoch : 97 iter : 16 (2m 14s) 1.6581  / 56 ✓\n",
            "epoch : 104 iter : 12 (2m 23s) 1.6505  / 56 ✗ (32)\n",
            "epoch : 111 iter : 8 (2m 33s) 0.9749  / 48 ✓\n",
            "epoch : 118 iter : 4 (2m 43s) 1.1333  / 16 ✓\n",
            "epoch : 125 iter : 0 (2m 52s) 0.7645  / 8 ✓\n",
            "epoch : 131 iter : 68 (3m 2s) 1.1804  / 56 ✓\n",
            "epoch : 138 iter : 64 (3m 11s) 0.8779  / 10 ✓\n",
            "epoch : 145 iter : 60 (3m 21s) 1.4896  / 16 ✓\n",
            "epoch : 152 iter : 56 (3m 31s) 1.2335  / 32 ✗ (10)\n",
            "epoch : 159 iter : 52 (3m 40s) 0.8087  / 56 ✓\n",
            "epoch : 166 iter : 48 (3m 50s) 1.2367  / 40 ✗ (22)\n",
            "epoch : 173 iter : 44 (3m 59s) 0.9906  / 40 ✓\n",
            "epoch : 180 iter : 40 (4m 9s) 1.0183  / 48 ✓\n",
            "epoch : 187 iter : 36 (4m 19s) 0.5516  / 40 ✓\n",
            "epoch : 194 iter : 32 (4m 28s) 1.5661  / 8 ✓\n",
            "epoch : 201 iter : 28 (4m 38s) 1.2532  / 24 ✓\n",
            "epoch : 208 iter : 24 (4m 48s) 0.6830  / 56 ✓\n",
            "epoch : 215 iter : 20 (4m 57s) 1.0266  / 10 ✓\n",
            "epoch : 222 iter : 16 (5m 7s) 0.5198  / 8 ✓\n",
            "epoch : 229 iter : 12 (5m 16s) 1.3825  / 8 ✗ (24)\n",
            "epoch : 236 iter : 8 (5m 26s) 0.8151  / 56 ✗ (32)\n",
            "epoch : 243 iter : 4 (5m 36s) 0.4047  / 8 ✓\n",
            "epoch : 250 iter : 0 (5m 45s) 1.6629  / 32 ✓\n",
            "epoch : 256 iter : 68 (5m 55s) 1.0672  / 24 ✓\n",
            "epoch : 263 iter : 64 (6m 4s) 0.5543  / 8 ✓\n",
            "epoch : 270 iter : 60 (6m 14s) 0.7291  / 32 ✓\n",
            "epoch : 277 iter : 56 (6m 23s) 0.2446  / 10 ✓\n",
            "epoch : 284 iter : 52 (6m 33s) 0.5552  / 56 ✗ (24)\n",
            "epoch : 291 iter : 48 (6m 43s) 0.4737  / 56 ✗ (24)\n",
            "epoch : 298 iter : 44 (6m 52s) 0.7991  / 8 ✓\n",
            "epoch : 305 iter : 40 (7m 2s) 0.2716  / 56 ✓\n",
            "epoch : 312 iter : 36 (7m 11s) 1.4726  / 56 ✓\n",
            "epoch : 319 iter : 32 (7m 21s) 0.3933  / 16 ✓\n",
            "epoch : 326 iter : 28 (7m 31s) 0.2810  / 24 ✓\n",
            "epoch : 333 iter : 24 (7m 40s) 0.4291  / 32 ✗ (10)\n",
            "epoch : 340 iter : 20 (7m 50s) 0.3828  / 8 ✓\n",
            "epoch : 347 iter : 16 (7m 59s) 0.1302  / 56 ✓\n",
            "epoch : 354 iter : 12 (8m 9s) 0.0891  / 10 ✓\n",
            "epoch : 361 iter : 8 (8m 19s) 0.2732  / 10 ✗ (40)\n",
            "epoch : 368 iter : 4 (8m 28s) 0.1410  / 10 ✓\n",
            "epoch : 375 iter : 0 (8m 38s) 0.0855  / 24 ✓\n",
            "epoch : 381 iter : 68 (8m 47s) 0.2313  / 48 ✓\n",
            "epoch : 388 iter : 64 (8m 57s) 0.1638  / 40 ✓\n",
            "epoch : 395 iter : 60 (9m 6s) 1.0417  / 16 ✓\n",
            "epoch : 402 iter : 56 (9m 16s) 0.2440  / 16 ✓\n",
            "epoch : 409 iter : 52 (9m 26s) 0.1833  / 56 ✓\n",
            "epoch : 416 iter : 48 (9m 35s) 0.1179  / 16 ✓\n",
            "epoch : 423 iter : 44 (9m 45s) 0.5787  / 22 ✓\n",
            "epoch : 430 iter : 40 (9m 55s) 0.3865  / 16 ✓\n",
            "epoch : 437 iter : 36 (10m 4s) 0.0425  / 23 ✓\n",
            "epoch : 444 iter : 32 (10m 14s) 0.0274  / 10 ✓\n",
            "epoch : 451 iter : 28 (10m 23s) 0.3842  / 32 ✓\n",
            "epoch : 458 iter : 24 (10m 33s) 0.1126  / 40 ✓\n",
            "epoch : 465 iter : 20 (10m 42s) 0.0686  / 56 ✓\n",
            "epoch : 472 iter : 16 (10m 52s) 0.0606  / 8 ✓\n",
            "epoch : 479 iter : 12 (11m 2s) 0.1836  / 40 ✓\n",
            "epoch : 486 iter : 8 (11m 11s) 0.1474  / 40 ✓\n",
            "epoch : 493 iter : 4 (11m 21s) 0.4326  / 32 ✓\n",
            "epoch : 500 iter : 0 (11m 30s) 0.5570  / 40 ✓\n",
            "epoch : 506 iter : 68 (11m 40s) 0.0668  / 10 ✓\n",
            "epoch : 513 iter : 64 (11m 49s) 0.0246  / 32 ✓\n",
            "epoch : 520 iter : 60 (11m 59s) 0.0284  / 23 ✓\n",
            "epoch : 527 iter : 56 (12m 9s) 0.0263  / 16 ✓\n",
            "epoch : 534 iter : 52 (12m 18s) 0.0106  / 22 ✓\n",
            "epoch : 541 iter : 48 (12m 28s) 0.0165  / 10 ✓\n",
            "epoch : 548 iter : 44 (12m 37s) 0.0165  / 22 ✓\n",
            "epoch : 555 iter : 40 (12m 47s) 0.0139  / 16 ✓\n",
            "epoch : 562 iter : 36 (12m 56s) 0.0049  / 23 ✓\n",
            "epoch : 569 iter : 32 (13m 6s) 0.0035  / 56 ✓\n",
            "epoch : 576 iter : 28 (13m 16s) 0.0062  / 16 ✓\n",
            "epoch : 583 iter : 24 (13m 25s) 0.0069  / 10 ✓\n",
            "epoch : 590 iter : 20 (13m 35s) 0.0106  / 56 ✓\n",
            "epoch : 597 iter : 16 (13m 45s) 0.0082  / 32 ✓\n",
            "Accuracy of the network:   66.05263157894737\n"
          ],
          "name": "stdout"
        },
        {
          "output_type": "display_data",
          "data": {
            "image/png": "[encoded data removed]",
            "text/plain": [
              "<Figure size 432x288 with 1 Axes>"
            ]
          },
          "metadata": {
            "tags": [],
            "needs_background": "light"
          }
        }
      ]
    },
    {
      "cell_type": "markdown",
      "metadata": {
        "id": "qY61MqgE9w3v"
      },
      "source": [
        "#### Лучший результат достигнут на 35 кадрах"
      ]
    },
    {
      "cell_type": "code",
      "metadata": {
        "id": "HhqtUNzy6oAk"
      },
      "source": [
        ""
      ],
      "execution_count": null,
      "outputs": []
    }
  ]
}